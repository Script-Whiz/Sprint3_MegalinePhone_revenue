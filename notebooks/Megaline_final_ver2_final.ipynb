{
 "cells": [
  {
   "cell_type": "markdown",
   "id": "731d2c71-e7e9-48ae-a33d-fae2716282a3",
   "metadata": {},
   "source": [
    "# Which Megaline plan is better?\n",
    "The commercial department, for the telecom operator, Megaline, wants to know which of the plans brings in more revenue, in order to adjust their advertising budget. The company offers its clients two prepaid plans:\n",
    "\n",
    "- Surf \n",
    "- Ultimate\n"
   ]
  },
  {
   "cell_type": "markdown",
   "id": "00d4c830-25f9-492e-9fc3-2b37e4dc79bc",
   "metadata": {},
   "source": [
    "## I will analyze the data, based on 500 Megaline clients, for the year of 2018, and seek to find:\n",
    "- which prepaid plan brings in more revenue\n",
    "- number of calls made\n",
    "- minutes used per month\n",
    "- number of text messages sent per month\n",
    "- volume of data per month\n",
    "- monthly revenue from each user\n",
    "\n",
    "### I also want to use hypthesis testing to find out:\n",
    "- how the average revenue from the two plans differ\n",
    "- how the revenue from users in these regions differ from other regions:\n",
    "  - New York\n",
    "  - New Jersey\n",
    "\n",
    "\n",
    "### I will also create visual graphs to plot the distribution of data."
   ]
  },
  {
   "cell_type": "markdown",
   "id": "2ccede61-389f-4cac-9320-d99852be415e",
   "metadata": {},
   "source": [
    "<h2 style=\"color: red;\">Initialization.</h2>"
   ]
  },
  {
   "cell_type": "code",
   "execution_count": 539,
   "id": "9c430166-3bd3-4f1f-ac52-9cefd73e7d55",
   "metadata": {},
   "outputs": [],
   "source": [
    "# Load in libraries\n",
    "import pandas as pd\n",
    "from IPython.display import HTML, display\n",
    "import numpy as np\n",
    "from matplotlib import pyplot as plt\n",
    "import seaborn as sns\n",
    "import warnings\n",
    "from cycler import cycler\n",
    "import scipy.stats as st"
   ]
  },
  {
   "cell_type": "code",
   "execution_count": 540,
   "id": "3c2bf20c-ccc7-4224-8574-a27993821f5c",
   "metadata": {},
   "outputs": [],
   "source": [
    "#Create a function to save time when displaying comments\n",
    "def show_html_output(text):\n",
    "    display(HTML(f\"<div style='color: hotpink;'><b>{text}</b></div>\"))"
   ]
  },
  {
   "cell_type": "code",
   "execution_count": 541,
   "id": "946f926e-f279-404c-b3b5-e815197e8a5f",
   "metadata": {},
   "outputs": [
    {
     "data": {
      "text/html": [
       "<div style='color: hotpink;'><b>Load in the 5 data sets:</b></div>"
      ],
      "text/plain": [
       "<IPython.core.display.HTML object>"
      ]
     },
     "metadata": {},
     "output_type": "display_data"
    }
   ],
   "source": [
    "# Call the new HTML function :\n",
    "show_html_output(f\"Load in the 5 data sets:\")"
   ]
  },
  {
   "cell_type": "code",
   "execution_count": 542,
   "id": "83e71d63-73db-40d9-a130-a33fb82a7bc9",
   "metadata": {},
   "outputs": [
    {
     "data": {
      "text/html": [
       "<div>\n",
       "<style scoped>\n",
       "    .dataframe tbody tr th:only-of-type {\n",
       "        vertical-align: middle;\n",
       "    }\n",
       "\n",
       "    .dataframe tbody tr th {\n",
       "        vertical-align: top;\n",
       "    }\n",
       "\n",
       "    .dataframe thead th {\n",
       "        text-align: right;\n",
       "    }\n",
       "</style>\n",
       "<table border=\"1\" class=\"dataframe\">\n",
       "  <thead>\n",
       "    <tr style=\"text-align: right;\">\n",
       "      <th></th>\n",
       "      <th>messages_included</th>\n",
       "      <th>mb_per_month_included</th>\n",
       "      <th>minutes_included</th>\n",
       "      <th>usd_monthly_pay</th>\n",
       "      <th>usd_per_gb</th>\n",
       "      <th>usd_per_message</th>\n",
       "      <th>usd_per_minute</th>\n",
       "      <th>plan_name</th>\n",
       "    </tr>\n",
       "  </thead>\n",
       "  <tbody>\n",
       "    <tr>\n",
       "      <th>0</th>\n",
       "      <td>50</td>\n",
       "      <td>15360</td>\n",
       "      <td>500</td>\n",
       "      <td>20</td>\n",
       "      <td>10</td>\n",
       "      <td>0.03</td>\n",
       "      <td>0.03</td>\n",
       "      <td>surf</td>\n",
       "    </tr>\n",
       "    <tr>\n",
       "      <th>1</th>\n",
       "      <td>1000</td>\n",
       "      <td>30720</td>\n",
       "      <td>3000</td>\n",
       "      <td>70</td>\n",
       "      <td>7</td>\n",
       "      <td>0.01</td>\n",
       "      <td>0.01</td>\n",
       "      <td>ultimate</td>\n",
       "    </tr>\n",
       "  </tbody>\n",
       "</table>\n",
       "</div>"
      ],
      "text/plain": [
       "   messages_included  mb_per_month_included  minutes_included  \\\n",
       "0                 50                  15360               500   \n",
       "1               1000                  30720              3000   \n",
       "\n",
       "   usd_monthly_pay  usd_per_gb  usd_per_message  usd_per_minute plan_name  \n",
       "0               20          10             0.03            0.03      surf  \n",
       "1               70           7             0.01            0.01  ultimate  "
      ]
     },
     "metadata": {},
     "output_type": "display_data"
    }
   ],
   "source": [
    "# Load in Plans data set\n",
    "plans = pd.read_csv('../datasets/megaline_plans.csv')\n",
    "display(plans.head(3))"
   ]
  },
  {
   "cell_type": "code",
   "execution_count": 543,
   "id": "9d49e383-f63f-4a72-858f-a1151978589b",
   "metadata": {},
   "outputs": [
    {
     "data": {
      "text/html": [
       "<div>\n",
       "<style scoped>\n",
       "    .dataframe tbody tr th:only-of-type {\n",
       "        vertical-align: middle;\n",
       "    }\n",
       "\n",
       "    .dataframe tbody tr th {\n",
       "        vertical-align: top;\n",
       "    }\n",
       "\n",
       "    .dataframe thead th {\n",
       "        text-align: right;\n",
       "    }\n",
       "</style>\n",
       "<table border=\"1\" class=\"dataframe\">\n",
       "  <thead>\n",
       "    <tr style=\"text-align: right;\">\n",
       "      <th></th>\n",
       "      <th>user_id</th>\n",
       "      <th>first_name</th>\n",
       "      <th>last_name</th>\n",
       "      <th>age</th>\n",
       "      <th>city</th>\n",
       "      <th>reg_date</th>\n",
       "      <th>plan</th>\n",
       "      <th>churn_date</th>\n",
       "    </tr>\n",
       "  </thead>\n",
       "  <tbody>\n",
       "    <tr>\n",
       "      <th>0</th>\n",
       "      <td>1000</td>\n",
       "      <td>Anamaria</td>\n",
       "      <td>Bauer</td>\n",
       "      <td>45</td>\n",
       "      <td>Atlanta-Sandy Springs-Roswell, GA MSA</td>\n",
       "      <td>2018-12-24</td>\n",
       "      <td>ultimate</td>\n",
       "      <td>NaN</td>\n",
       "    </tr>\n",
       "    <tr>\n",
       "      <th>1</th>\n",
       "      <td>1001</td>\n",
       "      <td>Mickey</td>\n",
       "      <td>Wilkerson</td>\n",
       "      <td>28</td>\n",
       "      <td>Seattle-Tacoma-Bellevue, WA MSA</td>\n",
       "      <td>2018-08-13</td>\n",
       "      <td>surf</td>\n",
       "      <td>NaN</td>\n",
       "    </tr>\n",
       "    <tr>\n",
       "      <th>2</th>\n",
       "      <td>1002</td>\n",
       "      <td>Carlee</td>\n",
       "      <td>Hoffman</td>\n",
       "      <td>36</td>\n",
       "      <td>Las Vegas-Henderson-Paradise, NV MSA</td>\n",
       "      <td>2018-10-21</td>\n",
       "      <td>surf</td>\n",
       "      <td>NaN</td>\n",
       "    </tr>\n",
       "  </tbody>\n",
       "</table>\n",
       "</div>"
      ],
      "text/plain": [
       "   user_id first_name  last_name  age                                   city  \\\n",
       "0     1000   Anamaria      Bauer   45  Atlanta-Sandy Springs-Roswell, GA MSA   \n",
       "1     1001     Mickey  Wilkerson   28        Seattle-Tacoma-Bellevue, WA MSA   \n",
       "2     1002     Carlee    Hoffman   36   Las Vegas-Henderson-Paradise, NV MSA   \n",
       "\n",
       "     reg_date      plan churn_date  \n",
       "0  2018-12-24  ultimate        NaN  \n",
       "1  2018-08-13      surf        NaN  \n",
       "2  2018-10-21      surf        NaN  "
      ]
     },
     "metadata": {},
     "output_type": "display_data"
    }
   ],
   "source": [
    "# Load in Users data set\n",
    "users = pd.read_csv('../datasets/megaline_users.csv')\n",
    "display(users.head(3))"
   ]
  },
  {
   "cell_type": "code",
   "execution_count": 544,
   "id": "90a36493-17b7-48da-8e03-b4e679e62c93",
   "metadata": {},
   "outputs": [
    {
     "data": {
      "text/html": [
       "<div style='color: hotpink;'><b>The city column in the users dataframe, is a mess. This will need to be cleaned up.</b></div>"
      ],
      "text/plain": [
       "<IPython.core.display.HTML object>"
      ]
     },
     "metadata": {},
     "output_type": "display_data"
    }
   ],
   "source": [
    "show_html_output(f\"The city column in the users dataframe, is a mess. This will need to be cleaned up.\")"
   ]
  },
  {
   "cell_type": "code",
   "execution_count": 545,
   "id": "1fe6d3e2-88ad-4c37-96d3-f76ed6401b26",
   "metadata": {},
   "outputs": [
    {
     "data": {
      "text/html": [
       "<div>\n",
       "<style scoped>\n",
       "    .dataframe tbody tr th:only-of-type {\n",
       "        vertical-align: middle;\n",
       "    }\n",
       "\n",
       "    .dataframe tbody tr th {\n",
       "        vertical-align: top;\n",
       "    }\n",
       "\n",
       "    .dataframe thead th {\n",
       "        text-align: right;\n",
       "    }\n",
       "</style>\n",
       "<table border=\"1\" class=\"dataframe\">\n",
       "  <thead>\n",
       "    <tr style=\"text-align: right;\">\n",
       "      <th></th>\n",
       "      <th>id</th>\n",
       "      <th>user_id</th>\n",
       "      <th>call_date</th>\n",
       "      <th>duration</th>\n",
       "    </tr>\n",
       "  </thead>\n",
       "  <tbody>\n",
       "    <tr>\n",
       "      <th>0</th>\n",
       "      <td>1000_93</td>\n",
       "      <td>1000</td>\n",
       "      <td>2018-12-27</td>\n",
       "      <td>8.52</td>\n",
       "    </tr>\n",
       "    <tr>\n",
       "      <th>1</th>\n",
       "      <td>1000_145</td>\n",
       "      <td>1000</td>\n",
       "      <td>2018-12-27</td>\n",
       "      <td>13.66</td>\n",
       "    </tr>\n",
       "    <tr>\n",
       "      <th>2</th>\n",
       "      <td>1000_247</td>\n",
       "      <td>1000</td>\n",
       "      <td>2018-12-27</td>\n",
       "      <td>14.48</td>\n",
       "    </tr>\n",
       "  </tbody>\n",
       "</table>\n",
       "</div>"
      ],
      "text/plain": [
       "         id  user_id   call_date  duration\n",
       "0   1000_93     1000  2018-12-27      8.52\n",
       "1  1000_145     1000  2018-12-27     13.66\n",
       "2  1000_247     1000  2018-12-27     14.48"
      ]
     },
     "metadata": {},
     "output_type": "display_data"
    }
   ],
   "source": [
    "# Load in Calls data set\n",
    "calls = pd.read_csv('../datasets/megaline_calls.csv')\n",
    "display(calls.head(3))"
   ]
  },
  {
   "cell_type": "code",
   "execution_count": 546,
   "id": "e9df8cf4-bb76-46af-90a6-0ac58652555b",
   "metadata": {},
   "outputs": [
    {
     "data": {
      "text/html": [
       "<div>\n",
       "<style scoped>\n",
       "    .dataframe tbody tr th:only-of-type {\n",
       "        vertical-align: middle;\n",
       "    }\n",
       "\n",
       "    .dataframe tbody tr th {\n",
       "        vertical-align: top;\n",
       "    }\n",
       "\n",
       "    .dataframe thead th {\n",
       "        text-align: right;\n",
       "    }\n",
       "</style>\n",
       "<table border=\"1\" class=\"dataframe\">\n",
       "  <thead>\n",
       "    <tr style=\"text-align: right;\">\n",
       "      <th></th>\n",
       "      <th>id</th>\n",
       "      <th>user_id</th>\n",
       "      <th>message_date</th>\n",
       "    </tr>\n",
       "  </thead>\n",
       "  <tbody>\n",
       "    <tr>\n",
       "      <th>0</th>\n",
       "      <td>1000_125</td>\n",
       "      <td>1000</td>\n",
       "      <td>2018-12-27</td>\n",
       "    </tr>\n",
       "    <tr>\n",
       "      <th>1</th>\n",
       "      <td>1000_160</td>\n",
       "      <td>1000</td>\n",
       "      <td>2018-12-31</td>\n",
       "    </tr>\n",
       "    <tr>\n",
       "      <th>2</th>\n",
       "      <td>1000_223</td>\n",
       "      <td>1000</td>\n",
       "      <td>2018-12-31</td>\n",
       "    </tr>\n",
       "  </tbody>\n",
       "</table>\n",
       "</div>"
      ],
      "text/plain": [
       "         id  user_id message_date\n",
       "0  1000_125     1000   2018-12-27\n",
       "1  1000_160     1000   2018-12-31\n",
       "2  1000_223     1000   2018-12-31"
      ]
     },
     "metadata": {},
     "output_type": "display_data"
    }
   ],
   "source": [
    "# Load in Messages data set\n",
    "messages = pd.read_csv('../datasets/megaline_messages.csv')\n",
    "display(messages.head(3))"
   ]
  },
  {
   "cell_type": "code",
   "execution_count": 547,
   "id": "07f88f12-1222-4ee6-9298-8eb9b40dbbe8",
   "metadata": {},
   "outputs": [
    {
     "data": {
      "text/html": [
       "<div>\n",
       "<style scoped>\n",
       "    .dataframe tbody tr th:only-of-type {\n",
       "        vertical-align: middle;\n",
       "    }\n",
       "\n",
       "    .dataframe tbody tr th {\n",
       "        vertical-align: top;\n",
       "    }\n",
       "\n",
       "    .dataframe thead th {\n",
       "        text-align: right;\n",
       "    }\n",
       "</style>\n",
       "<table border=\"1\" class=\"dataframe\">\n",
       "  <thead>\n",
       "    <tr style=\"text-align: right;\">\n",
       "      <th></th>\n",
       "      <th>id</th>\n",
       "      <th>user_id</th>\n",
       "      <th>session_date</th>\n",
       "      <th>mb_used</th>\n",
       "    </tr>\n",
       "  </thead>\n",
       "  <tbody>\n",
       "    <tr>\n",
       "      <th>0</th>\n",
       "      <td>1000_13</td>\n",
       "      <td>1000</td>\n",
       "      <td>2018-12-29</td>\n",
       "      <td>89.86</td>\n",
       "    </tr>\n",
       "    <tr>\n",
       "      <th>1</th>\n",
       "      <td>1000_204</td>\n",
       "      <td>1000</td>\n",
       "      <td>2018-12-31</td>\n",
       "      <td>0.00</td>\n",
       "    </tr>\n",
       "    <tr>\n",
       "      <th>2</th>\n",
       "      <td>1000_379</td>\n",
       "      <td>1000</td>\n",
       "      <td>2018-12-28</td>\n",
       "      <td>660.40</td>\n",
       "    </tr>\n",
       "  </tbody>\n",
       "</table>\n",
       "</div>"
      ],
      "text/plain": [
       "         id  user_id session_date  mb_used\n",
       "0   1000_13     1000   2018-12-29    89.86\n",
       "1  1000_204     1000   2018-12-31     0.00\n",
       "2  1000_379     1000   2018-12-28   660.40"
      ]
     },
     "metadata": {},
     "output_type": "display_data"
    }
   ],
   "source": [
    "# Load in Internet data set\n",
    "internet = pd.read_csv('../datasets/megaline_internet.csv')\n",
    "display(internet.head(3))"
   ]
  },
  {
   "cell_type": "markdown",
   "id": "9aa3b123-7ef5-4fdb-8fac-43883db1fac0",
   "metadata": {},
   "source": [
    "<div class=\"alert alert-info\"><font color='hotpink'>\n",
    "<b>Reading in the data sets:</b>\n",
    "<br>\n",
    "- I read in each data set.\n",
    "<br>\n",
    "- I displayed each dataframe to make sure that the files were not separated by semicolons (;). They were not, so I did not have to use sep=\";\"\n",
    "<br>\n",
    "</div></font color>"
   ]
  },
  {
   "cell_type": "markdown",
   "id": "e2c30570-d766-410c-b7d0-333a1aca8bcd",
   "metadata": {},
   "source": [
    "<h2 style=\"color: red;\">Prepare the data</h2>"
   ]
  },
  {
   "cell_type": "markdown",
   "id": "c81f4c4a-7052-4d54-afdb-41431669ced5",
   "metadata": {},
   "source": [
    "## <span style=\"color: hotpink;\">Plans dataframe</span>"
   ]
  },
  {
   "cell_type": "markdown",
   "id": "392fd5da-6ea9-4045-8d28-17f5dbcbaa18",
   "metadata": {},
   "source": [
    "### Inspect the data"
   ]
  },
  {
   "cell_type": "code",
   "execution_count": 552,
   "id": "fad0aebe-2c73-49da-8552-f039223c541b",
   "metadata": {},
   "outputs": [
    {
     "data": {
      "text/html": [
       "<div>\n",
       "<style scoped>\n",
       "    .dataframe tbody tr th:only-of-type {\n",
       "        vertical-align: middle;\n",
       "    }\n",
       "\n",
       "    .dataframe tbody tr th {\n",
       "        vertical-align: top;\n",
       "    }\n",
       "\n",
       "    .dataframe thead th {\n",
       "        text-align: right;\n",
       "    }\n",
       "</style>\n",
       "<table border=\"1\" class=\"dataframe\">\n",
       "  <thead>\n",
       "    <tr style=\"text-align: right;\">\n",
       "      <th></th>\n",
       "      <th>messages_included</th>\n",
       "      <th>mb_per_month_included</th>\n",
       "      <th>minutes_included</th>\n",
       "      <th>usd_monthly_pay</th>\n",
       "      <th>usd_per_gb</th>\n",
       "      <th>usd_per_message</th>\n",
       "      <th>usd_per_minute</th>\n",
       "      <th>plan_name</th>\n",
       "    </tr>\n",
       "  </thead>\n",
       "  <tbody>\n",
       "    <tr>\n",
       "      <th>0</th>\n",
       "      <td>50</td>\n",
       "      <td>15360</td>\n",
       "      <td>500</td>\n",
       "      <td>20</td>\n",
       "      <td>10</td>\n",
       "      <td>0.03</td>\n",
       "      <td>0.03</td>\n",
       "      <td>surf</td>\n",
       "    </tr>\n",
       "    <tr>\n",
       "      <th>1</th>\n",
       "      <td>1000</td>\n",
       "      <td>30720</td>\n",
       "      <td>3000</td>\n",
       "      <td>70</td>\n",
       "      <td>7</td>\n",
       "      <td>0.01</td>\n",
       "      <td>0.01</td>\n",
       "      <td>ultimate</td>\n",
       "    </tr>\n",
       "  </tbody>\n",
       "</table>\n",
       "</div>"
      ],
      "text/plain": [
       "   messages_included  mb_per_month_included  minutes_included  \\\n",
       "0                 50                  15360               500   \n",
       "1               1000                  30720              3000   \n",
       "\n",
       "   usd_monthly_pay  usd_per_gb  usd_per_message  usd_per_minute plan_name  \n",
       "0               20          10             0.03            0.03      surf  \n",
       "1               70           7             0.01            0.01  ultimate  "
      ]
     },
     "metadata": {},
     "output_type": "display_data"
    }
   ],
   "source": [
    "display(plans.head(5))"
   ]
  },
  {
   "cell_type": "code",
   "execution_count": 553,
   "id": "e5a4a357-add0-417d-95c9-b4bc9d29ea0c",
   "metadata": {},
   "outputs": [
    {
     "data": {
      "text/plain": [
       "(2, 8)"
      ]
     },
     "execution_count": 553,
     "metadata": {},
     "output_type": "execute_result"
    }
   ],
   "source": [
    "plans.shape"
   ]
  },
  {
   "cell_type": "code",
   "execution_count": 554,
   "id": "df07f3f5-3d59-4ae3-bca7-3c3e4432aded",
   "metadata": {},
   "outputs": [
    {
     "data": {
      "text/html": [
       "<div style='color: hotpink;'><b>There are only 2 rows. This dataframe is a description of the two different plans. </b></div>"
      ],
      "text/plain": [
       "<IPython.core.display.HTML object>"
      ]
     },
     "metadata": {},
     "output_type": "display_data"
    }
   ],
   "source": [
    "show_html_output(f\"There are only 2 rows. This dataframe is a description of the two different plans. \")"
   ]
  },
  {
   "cell_type": "code",
   "execution_count": 555,
   "id": "aed722eb-081b-4d3c-9ba0-be536d20c45d",
   "metadata": {},
   "outputs": [
    {
     "data": {
      "text/plain": [
       "Index(['messages_included', 'mb_per_month_included', 'minutes_included',\n",
       "       'usd_monthly_pay', 'usd_per_gb', 'usd_per_message', 'usd_per_minute',\n",
       "       'plan_name'],\n",
       "      dtype='object')"
      ]
     },
     "execution_count": 555,
     "metadata": {},
     "output_type": "execute_result"
    }
   ],
   "source": [
    "plans.columns"
   ]
  },
  {
   "cell_type": "code",
   "execution_count": 556,
   "id": "f1a45640-bc06-4396-b037-578e422744dc",
   "metadata": {},
   "outputs": [
    {
     "name": "stdout",
     "output_type": "stream",
     "text": [
      "<class 'pandas.core.frame.DataFrame'>\n",
      "RangeIndex: 2 entries, 0 to 1\n",
      "Data columns (total 8 columns):\n",
      " #   Column                 Non-Null Count  Dtype  \n",
      "---  ------                 --------------  -----  \n",
      " 0   messages_included      2 non-null      int64  \n",
      " 1   mb_per_month_included  2 non-null      int64  \n",
      " 2   minutes_included       2 non-null      int64  \n",
      " 3   usd_monthly_pay        2 non-null      int64  \n",
      " 4   usd_per_gb             2 non-null      int64  \n",
      " 5   usd_per_message        2 non-null      float64\n",
      " 6   usd_per_minute         2 non-null      float64\n",
      " 7   plan_name              2 non-null      object \n",
      "dtypes: float64(2), int64(5), object(1)\n",
      "memory usage: 260.0+ bytes\n"
     ]
    }
   ],
   "source": [
    "plans.info()"
   ]
  },
  {
   "cell_type": "code",
   "execution_count": 557,
   "id": "9d12bb3d-6396-422c-a5c5-f70ecdd552bf",
   "metadata": {},
   "outputs": [],
   "source": [
    "# The datatypes look good. There is no missing data."
   ]
  },
  {
   "cell_type": "code",
   "execution_count": 558,
   "id": "ed89da85-c6dd-4ab0-b6c8-81e30cdd9104",
   "metadata": {},
   "outputs": [],
   "source": [
    "# some of the column names to be shorter names, so that the dataframe is not so wide."
   ]
  },
  {
   "cell_type": "code",
   "execution_count": 559,
   "id": "1a752661-095c-4655-be02-0ece64276050",
   "metadata": {},
   "outputs": [],
   "source": [
    "#plan_name needs to be renamed to match users dataframe"
   ]
  },
  {
   "cell_type": "code",
   "execution_count": 560,
   "id": "777fa58a-1bff-48e1-80e5-ffd544cefb38",
   "metadata": {},
   "outputs": [],
   "source": [
    "# Need to change mb_per_month_included to gb_per_month_included. Then change datatype to float."
   ]
  },
  {
   "cell_type": "markdown",
   "id": "b09b851b-07ee-4662-8b40-9c3f4208f732",
   "metadata": {},
   "source": [
    "### Clean the Plans dataframe"
   ]
  },
  {
   "cell_type": "code",
   "execution_count": 562,
   "id": "d84d0c34-47ff-45e0-a59f-545b92cea597",
   "metadata": {},
   "outputs": [
    {
     "name": "stdout",
     "output_type": "stream",
     "text": [
      "<class 'pandas.core.frame.DataFrame'>\n",
      "RangeIndex: 2 entries, 0 to 1\n",
      "Data columns (total 8 columns):\n",
      " #   Column                 Non-Null Count  Dtype  \n",
      "---  ------                 --------------  -----  \n",
      " 0   messages_included      2 non-null      int64  \n",
      " 1   mb_per_month_included  2 non-null      float64\n",
      " 2   minutes_included       2 non-null      int64  \n",
      " 3   usd_monthly_pay        2 non-null      int64  \n",
      " 4   usd_per_gb             2 non-null      int64  \n",
      " 5   usd_per_message        2 non-null      float64\n",
      " 6   usd_per_minute         2 non-null      float64\n",
      " 7   plan_name              2 non-null      object \n",
      "dtypes: float64(3), int64(4), object(1)\n",
      "memory usage: 260.0+ bytes\n"
     ]
    }
   ],
   "source": [
    "plans['mb_per_month_included'] = plans['mb_per_month_included'].astype(float)\n",
    "plans.info()"
   ]
  },
  {
   "cell_type": "code",
   "execution_count": 563,
   "id": "0946db39-9aed-425b-886b-27c7c8c0ca23",
   "metadata": {},
   "outputs": [
    {
     "data": {
      "text/html": [
       "<div style='color: hotpink;'><b>There are no missing rows in the Plans dataframe.</b></div>"
      ],
      "text/plain": [
       "<IPython.core.display.HTML object>"
      ]
     },
     "metadata": {},
     "output_type": "display_data"
    }
   ],
   "source": [
    "show_html_output(f\"There are no missing rows in the Plans dataframe.\")"
   ]
  },
  {
   "cell_type": "code",
   "execution_count": 564,
   "id": "83e2b61f-1162-4b4b-9e9b-020c4329dccb",
   "metadata": {},
   "outputs": [
    {
     "data": {
      "text/html": [
       "<div style='color: hotpink;'><b>Convert megabytes to gigabytes.</b></div>"
      ],
      "text/plain": [
       "<IPython.core.display.HTML object>"
      ]
     },
     "metadata": {},
     "output_type": "display_data"
    }
   ],
   "source": [
    "show_html_output(f\"Convert megabytes to gigabytes.\")"
   ]
  },
  {
   "cell_type": "code",
   "execution_count": 565,
   "id": "42f53451-37d6-4631-8569-4349b43bfbce",
   "metadata": {},
   "outputs": [],
   "source": [
    "plans['mb_per_month_included'] = plans['mb_per_month_included']  * .001"
   ]
  },
  {
   "cell_type": "code",
   "execution_count": 566,
   "id": "d0f8f73a-d4da-4812-a88f-d58a6bd62771",
   "metadata": {},
   "outputs": [
    {
     "data": {
      "text/html": [
       "<div>\n",
       "<style scoped>\n",
       "    .dataframe tbody tr th:only-of-type {\n",
       "        vertical-align: middle;\n",
       "    }\n",
       "\n",
       "    .dataframe tbody tr th {\n",
       "        vertical-align: top;\n",
       "    }\n",
       "\n",
       "    .dataframe thead th {\n",
       "        text-align: right;\n",
       "    }\n",
       "</style>\n",
       "<table border=\"1\" class=\"dataframe\">\n",
       "  <thead>\n",
       "    <tr style=\"text-align: right;\">\n",
       "      <th></th>\n",
       "      <th>messages_included</th>\n",
       "      <th>mb_per_month_included</th>\n",
       "      <th>minutes_included</th>\n",
       "      <th>usd_monthly_pay</th>\n",
       "      <th>usd_per_gb</th>\n",
       "      <th>usd_per_message</th>\n",
       "      <th>usd_per_minute</th>\n",
       "      <th>plan_name</th>\n",
       "    </tr>\n",
       "  </thead>\n",
       "  <tbody>\n",
       "    <tr>\n",
       "      <th>0</th>\n",
       "      <td>50</td>\n",
       "      <td>15.36</td>\n",
       "      <td>500</td>\n",
       "      <td>20</td>\n",
       "      <td>10</td>\n",
       "      <td>0.03</td>\n",
       "      <td>0.03</td>\n",
       "      <td>surf</td>\n",
       "    </tr>\n",
       "    <tr>\n",
       "      <th>1</th>\n",
       "      <td>1000</td>\n",
       "      <td>30.72</td>\n",
       "      <td>3000</td>\n",
       "      <td>70</td>\n",
       "      <td>7</td>\n",
       "      <td>0.01</td>\n",
       "      <td>0.01</td>\n",
       "      <td>ultimate</td>\n",
       "    </tr>\n",
       "  </tbody>\n",
       "</table>\n",
       "</div>"
      ],
      "text/plain": [
       "   messages_included  mb_per_month_included  minutes_included  \\\n",
       "0                 50                  15.36               500   \n",
       "1               1000                  30.72              3000   \n",
       "\n",
       "   usd_monthly_pay  usd_per_gb  usd_per_message  usd_per_minute plan_name  \n",
       "0               20          10             0.03            0.03      surf  \n",
       "1               70           7             0.01            0.01  ultimate  "
      ]
     },
     "metadata": {},
     "output_type": "display_data"
    }
   ],
   "source": [
    "display(plans)"
   ]
  },
  {
   "cell_type": "code",
   "execution_count": 567,
   "id": "a114e05c-398e-4a7b-a595-29b0fba381eb",
   "metadata": {},
   "outputs": [],
   "source": [
    "# Rename mb_per_month_included\n",
    "plans = plans.rename(columns={'mb_per_month_included': 'gb_included'})"
   ]
  },
  {
   "cell_type": "code",
   "execution_count": 568,
   "id": "86b4be55-f912-4d7f-a4a4-b26f74cce81b",
   "metadata": {},
   "outputs": [],
   "source": [
    "# Rename minutes_included\n",
    "plans = plans.rename(columns={'minutes_included': 'min_included'})"
   ]
  },
  {
   "cell_type": "code",
   "execution_count": 569,
   "id": "33dc6a0f-2e03-4ec3-a69c-1ac096ead173",
   "metadata": {},
   "outputs": [],
   "source": [
    "# Rename the column 'messages_included'\n",
    "plans = plans.rename(columns={'messages_included': 'msg_included'})"
   ]
  },
  {
   "cell_type": "code",
   "execution_count": 570,
   "id": "86d3688d-0361-4dc3-8c89-f5361eb242bd",
   "metadata": {},
   "outputs": [],
   "source": [
    "# Rename the usd_monthly_pay column\n",
    "plans = plans.rename(columns={'usd_monthly_pay': 'monthly_fee'})"
   ]
  },
  {
   "cell_type": "code",
   "execution_count": 571,
   "id": "a2f0560f-c63b-4ea3-a761-ea817b5618df",
   "metadata": {},
   "outputs": [],
   "source": [
    "# Rename the usd_per_gb\n",
    "plans = plans.rename(columns={'usd_per_gb': 'fee_per_gb'})"
   ]
  },
  {
   "cell_type": "code",
   "execution_count": 572,
   "id": "cf7eb36f-68a3-49d0-8ae4-d7bdb67e575f",
   "metadata": {},
   "outputs": [],
   "source": [
    "# Rename the usd_per_message\n",
    "plans = plans.rename(columns={'usd_per_message': 'fee_per_msg'})"
   ]
  },
  {
   "cell_type": "code",
   "execution_count": 573,
   "id": "bdda6ab2-1ab7-4d2f-b681-8bd632551804",
   "metadata": {},
   "outputs": [],
   "source": [
    "# Rename the usd_per_minute\n",
    "plans = plans.rename(columns={'usd_per_minute': 'fee_per_min'})"
   ]
  },
  {
   "cell_type": "code",
   "execution_count": 574,
   "id": "c940838d-fb7c-44a7-93ce-0e7cb1b8fa4e",
   "metadata": {},
   "outputs": [],
   "source": [
    "# Rename plan_name column\n",
    "plans = plans.rename(columns={'plan_name': 'plan'})"
   ]
  },
  {
   "cell_type": "code",
   "execution_count": 575,
   "id": "f9322310-b534-45cf-99df-a51684a7b7a1",
   "metadata": {},
   "outputs": [
    {
     "data": {
      "text/html": [
       "<div>\n",
       "<style scoped>\n",
       "    .dataframe tbody tr th:only-of-type {\n",
       "        vertical-align: middle;\n",
       "    }\n",
       "\n",
       "    .dataframe tbody tr th {\n",
       "        vertical-align: top;\n",
       "    }\n",
       "\n",
       "    .dataframe thead th {\n",
       "        text-align: right;\n",
       "    }\n",
       "</style>\n",
       "<table border=\"1\" class=\"dataframe\">\n",
       "  <thead>\n",
       "    <tr style=\"text-align: right;\">\n",
       "      <th></th>\n",
       "      <th>msg_included</th>\n",
       "      <th>gb_included</th>\n",
       "      <th>min_included</th>\n",
       "      <th>monthly_fee</th>\n",
       "      <th>fee_per_gb</th>\n",
       "      <th>fee_per_msg</th>\n",
       "      <th>fee_per_min</th>\n",
       "      <th>plan</th>\n",
       "    </tr>\n",
       "  </thead>\n",
       "  <tbody>\n",
       "    <tr>\n",
       "      <th>0</th>\n",
       "      <td>50</td>\n",
       "      <td>15.36</td>\n",
       "      <td>500</td>\n",
       "      <td>20</td>\n",
       "      <td>10</td>\n",
       "      <td>0.03</td>\n",
       "      <td>0.03</td>\n",
       "      <td>surf</td>\n",
       "    </tr>\n",
       "    <tr>\n",
       "      <th>1</th>\n",
       "      <td>1000</td>\n",
       "      <td>30.72</td>\n",
       "      <td>3000</td>\n",
       "      <td>70</td>\n",
       "      <td>7</td>\n",
       "      <td>0.01</td>\n",
       "      <td>0.01</td>\n",
       "      <td>ultimate</td>\n",
       "    </tr>\n",
       "  </tbody>\n",
       "</table>\n",
       "</div>"
      ],
      "text/plain": [
       "   msg_included  gb_included  min_included  monthly_fee  fee_per_gb  \\\n",
       "0            50        15.36           500           20          10   \n",
       "1          1000        30.72          3000           70           7   \n",
       "\n",
       "   fee_per_msg  fee_per_min      plan  \n",
       "0         0.03         0.03      surf  \n",
       "1         0.01         0.01  ultimate  "
      ]
     },
     "metadata": {},
     "output_type": "display_data"
    }
   ],
   "source": [
    "display(plans)"
   ]
  },
  {
   "cell_type": "code",
   "execution_count": 576,
   "id": "9231982f-2569-42ba-9ec0-835ea54042b2",
   "metadata": {},
   "outputs": [],
   "source": [
    "# I will round down the gb_included column"
   ]
  },
  {
   "cell_type": "code",
   "execution_count": 577,
   "id": "ccda7651-1ed5-4d2f-9523-a1235c385fee",
   "metadata": {},
   "outputs": [
    {
     "data": {
      "text/html": [
       "<div>\n",
       "<style scoped>\n",
       "    .dataframe tbody tr th:only-of-type {\n",
       "        vertical-align: middle;\n",
       "    }\n",
       "\n",
       "    .dataframe tbody tr th {\n",
       "        vertical-align: top;\n",
       "    }\n",
       "\n",
       "    .dataframe thead th {\n",
       "        text-align: right;\n",
       "    }\n",
       "</style>\n",
       "<table border=\"1\" class=\"dataframe\">\n",
       "  <thead>\n",
       "    <tr style=\"text-align: right;\">\n",
       "      <th></th>\n",
       "      <th>msg_included</th>\n",
       "      <th>gb_included</th>\n",
       "      <th>min_included</th>\n",
       "      <th>monthly_fee</th>\n",
       "      <th>fee_per_gb</th>\n",
       "      <th>fee_per_msg</th>\n",
       "      <th>fee_per_min</th>\n",
       "      <th>plan</th>\n",
       "    </tr>\n",
       "  </thead>\n",
       "  <tbody>\n",
       "    <tr>\n",
       "      <th>0</th>\n",
       "      <td>50</td>\n",
       "      <td>15.0</td>\n",
       "      <td>500</td>\n",
       "      <td>20</td>\n",
       "      <td>10</td>\n",
       "      <td>0.03</td>\n",
       "      <td>0.03</td>\n",
       "      <td>surf</td>\n",
       "    </tr>\n",
       "    <tr>\n",
       "      <th>1</th>\n",
       "      <td>1000</td>\n",
       "      <td>30.0</td>\n",
       "      <td>3000</td>\n",
       "      <td>70</td>\n",
       "      <td>7</td>\n",
       "      <td>0.01</td>\n",
       "      <td>0.01</td>\n",
       "      <td>ultimate</td>\n",
       "    </tr>\n",
       "  </tbody>\n",
       "</table>\n",
       "</div>"
      ],
      "text/plain": [
       "   msg_included  gb_included  min_included  monthly_fee  fee_per_gb  \\\n",
       "0            50         15.0           500           20          10   \n",
       "1          1000         30.0          3000           70           7   \n",
       "\n",
       "   fee_per_msg  fee_per_min      plan  \n",
       "0         0.03         0.03      surf  \n",
       "1         0.01         0.01  ultimate  "
      ]
     },
     "metadata": {},
     "output_type": "display_data"
    }
   ],
   "source": [
    "# Round down\n",
    "plans['gb_included'] = np.floor(plans['gb_included'])\n",
    "display(plans)"
   ]
  },
  {
   "cell_type": "code",
   "execution_count": 578,
   "id": "2abda076-921a-4eb0-b775-9122b189fbf5",
   "metadata": {},
   "outputs": [],
   "source": [
    "# change gb_included datatype"
   ]
  },
  {
   "cell_type": "code",
   "execution_count": 579,
   "id": "8a57881f-47b5-4695-a215-23b9fa722971",
   "metadata": {},
   "outputs": [
    {
     "name": "stdout",
     "output_type": "stream",
     "text": [
      "<class 'pandas.core.frame.DataFrame'>\n",
      "RangeIndex: 2 entries, 0 to 1\n",
      "Data columns (total 8 columns):\n",
      " #   Column        Non-Null Count  Dtype  \n",
      "---  ------        --------------  -----  \n",
      " 0   msg_included  2 non-null      int64  \n",
      " 1   gb_included   2 non-null      int64  \n",
      " 2   min_included  2 non-null      int64  \n",
      " 3   monthly_fee   2 non-null      int64  \n",
      " 4   fee_per_gb    2 non-null      int64  \n",
      " 5   fee_per_msg   2 non-null      float64\n",
      " 6   fee_per_min   2 non-null      float64\n",
      " 7   plan          2 non-null      object \n",
      "dtypes: float64(2), int64(5), object(1)\n",
      "memory usage: 260.0+ bytes\n"
     ]
    }
   ],
   "source": [
    "plans['gb_included'] = plans['gb_included'].astype(int)\n",
    "plans.info()"
   ]
  },
  {
   "cell_type": "code",
   "execution_count": 580,
   "id": "49a52323-295e-45d3-a0b2-ddef7dfe46e0",
   "metadata": {},
   "outputs": [
    {
     "data": {
      "text/html": [
       "<div>\n",
       "<style scoped>\n",
       "    .dataframe tbody tr th:only-of-type {\n",
       "        vertical-align: middle;\n",
       "    }\n",
       "\n",
       "    .dataframe tbody tr th {\n",
       "        vertical-align: top;\n",
       "    }\n",
       "\n",
       "    .dataframe thead th {\n",
       "        text-align: right;\n",
       "    }\n",
       "</style>\n",
       "<table border=\"1\" class=\"dataframe\">\n",
       "  <thead>\n",
       "    <tr style=\"text-align: right;\">\n",
       "      <th></th>\n",
       "      <th>msg_included</th>\n",
       "      <th>gb_included</th>\n",
       "      <th>min_included</th>\n",
       "      <th>monthly_fee</th>\n",
       "      <th>fee_per_gb</th>\n",
       "      <th>fee_per_msg</th>\n",
       "      <th>fee_per_min</th>\n",
       "      <th>plan</th>\n",
       "    </tr>\n",
       "  </thead>\n",
       "  <tbody>\n",
       "    <tr>\n",
       "      <th>0</th>\n",
       "      <td>50</td>\n",
       "      <td>15</td>\n",
       "      <td>500</td>\n",
       "      <td>20</td>\n",
       "      <td>10</td>\n",
       "      <td>0.03</td>\n",
       "      <td>0.03</td>\n",
       "      <td>surf</td>\n",
       "    </tr>\n",
       "    <tr>\n",
       "      <th>1</th>\n",
       "      <td>1000</td>\n",
       "      <td>30</td>\n",
       "      <td>3000</td>\n",
       "      <td>70</td>\n",
       "      <td>7</td>\n",
       "      <td>0.01</td>\n",
       "      <td>0.01</td>\n",
       "      <td>ultimate</td>\n",
       "    </tr>\n",
       "  </tbody>\n",
       "</table>\n",
       "</div>"
      ],
      "text/plain": [
       "   msg_included  gb_included  min_included  monthly_fee  fee_per_gb  \\\n",
       "0            50           15           500           20          10   \n",
       "1          1000           30          3000           70           7   \n",
       "\n",
       "   fee_per_msg  fee_per_min      plan  \n",
       "0         0.03         0.03      surf  \n",
       "1         0.01         0.01  ultimate  "
      ]
     },
     "metadata": {},
     "output_type": "display_data"
    }
   ],
   "source": [
    "display(plans)"
   ]
  },
  {
   "cell_type": "markdown",
   "id": "f64ca40b-7514-490f-a60f-ed0db321beeb",
   "metadata": {},
   "source": [
    "<div class=\"alert alert-info\"><font color='hotpink'>\n",
    "<b>Cleaning the Plans dataframe:</b>\n",
    "<br>\n",
    "- I displayed the dataframe. It was only 2 rows long. It explained the two Megaline plan options.\n",
    "<br>\n",
    "- I used .info() to see the datatypes. Since the mb_per_month_included column was listed in megabytes, but the plan charges extra per gigabyte, I changed the type of this column to float, and multiplied it by .001 to convert to gigabytes.\n",
    "<br>\n",
    "- I renamed most of the column names, so that they would be shorter, and the dataframe would be easier to read.\n",
    "<br>\n",
    "- plan_name was renamed to plan, to match the users dataframe.\n",
    "<br>\n",
    "- I used np.floor to round down the gb_included column because the Megaline surf plan states that there are 15 GB included per month, and ultimate plan has 30.\n",
    "<br>\n",
    " - I changed the datatype, of gb_included, to be int. Since the GB included, per month, are 15 and 30, and that will not change, there was no point in have the decimals.   \n",
    "</font color></div>"
   ]
  },
  {
   "cell_type": "markdown",
   "id": "44e814be-5365-46a6-a40d-b4512fbe29f3",
   "metadata": {},
   "source": [
    "## <span style=\"color: hotpink;\">Users dataframe</span>"
   ]
  },
  {
   "cell_type": "markdown",
   "id": "cd7f400c-5f5c-437c-96d2-ca445f5b873b",
   "metadata": {},
   "source": [
    "### Inspect the data"
   ]
  },
  {
   "cell_type": "code",
   "execution_count": 584,
   "id": "796df22d-3ec5-417c-a93a-e3de079ac8dd",
   "metadata": {},
   "outputs": [
    {
     "data": {
      "text/html": [
       "<div>\n",
       "<style scoped>\n",
       "    .dataframe tbody tr th:only-of-type {\n",
       "        vertical-align: middle;\n",
       "    }\n",
       "\n",
       "    .dataframe tbody tr th {\n",
       "        vertical-align: top;\n",
       "    }\n",
       "\n",
       "    .dataframe thead th {\n",
       "        text-align: right;\n",
       "    }\n",
       "</style>\n",
       "<table border=\"1\" class=\"dataframe\">\n",
       "  <thead>\n",
       "    <tr style=\"text-align: right;\">\n",
       "      <th></th>\n",
       "      <th>user_id</th>\n",
       "      <th>first_name</th>\n",
       "      <th>last_name</th>\n",
       "      <th>age</th>\n",
       "      <th>city</th>\n",
       "      <th>reg_date</th>\n",
       "      <th>plan</th>\n",
       "      <th>churn_date</th>\n",
       "    </tr>\n",
       "  </thead>\n",
       "  <tbody>\n",
       "    <tr>\n",
       "      <th>0</th>\n",
       "      <td>1000</td>\n",
       "      <td>Anamaria</td>\n",
       "      <td>Bauer</td>\n",
       "      <td>45</td>\n",
       "      <td>Atlanta-Sandy Springs-Roswell, GA MSA</td>\n",
       "      <td>2018-12-24</td>\n",
       "      <td>ultimate</td>\n",
       "      <td>NaN</td>\n",
       "    </tr>\n",
       "    <tr>\n",
       "      <th>1</th>\n",
       "      <td>1001</td>\n",
       "      <td>Mickey</td>\n",
       "      <td>Wilkerson</td>\n",
       "      <td>28</td>\n",
       "      <td>Seattle-Tacoma-Bellevue, WA MSA</td>\n",
       "      <td>2018-08-13</td>\n",
       "      <td>surf</td>\n",
       "      <td>NaN</td>\n",
       "    </tr>\n",
       "    <tr>\n",
       "      <th>2</th>\n",
       "      <td>1002</td>\n",
       "      <td>Carlee</td>\n",
       "      <td>Hoffman</td>\n",
       "      <td>36</td>\n",
       "      <td>Las Vegas-Henderson-Paradise, NV MSA</td>\n",
       "      <td>2018-10-21</td>\n",
       "      <td>surf</td>\n",
       "      <td>NaN</td>\n",
       "    </tr>\n",
       "    <tr>\n",
       "      <th>3</th>\n",
       "      <td>1003</td>\n",
       "      <td>Reynaldo</td>\n",
       "      <td>Jenkins</td>\n",
       "      <td>52</td>\n",
       "      <td>Tulsa, OK MSA</td>\n",
       "      <td>2018-01-28</td>\n",
       "      <td>surf</td>\n",
       "      <td>NaN</td>\n",
       "    </tr>\n",
       "    <tr>\n",
       "      <th>4</th>\n",
       "      <td>1004</td>\n",
       "      <td>Leonila</td>\n",
       "      <td>Thompson</td>\n",
       "      <td>40</td>\n",
       "      <td>Seattle-Tacoma-Bellevue, WA MSA</td>\n",
       "      <td>2018-05-23</td>\n",
       "      <td>surf</td>\n",
       "      <td>NaN</td>\n",
       "    </tr>\n",
       "  </tbody>\n",
       "</table>\n",
       "</div>"
      ],
      "text/plain": [
       "   user_id first_name  last_name  age                                   city  \\\n",
       "0     1000   Anamaria      Bauer   45  Atlanta-Sandy Springs-Roswell, GA MSA   \n",
       "1     1001     Mickey  Wilkerson   28        Seattle-Tacoma-Bellevue, WA MSA   \n",
       "2     1002     Carlee    Hoffman   36   Las Vegas-Henderson-Paradise, NV MSA   \n",
       "3     1003   Reynaldo    Jenkins   52                          Tulsa, OK MSA   \n",
       "4     1004    Leonila   Thompson   40        Seattle-Tacoma-Bellevue, WA MSA   \n",
       "\n",
       "     reg_date      plan churn_date  \n",
       "0  2018-12-24  ultimate        NaN  \n",
       "1  2018-08-13      surf        NaN  \n",
       "2  2018-10-21      surf        NaN  \n",
       "3  2018-01-28      surf        NaN  \n",
       "4  2018-05-23      surf        NaN  "
      ]
     },
     "metadata": {},
     "output_type": "display_data"
    }
   ],
   "source": [
    "display(users.head(5))"
   ]
  },
  {
   "cell_type": "code",
   "execution_count": 585,
   "id": "a4263be9-ddf3-4ba2-9d7c-0800d0c2851d",
   "metadata": {},
   "outputs": [
    {
     "data": {
      "text/html": [
       "<div style='color: hotpink;'><b>Filter out the NY and NJ customers.</b></div>"
      ],
      "text/plain": [
       "<IPython.core.display.HTML object>"
      ]
     },
     "metadata": {},
     "output_type": "display_data"
    }
   ],
   "source": [
    "show_html_output(f\"Filter out the NY and NJ customers.\")"
   ]
  },
  {
   "cell_type": "code",
   "execution_count": 586,
   "id": "a2859794-e03f-427e-95be-3afe9cc2f132",
   "metadata": {},
   "outputs": [
    {
     "data": {
      "text/html": [
       "<div>\n",
       "<style scoped>\n",
       "    .dataframe tbody tr th:only-of-type {\n",
       "        vertical-align: middle;\n",
       "    }\n",
       "\n",
       "    .dataframe tbody tr th {\n",
       "        vertical-align: top;\n",
       "    }\n",
       "\n",
       "    .dataframe thead th {\n",
       "        text-align: right;\n",
       "    }\n",
       "</style>\n",
       "<table border=\"1\" class=\"dataframe\">\n",
       "  <thead>\n",
       "    <tr style=\"text-align: right;\">\n",
       "      <th></th>\n",
       "      <th>user_id</th>\n",
       "      <th>first_name</th>\n",
       "      <th>last_name</th>\n",
       "      <th>age</th>\n",
       "      <th>city</th>\n",
       "      <th>reg_date</th>\n",
       "      <th>plan</th>\n",
       "      <th>churn_date</th>\n",
       "      <th>is_ny_nj</th>\n",
       "    </tr>\n",
       "  </thead>\n",
       "  <tbody>\n",
       "    <tr>\n",
       "      <th>83</th>\n",
       "      <td>1083</td>\n",
       "      <td>Lyndia</td>\n",
       "      <td>Acevedo</td>\n",
       "      <td>65</td>\n",
       "      <td>Los Angeles-Long Beach-Anaheim, CA MSA</td>\n",
       "      <td>2018-10-26</td>\n",
       "      <td>surf</td>\n",
       "      <td>2018-12-18</td>\n",
       "      <td>False</td>\n",
       "    </tr>\n",
       "    <tr>\n",
       "      <th>245</th>\n",
       "      <td>1245</td>\n",
       "      <td>Quinn</td>\n",
       "      <td>David</td>\n",
       "      <td>30</td>\n",
       "      <td>New York-Newark-Jersey City, NY-NJ-PA MSA</td>\n",
       "      <td>2018-06-19</td>\n",
       "      <td>surf</td>\n",
       "      <td>NaN</td>\n",
       "      <td>True</td>\n",
       "    </tr>\n",
       "    <tr>\n",
       "      <th>72</th>\n",
       "      <td>1072</td>\n",
       "      <td>Seymour</td>\n",
       "      <td>Spence</td>\n",
       "      <td>66</td>\n",
       "      <td>Dallas-Fort Worth-Arlington, TX MSA</td>\n",
       "      <td>2018-07-12</td>\n",
       "      <td>surf</td>\n",
       "      <td>NaN</td>\n",
       "      <td>False</td>\n",
       "    </tr>\n",
       "    <tr>\n",
       "      <th>428</th>\n",
       "      <td>1428</td>\n",
       "      <td>Asuncion</td>\n",
       "      <td>Conrad</td>\n",
       "      <td>66</td>\n",
       "      <td>Phoenix-Mesa-Chandler, AZ MSA</td>\n",
       "      <td>2018-10-23</td>\n",
       "      <td>surf</td>\n",
       "      <td>NaN</td>\n",
       "      <td>False</td>\n",
       "    </tr>\n",
       "    <tr>\n",
       "      <th>50</th>\n",
       "      <td>1050</td>\n",
       "      <td>Jone</td>\n",
       "      <td>Owen</td>\n",
       "      <td>23</td>\n",
       "      <td>Miami-Fort Lauderdale-West Palm Beach, FL MSA</td>\n",
       "      <td>2018-03-20</td>\n",
       "      <td>ultimate</td>\n",
       "      <td>2018-10-07</td>\n",
       "      <td>False</td>\n",
       "    </tr>\n",
       "    <tr>\n",
       "      <th>194</th>\n",
       "      <td>1194</td>\n",
       "      <td>Robert</td>\n",
       "      <td>Mclean</td>\n",
       "      <td>40</td>\n",
       "      <td>San Jose-Sunnyvale-Santa Clara, CA MSA</td>\n",
       "      <td>2018-05-31</td>\n",
       "      <td>surf</td>\n",
       "      <td>NaN</td>\n",
       "      <td>False</td>\n",
       "    </tr>\n",
       "    <tr>\n",
       "      <th>444</th>\n",
       "      <td>1444</td>\n",
       "      <td>Glinda</td>\n",
       "      <td>Dickerson</td>\n",
       "      <td>70</td>\n",
       "      <td>New Haven-Milford, CT MSA</td>\n",
       "      <td>2018-06-20</td>\n",
       "      <td>surf</td>\n",
       "      <td>NaN</td>\n",
       "      <td>False</td>\n",
       "    </tr>\n",
       "    <tr>\n",
       "      <th>496</th>\n",
       "      <td>1496</td>\n",
       "      <td>Ariel</td>\n",
       "      <td>Shepherd</td>\n",
       "      <td>49</td>\n",
       "      <td>New Orleans-Metairie, LA MSA</td>\n",
       "      <td>2018-02-20</td>\n",
       "      <td>surf</td>\n",
       "      <td>NaN</td>\n",
       "      <td>False</td>\n",
       "    </tr>\n",
       "    <tr>\n",
       "      <th>170</th>\n",
       "      <td>1170</td>\n",
       "      <td>Olin</td>\n",
       "      <td>Adkins</td>\n",
       "      <td>18</td>\n",
       "      <td>Pittsburgh, PA MSA</td>\n",
       "      <td>2018-09-25</td>\n",
       "      <td>surf</td>\n",
       "      <td>NaN</td>\n",
       "      <td>False</td>\n",
       "    </tr>\n",
       "    <tr>\n",
       "      <th>178</th>\n",
       "      <td>1178</td>\n",
       "      <td>Charlsie</td>\n",
       "      <td>Reid</td>\n",
       "      <td>53</td>\n",
       "      <td>Cincinnati, OH-KY-IN MSA</td>\n",
       "      <td>2018-10-05</td>\n",
       "      <td>surf</td>\n",
       "      <td>NaN</td>\n",
       "      <td>False</td>\n",
       "    </tr>\n",
       "  </tbody>\n",
       "</table>\n",
       "</div>"
      ],
      "text/plain": [
       "     user_id first_name  last_name  age  \\\n",
       "83      1083     Lyndia    Acevedo   65   \n",
       "245     1245      Quinn      David   30   \n",
       "72      1072    Seymour     Spence   66   \n",
       "428     1428   Asuncion     Conrad   66   \n",
       "50      1050       Jone       Owen   23   \n",
       "194     1194     Robert     Mclean   40   \n",
       "444     1444     Glinda  Dickerson   70   \n",
       "496     1496      Ariel   Shepherd   49   \n",
       "170     1170       Olin     Adkins   18   \n",
       "178     1178   Charlsie       Reid   53   \n",
       "\n",
       "                                              city    reg_date      plan  \\\n",
       "83          Los Angeles-Long Beach-Anaheim, CA MSA  2018-10-26      surf   \n",
       "245      New York-Newark-Jersey City, NY-NJ-PA MSA  2018-06-19      surf   \n",
       "72             Dallas-Fort Worth-Arlington, TX MSA  2018-07-12      surf   \n",
       "428                  Phoenix-Mesa-Chandler, AZ MSA  2018-10-23      surf   \n",
       "50   Miami-Fort Lauderdale-West Palm Beach, FL MSA  2018-03-20  ultimate   \n",
       "194         San Jose-Sunnyvale-Santa Clara, CA MSA  2018-05-31      surf   \n",
       "444                      New Haven-Milford, CT MSA  2018-06-20      surf   \n",
       "496                   New Orleans-Metairie, LA MSA  2018-02-20      surf   \n",
       "170                             Pittsburgh, PA MSA  2018-09-25      surf   \n",
       "178                       Cincinnati, OH-KY-IN MSA  2018-10-05      surf   \n",
       "\n",
       "     churn_date  is_ny_nj  \n",
       "83   2018-12-18     False  \n",
       "245         NaN      True  \n",
       "72          NaN     False  \n",
       "428         NaN     False  \n",
       "50   2018-10-07     False  \n",
       "194         NaN     False  \n",
       "444         NaN     False  \n",
       "496         NaN     False  \n",
       "170         NaN     False  \n",
       "178         NaN     False  "
      ]
     },
     "metadata": {},
     "output_type": "display_data"
    }
   ],
   "source": [
    "# Filter the users dataFrame to find rows where the 'city' column contains 'NY-NJ', and add a column to the users dataframe.\n",
    "users['is_ny_nj'] = users['city'].str.contains('NY|NJ', na=False)\n",
    "display(users.sample(10))"
   ]
  },
  {
   "cell_type": "code",
   "execution_count": 587,
   "id": "a287760e-ef0c-4752-881e-a171e0e42099",
   "metadata": {},
   "outputs": [
    {
     "data": {
      "text/plain": [
       "(500, 9)"
      ]
     },
     "execution_count": 587,
     "metadata": {},
     "output_type": "execute_result"
    }
   ],
   "source": [
    "users.shape"
   ]
  },
  {
   "cell_type": "code",
   "execution_count": 588,
   "id": "9063bf86-471e-4f1a-8f02-ecff92446f7b",
   "metadata": {},
   "outputs": [],
   "source": [
    "#There are 500 rows, and 8 columns in the Users dataframe."
   ]
  },
  {
   "cell_type": "code",
   "execution_count": 589,
   "id": "72ff63d8-ffcd-40fa-96d8-1e8c93d324a6",
   "metadata": {},
   "outputs": [
    {
     "data": {
      "text/plain": [
       "Index(['user_id', 'first_name', 'last_name', 'age', 'city', 'reg_date', 'plan',\n",
       "       'churn_date', 'is_ny_nj'],\n",
       "      dtype='object')"
      ]
     },
     "execution_count": 589,
     "metadata": {},
     "output_type": "execute_result"
    }
   ],
   "source": [
    "users.columns"
   ]
  },
  {
   "cell_type": "code",
   "execution_count": 590,
   "id": "63a4bee8-7086-42ef-b275-7bb304ba490c",
   "metadata": {},
   "outputs": [
    {
     "name": "stdout",
     "output_type": "stream",
     "text": [
      "<class 'pandas.core.frame.DataFrame'>\n",
      "RangeIndex: 500 entries, 0 to 499\n",
      "Data columns (total 9 columns):\n",
      " #   Column      Non-Null Count  Dtype \n",
      "---  ------      --------------  ----- \n",
      " 0   user_id     500 non-null    int64 \n",
      " 1   first_name  500 non-null    object\n",
      " 2   last_name   500 non-null    object\n",
      " 3   age         500 non-null    int64 \n",
      " 4   city        500 non-null    object\n",
      " 5   reg_date    500 non-null    object\n",
      " 6   plan        500 non-null    object\n",
      " 7   churn_date  34 non-null     object\n",
      " 8   is_ny_nj    500 non-null    bool  \n",
      "dtypes: bool(1), int64(2), object(6)\n",
      "memory usage: 31.9+ KB\n"
     ]
    }
   ],
   "source": [
    "users.info()"
   ]
  },
  {
   "cell_type": "code",
   "execution_count": 591,
   "id": "97d712a9-9b48-440f-8db8-21516ca43938",
   "metadata": {},
   "outputs": [
    {
     "data": {
      "text/html": [
       "<div style='color: hotpink;'><b>churn_date is the only column with missing data. 93.20% of the data is missing from this column.</b></div>"
      ],
      "text/plain": [
       "<IPython.core.display.HTML object>"
      ]
     },
     "metadata": {},
     "output_type": "display_data"
    }
   ],
   "source": [
    "churn_total_rows = 500\n",
    "churn_rows_w_data = 34\n",
    "rows_with_missing_churn_data = churn_total_rows - churn_rows_w_data\n",
    "missing_churn_data_percentage = (rows_with_missing_churn_data / churn_total_rows) * 100\n",
    "show_html_output(f\"churn_date is the only column with missing data. {missing_churn_data_percentage:.2f}% of the data is missing from this column.\")"
   ]
  },
  {
   "cell_type": "code",
   "execution_count": 592,
   "id": "365a9b9a-42ff-4312-9bae-98cc6c530516",
   "metadata": {},
   "outputs": [],
   "source": [
    "# user_id needs to change to object\n",
    "# reg_date needs to change to datetime type\n",
    "# churn_date also needs to change to datetime type"
   ]
  },
  {
   "cell_type": "markdown",
   "id": "cff4da99-a1a6-452b-b843-e7ae966be483",
   "metadata": {},
   "source": [
    "### Clean the Users dataframe"
   ]
  },
  {
   "cell_type": "code",
   "execution_count": 594,
   "id": "fe79073b-69ca-4bfb-862f-f815108a2dcc",
   "metadata": {},
   "outputs": [],
   "source": [
    "#Change user_id to type object.\n",
    "users['user_id'] = users['user_id'].astype(object)"
   ]
  },
  {
   "cell_type": "code",
   "execution_count": 595,
   "id": "0f636084-09f6-4b76-88ac-dbfd1689665e",
   "metadata": {},
   "outputs": [
    {
     "data": {
      "text/html": [
       "<div>\n",
       "<style scoped>\n",
       "    .dataframe tbody tr th:only-of-type {\n",
       "        vertical-align: middle;\n",
       "    }\n",
       "\n",
       "    .dataframe tbody tr th {\n",
       "        vertical-align: top;\n",
       "    }\n",
       "\n",
       "    .dataframe thead th {\n",
       "        text-align: right;\n",
       "    }\n",
       "</style>\n",
       "<table border=\"1\" class=\"dataframe\">\n",
       "  <thead>\n",
       "    <tr style=\"text-align: right;\">\n",
       "      <th></th>\n",
       "      <th>user_id</th>\n",
       "      <th>first_name</th>\n",
       "      <th>last_name</th>\n",
       "      <th>age</th>\n",
       "      <th>city</th>\n",
       "      <th>reg_date</th>\n",
       "      <th>plan</th>\n",
       "      <th>churn_date</th>\n",
       "      <th>is_ny_nj</th>\n",
       "    </tr>\n",
       "  </thead>\n",
       "  <tbody>\n",
       "    <tr>\n",
       "      <th>497</th>\n",
       "      <td>1497</td>\n",
       "      <td>Donte</td>\n",
       "      <td>Barrera</td>\n",
       "      <td>49</td>\n",
       "      <td>Los Angeles-Long Beach-Anaheim, CA MSA</td>\n",
       "      <td>12-10-18</td>\n",
       "      <td>ultimate</td>\n",
       "      <td>NaN</td>\n",
       "      <td>False</td>\n",
       "    </tr>\n",
       "    <tr>\n",
       "      <th>498</th>\n",
       "      <td>1498</td>\n",
       "      <td>Scot</td>\n",
       "      <td>Williamson</td>\n",
       "      <td>51</td>\n",
       "      <td>New York-Newark-Jersey City, NY-NJ-PA MSA</td>\n",
       "      <td>02-04-18</td>\n",
       "      <td>surf</td>\n",
       "      <td>NaN</td>\n",
       "      <td>True</td>\n",
       "    </tr>\n",
       "    <tr>\n",
       "      <th>499</th>\n",
       "      <td>1499</td>\n",
       "      <td>Shena</td>\n",
       "      <td>Dickson</td>\n",
       "      <td>37</td>\n",
       "      <td>Orlando-Kissimmee-Sanford, FL MSA</td>\n",
       "      <td>05-06-18</td>\n",
       "      <td>surf</td>\n",
       "      <td>NaN</td>\n",
       "      <td>False</td>\n",
       "    </tr>\n",
       "  </tbody>\n",
       "</table>\n",
       "</div>"
      ],
      "text/plain": [
       "    user_id first_name   last_name  age  \\\n",
       "497    1497      Donte     Barrera   49   \n",
       "498    1498       Scot  Williamson   51   \n",
       "499    1499      Shena     Dickson   37   \n",
       "\n",
       "                                          city  reg_date      plan churn_date  \\\n",
       "497     Los Angeles-Long Beach-Anaheim, CA MSA  12-10-18  ultimate        NaN   \n",
       "498  New York-Newark-Jersey City, NY-NJ-PA MSA  02-04-18      surf        NaN   \n",
       "499          Orlando-Kissimmee-Sanford, FL MSA  05-06-18      surf        NaN   \n",
       "\n",
       "     is_ny_nj  \n",
       "497     False  \n",
       "498      True  \n",
       "499     False  "
      ]
     },
     "metadata": {},
     "output_type": "display_data"
    }
   ],
   "source": [
    "# Change the reg_date column to month first\n",
    "users['reg_date'] = pd.to_datetime(users['reg_date'])\n",
    "users['reg_date'] = users['reg_date'].dt.strftime('%m-%d-%y')\n",
    "display(users.tail(3))"
   ]
  },
  {
   "cell_type": "code",
   "execution_count": 596,
   "id": "6d12ea40-7441-454d-9918-845e2e00905c",
   "metadata": {},
   "outputs": [],
   "source": [
    "#What should I do about the NaN in the churn_date column?"
   ]
  },
  {
   "cell_type": "code",
   "execution_count": 597,
   "id": "50c3094f-6d3f-407b-aa1a-1f62c37118fb",
   "metadata": {},
   "outputs": [
    {
     "data": {
      "text/html": [
       "<div>\n",
       "<style scoped>\n",
       "    .dataframe tbody tr th:only-of-type {\n",
       "        vertical-align: middle;\n",
       "    }\n",
       "\n",
       "    .dataframe tbody tr th {\n",
       "        vertical-align: top;\n",
       "    }\n",
       "\n",
       "    .dataframe thead th {\n",
       "        text-align: right;\n",
       "    }\n",
       "</style>\n",
       "<table border=\"1\" class=\"dataframe\">\n",
       "  <thead>\n",
       "    <tr style=\"text-align: right;\">\n",
       "      <th></th>\n",
       "      <th>user_id</th>\n",
       "      <th>first_name</th>\n",
       "      <th>last_name</th>\n",
       "      <th>age</th>\n",
       "      <th>city</th>\n",
       "      <th>reg_date</th>\n",
       "      <th>plan</th>\n",
       "      <th>churn_date</th>\n",
       "      <th>is_ny_nj</th>\n",
       "    </tr>\n",
       "  </thead>\n",
       "  <tbody>\n",
       "    <tr>\n",
       "      <th>0</th>\n",
       "      <td>1000</td>\n",
       "      <td>Anamaria</td>\n",
       "      <td>Bauer</td>\n",
       "      <td>45</td>\n",
       "      <td>Atlanta-Sandy Springs-Roswell, GA MSA</td>\n",
       "      <td>12-24-18</td>\n",
       "      <td>ultimate</td>\n",
       "      <td>NaN</td>\n",
       "      <td>False</td>\n",
       "    </tr>\n",
       "    <tr>\n",
       "      <th>1</th>\n",
       "      <td>1001</td>\n",
       "      <td>Mickey</td>\n",
       "      <td>Wilkerson</td>\n",
       "      <td>28</td>\n",
       "      <td>Seattle-Tacoma-Bellevue, WA MSA</td>\n",
       "      <td>08-13-18</td>\n",
       "      <td>surf</td>\n",
       "      <td>NaN</td>\n",
       "      <td>False</td>\n",
       "    </tr>\n",
       "    <tr>\n",
       "      <th>2</th>\n",
       "      <td>1002</td>\n",
       "      <td>Carlee</td>\n",
       "      <td>Hoffman</td>\n",
       "      <td>36</td>\n",
       "      <td>Las Vegas-Henderson-Paradise, NV MSA</td>\n",
       "      <td>10-21-18</td>\n",
       "      <td>surf</td>\n",
       "      <td>NaN</td>\n",
       "      <td>False</td>\n",
       "    </tr>\n",
       "    <tr>\n",
       "      <th>3</th>\n",
       "      <td>1003</td>\n",
       "      <td>Reynaldo</td>\n",
       "      <td>Jenkins</td>\n",
       "      <td>52</td>\n",
       "      <td>Tulsa, OK MSA</td>\n",
       "      <td>01-28-18</td>\n",
       "      <td>surf</td>\n",
       "      <td>NaN</td>\n",
       "      <td>False</td>\n",
       "    </tr>\n",
       "    <tr>\n",
       "      <th>4</th>\n",
       "      <td>1004</td>\n",
       "      <td>Leonila</td>\n",
       "      <td>Thompson</td>\n",
       "      <td>40</td>\n",
       "      <td>Seattle-Tacoma-Bellevue, WA MSA</td>\n",
       "      <td>05-23-18</td>\n",
       "      <td>surf</td>\n",
       "      <td>NaN</td>\n",
       "      <td>False</td>\n",
       "    </tr>\n",
       "    <tr>\n",
       "      <th>5</th>\n",
       "      <td>1005</td>\n",
       "      <td>Livia</td>\n",
       "      <td>Shields</td>\n",
       "      <td>31</td>\n",
       "      <td>Dallas-Fort Worth-Arlington, TX MSA</td>\n",
       "      <td>11-29-18</td>\n",
       "      <td>surf</td>\n",
       "      <td>NaN</td>\n",
       "      <td>False</td>\n",
       "    </tr>\n",
       "    <tr>\n",
       "      <th>6</th>\n",
       "      <td>1006</td>\n",
       "      <td>Jesusa</td>\n",
       "      <td>Bradford</td>\n",
       "      <td>73</td>\n",
       "      <td>San Francisco-Oakland-Berkeley, CA MSA</td>\n",
       "      <td>11-27-18</td>\n",
       "      <td>ultimate</td>\n",
       "      <td>12-18-18</td>\n",
       "      <td>False</td>\n",
       "    </tr>\n",
       "    <tr>\n",
       "      <th>7</th>\n",
       "      <td>1007</td>\n",
       "      <td>Eusebio</td>\n",
       "      <td>Welch</td>\n",
       "      <td>42</td>\n",
       "      <td>Grand Rapids-Kentwood, MI MSA</td>\n",
       "      <td>07-11-18</td>\n",
       "      <td>surf</td>\n",
       "      <td>NaN</td>\n",
       "      <td>False</td>\n",
       "    </tr>\n",
       "    <tr>\n",
       "      <th>8</th>\n",
       "      <td>1008</td>\n",
       "      <td>Emely</td>\n",
       "      <td>Hoffman</td>\n",
       "      <td>53</td>\n",
       "      <td>Orlando-Kissimmee-Sanford, FL MSA</td>\n",
       "      <td>08-03-18</td>\n",
       "      <td>ultimate</td>\n",
       "      <td>NaN</td>\n",
       "      <td>False</td>\n",
       "    </tr>\n",
       "    <tr>\n",
       "      <th>9</th>\n",
       "      <td>1009</td>\n",
       "      <td>Gerry</td>\n",
       "      <td>Little</td>\n",
       "      <td>19</td>\n",
       "      <td>San Jose-Sunnyvale-Santa Clara, CA MSA</td>\n",
       "      <td>04-22-18</td>\n",
       "      <td>surf</td>\n",
       "      <td>NaN</td>\n",
       "      <td>False</td>\n",
       "    </tr>\n",
       "    <tr>\n",
       "      <th>10</th>\n",
       "      <td>1010</td>\n",
       "      <td>Wilber</td>\n",
       "      <td>Blair</td>\n",
       "      <td>52</td>\n",
       "      <td>Dallas-Fort Worth-Arlington, TX MSA</td>\n",
       "      <td>03-09-18</td>\n",
       "      <td>surf</td>\n",
       "      <td>NaN</td>\n",
       "      <td>False</td>\n",
       "    </tr>\n",
       "    <tr>\n",
       "      <th>11</th>\n",
       "      <td>1011</td>\n",
       "      <td>Halina</td>\n",
       "      <td>Henry</td>\n",
       "      <td>73</td>\n",
       "      <td>Cleveland-Elyria, OH MSA</td>\n",
       "      <td>01-18-18</td>\n",
       "      <td>ultimate</td>\n",
       "      <td>NaN</td>\n",
       "      <td>False</td>\n",
       "    </tr>\n",
       "    <tr>\n",
       "      <th>12</th>\n",
       "      <td>1012</td>\n",
       "      <td>Jonelle</td>\n",
       "      <td>Mcbride</td>\n",
       "      <td>59</td>\n",
       "      <td>Chicago-Naperville-Elgin, IL-IN-WI MSA</td>\n",
       "      <td>06-28-18</td>\n",
       "      <td>surf</td>\n",
       "      <td>11-16-18</td>\n",
       "      <td>False</td>\n",
       "    </tr>\n",
       "    <tr>\n",
       "      <th>13</th>\n",
       "      <td>1013</td>\n",
       "      <td>Nicolas</td>\n",
       "      <td>Snider</td>\n",
       "      <td>50</td>\n",
       "      <td>Knoxville, TN MSA</td>\n",
       "      <td>12-01-18</td>\n",
       "      <td>ultimate</td>\n",
       "      <td>NaN</td>\n",
       "      <td>False</td>\n",
       "    </tr>\n",
       "    <tr>\n",
       "      <th>14</th>\n",
       "      <td>1014</td>\n",
       "      <td>Edmundo</td>\n",
       "      <td>Simon</td>\n",
       "      <td>61</td>\n",
       "      <td>New York-Newark-Jersey City, NY-NJ-PA MSA</td>\n",
       "      <td>11-25-18</td>\n",
       "      <td>surf</td>\n",
       "      <td>NaN</td>\n",
       "      <td>True</td>\n",
       "    </tr>\n",
       "  </tbody>\n",
       "</table>\n",
       "</div>"
      ],
      "text/plain": [
       "   user_id first_name  last_name  age  \\\n",
       "0     1000   Anamaria      Bauer   45   \n",
       "1     1001     Mickey  Wilkerson   28   \n",
       "2     1002     Carlee    Hoffman   36   \n",
       "3     1003   Reynaldo    Jenkins   52   \n",
       "4     1004    Leonila   Thompson   40   \n",
       "5     1005      Livia    Shields   31   \n",
       "6     1006     Jesusa   Bradford   73   \n",
       "7     1007    Eusebio      Welch   42   \n",
       "8     1008      Emely    Hoffman   53   \n",
       "9     1009      Gerry     Little   19   \n",
       "10    1010     Wilber      Blair   52   \n",
       "11    1011     Halina      Henry   73   \n",
       "12    1012    Jonelle    Mcbride   59   \n",
       "13    1013    Nicolas     Snider   50   \n",
       "14    1014    Edmundo      Simon   61   \n",
       "\n",
       "                                         city  reg_date      plan churn_date  \\\n",
       "0       Atlanta-Sandy Springs-Roswell, GA MSA  12-24-18  ultimate        NaN   \n",
       "1             Seattle-Tacoma-Bellevue, WA MSA  08-13-18      surf        NaN   \n",
       "2        Las Vegas-Henderson-Paradise, NV MSA  10-21-18      surf        NaN   \n",
       "3                               Tulsa, OK MSA  01-28-18      surf        NaN   \n",
       "4             Seattle-Tacoma-Bellevue, WA MSA  05-23-18      surf        NaN   \n",
       "5         Dallas-Fort Worth-Arlington, TX MSA  11-29-18      surf        NaN   \n",
       "6      San Francisco-Oakland-Berkeley, CA MSA  11-27-18  ultimate   12-18-18   \n",
       "7               Grand Rapids-Kentwood, MI MSA  07-11-18      surf        NaN   \n",
       "8           Orlando-Kissimmee-Sanford, FL MSA  08-03-18  ultimate        NaN   \n",
       "9      San Jose-Sunnyvale-Santa Clara, CA MSA  04-22-18      surf        NaN   \n",
       "10        Dallas-Fort Worth-Arlington, TX MSA  03-09-18      surf        NaN   \n",
       "11                   Cleveland-Elyria, OH MSA  01-18-18  ultimate        NaN   \n",
       "12     Chicago-Naperville-Elgin, IL-IN-WI MSA  06-28-18      surf   11-16-18   \n",
       "13                          Knoxville, TN MSA  12-01-18  ultimate        NaN   \n",
       "14  New York-Newark-Jersey City, NY-NJ-PA MSA  11-25-18      surf        NaN   \n",
       "\n",
       "    is_ny_nj  \n",
       "0      False  \n",
       "1      False  \n",
       "2      False  \n",
       "3      False  \n",
       "4      False  \n",
       "5      False  \n",
       "6      False  \n",
       "7      False  \n",
       "8      False  \n",
       "9      False  \n",
       "10     False  \n",
       "11     False  \n",
       "12     False  \n",
       "13     False  \n",
       "14      True  "
      ]
     },
     "metadata": {},
     "output_type": "display_data"
    }
   ],
   "source": [
    "#Convert 'churn_date' column to datetime\n",
    "users['churn_date'] = pd.to_datetime(users['churn_date'], errors='coerce')\n",
    "users['churn_date'] = users['churn_date'].dt.strftime('%m-%d-%y')\n",
    "display(users.head(15))"
   ]
  },
  {
   "cell_type": "code",
   "execution_count": 598,
   "id": "33eba6c5-96bc-408a-9fbc-7560f5e03469",
   "metadata": {},
   "outputs": [
    {
     "data": {
      "text/plain": [
       "user_id       object\n",
       "first_name    object\n",
       "last_name     object\n",
       "age            int64\n",
       "city          object\n",
       "reg_date      object\n",
       "plan          object\n",
       "churn_date    object\n",
       "is_ny_nj        bool\n",
       "dtype: object"
      ]
     },
     "execution_count": 598,
     "metadata": {},
     "output_type": "execute_result"
    }
   ],
   "source": [
    "users.dtypes"
   ]
  },
  {
   "cell_type": "code",
   "execution_count": 599,
   "id": "04803465-dde2-4c94-845e-919e21580f51",
   "metadata": {},
   "outputs": [
    {
     "data": {
      "text/html": [
       "<div>\n",
       "<style scoped>\n",
       "    .dataframe tbody tr th:only-of-type {\n",
       "        vertical-align: middle;\n",
       "    }\n",
       "\n",
       "    .dataframe tbody tr th {\n",
       "        vertical-align: top;\n",
       "    }\n",
       "\n",
       "    .dataframe thead th {\n",
       "        text-align: right;\n",
       "    }\n",
       "</style>\n",
       "<table border=\"1\" class=\"dataframe\">\n",
       "  <thead>\n",
       "    <tr style=\"text-align: right;\">\n",
       "      <th></th>\n",
       "      <th>age</th>\n",
       "    </tr>\n",
       "  </thead>\n",
       "  <tbody>\n",
       "    <tr>\n",
       "      <th>count</th>\n",
       "      <td>500.000000</td>\n",
       "    </tr>\n",
       "    <tr>\n",
       "      <th>mean</th>\n",
       "      <td>45.486000</td>\n",
       "    </tr>\n",
       "    <tr>\n",
       "      <th>std</th>\n",
       "      <td>16.972269</td>\n",
       "    </tr>\n",
       "    <tr>\n",
       "      <th>min</th>\n",
       "      <td>18.000000</td>\n",
       "    </tr>\n",
       "    <tr>\n",
       "      <th>25%</th>\n",
       "      <td>30.000000</td>\n",
       "    </tr>\n",
       "    <tr>\n",
       "      <th>50%</th>\n",
       "      <td>46.000000</td>\n",
       "    </tr>\n",
       "    <tr>\n",
       "      <th>75%</th>\n",
       "      <td>61.000000</td>\n",
       "    </tr>\n",
       "    <tr>\n",
       "      <th>max</th>\n",
       "      <td>75.000000</td>\n",
       "    </tr>\n",
       "  </tbody>\n",
       "</table>\n",
       "</div>"
      ],
      "text/plain": [
       "              age\n",
       "count  500.000000\n",
       "mean    45.486000\n",
       "std     16.972269\n",
       "min     18.000000\n",
       "25%     30.000000\n",
       "50%     46.000000\n",
       "75%     61.000000\n",
       "max     75.000000"
      ]
     },
     "execution_count": 599,
     "metadata": {},
     "output_type": "execute_result"
    }
   ],
   "source": [
    "users.describe()"
   ]
  },
  {
   "cell_type": "code",
   "execution_count": 600,
   "id": "a2d34bac-87d4-4403-b0a6-e5f44e981389",
   "metadata": {},
   "outputs": [
    {
     "name": "stdout",
     "output_type": "stream",
     "text": [
      "Sample of 10 rows:\n"
     ]
    },
    {
     "data": {
      "text/html": [
       "<div>\n",
       "<style scoped>\n",
       "    .dataframe tbody tr th:only-of-type {\n",
       "        vertical-align: middle;\n",
       "    }\n",
       "\n",
       "    .dataframe tbody tr th {\n",
       "        vertical-align: top;\n",
       "    }\n",
       "\n",
       "    .dataframe thead th {\n",
       "        text-align: right;\n",
       "    }\n",
       "</style>\n",
       "<table border=\"1\" class=\"dataframe\">\n",
       "  <thead>\n",
       "    <tr style=\"text-align: right;\">\n",
       "      <th></th>\n",
       "      <th>user_id</th>\n",
       "      <th>first_name</th>\n",
       "      <th>last_name</th>\n",
       "      <th>age</th>\n",
       "      <th>city</th>\n",
       "      <th>reg_date</th>\n",
       "      <th>plan</th>\n",
       "      <th>churn_date</th>\n",
       "      <th>is_ny_nj</th>\n",
       "    </tr>\n",
       "  </thead>\n",
       "  <tbody>\n",
       "    <tr>\n",
       "      <th>182</th>\n",
       "      <td>1182</td>\n",
       "      <td>Jeff</td>\n",
       "      <td>Burt</td>\n",
       "      <td>39</td>\n",
       "      <td>Charlotte-Concord-Gastonia, NC-SC MSA</td>\n",
       "      <td>05-29-18</td>\n",
       "      <td>surf</td>\n",
       "      <td>NaN</td>\n",
       "      <td>False</td>\n",
       "    </tr>\n",
       "    <tr>\n",
       "      <th>108</th>\n",
       "      <td>1108</td>\n",
       "      <td>Porfirio</td>\n",
       "      <td>Kane</td>\n",
       "      <td>45</td>\n",
       "      <td>Salt Lake City, UT MSA</td>\n",
       "      <td>12-30-18</td>\n",
       "      <td>ultimate</td>\n",
       "      <td>NaN</td>\n",
       "      <td>False</td>\n",
       "    </tr>\n",
       "    <tr>\n",
       "      <th>19</th>\n",
       "      <td>1019</td>\n",
       "      <td>Shizue</td>\n",
       "      <td>Landry</td>\n",
       "      <td>34</td>\n",
       "      <td>Jacksonville, FL MSA</td>\n",
       "      <td>01-16-18</td>\n",
       "      <td>surf</td>\n",
       "      <td>NaN</td>\n",
       "      <td>False</td>\n",
       "    </tr>\n",
       "    <tr>\n",
       "      <th>493</th>\n",
       "      <td>1493</td>\n",
       "      <td>Cicely</td>\n",
       "      <td>Wynn</td>\n",
       "      <td>18</td>\n",
       "      <td>Boston-Cambridge-Newton, MA-NH MSA</td>\n",
       "      <td>03-06-18</td>\n",
       "      <td>ultimate</td>\n",
       "      <td>NaN</td>\n",
       "      <td>False</td>\n",
       "    </tr>\n",
       "    <tr>\n",
       "      <th>373</th>\n",
       "      <td>1373</td>\n",
       "      <td>Lindsey</td>\n",
       "      <td>Dickerson</td>\n",
       "      <td>21</td>\n",
       "      <td>Minneapolis-St. Paul-Bloomington, MN-WI MSA</td>\n",
       "      <td>08-30-18</td>\n",
       "      <td>ultimate</td>\n",
       "      <td>NaN</td>\n",
       "      <td>False</td>\n",
       "    </tr>\n",
       "    <tr>\n",
       "      <th>277</th>\n",
       "      <td>1277</td>\n",
       "      <td>Andrew</td>\n",
       "      <td>Faulkner</td>\n",
       "      <td>25</td>\n",
       "      <td>New York-Newark-Jersey City, NY-NJ-PA MSA</td>\n",
       "      <td>02-02-18</td>\n",
       "      <td>surf</td>\n",
       "      <td>NaN</td>\n",
       "      <td>True</td>\n",
       "    </tr>\n",
       "    <tr>\n",
       "      <th>203</th>\n",
       "      <td>1203</td>\n",
       "      <td>Manie</td>\n",
       "      <td>Grimes</td>\n",
       "      <td>50</td>\n",
       "      <td>Boston-Cambridge-Newton, MA-NH MSA</td>\n",
       "      <td>02-11-18</td>\n",
       "      <td>surf</td>\n",
       "      <td>NaN</td>\n",
       "      <td>False</td>\n",
       "    </tr>\n",
       "    <tr>\n",
       "      <th>194</th>\n",
       "      <td>1194</td>\n",
       "      <td>Robert</td>\n",
       "      <td>Mclean</td>\n",
       "      <td>40</td>\n",
       "      <td>San Jose-Sunnyvale-Santa Clara, CA MSA</td>\n",
       "      <td>05-31-18</td>\n",
       "      <td>surf</td>\n",
       "      <td>NaN</td>\n",
       "      <td>False</td>\n",
       "    </tr>\n",
       "    <tr>\n",
       "      <th>483</th>\n",
       "      <td>1483</td>\n",
       "      <td>Miguel</td>\n",
       "      <td>Farrell</td>\n",
       "      <td>35</td>\n",
       "      <td>Chicago-Naperville-Elgin, IL-IN-WI MSA</td>\n",
       "      <td>04-25-18</td>\n",
       "      <td>surf</td>\n",
       "      <td>NaN</td>\n",
       "      <td>False</td>\n",
       "    </tr>\n",
       "    <tr>\n",
       "      <th>250</th>\n",
       "      <td>1250</td>\n",
       "      <td>Milan</td>\n",
       "      <td>Sellers</td>\n",
       "      <td>57</td>\n",
       "      <td>Houston-The Woodlands-Sugar Land, TX MSA</td>\n",
       "      <td>04-03-18</td>\n",
       "      <td>ultimate</td>\n",
       "      <td>NaN</td>\n",
       "      <td>False</td>\n",
       "    </tr>\n",
       "  </tbody>\n",
       "</table>\n",
       "</div>"
      ],
      "text/plain": [
       "    user_id first_name  last_name  age  \\\n",
       "182    1182       Jeff       Burt   39   \n",
       "108    1108   Porfirio       Kane   45   \n",
       "19     1019     Shizue     Landry   34   \n",
       "493    1493     Cicely       Wynn   18   \n",
       "373    1373    Lindsey  Dickerson   21   \n",
       "277    1277     Andrew   Faulkner   25   \n",
       "203    1203      Manie     Grimes   50   \n",
       "194    1194     Robert     Mclean   40   \n",
       "483    1483     Miguel    Farrell   35   \n",
       "250    1250      Milan    Sellers   57   \n",
       "\n",
       "                                            city  reg_date      plan  \\\n",
       "182        Charlotte-Concord-Gastonia, NC-SC MSA  05-29-18      surf   \n",
       "108                       Salt Lake City, UT MSA  12-30-18  ultimate   \n",
       "19                          Jacksonville, FL MSA  01-16-18      surf   \n",
       "493           Boston-Cambridge-Newton, MA-NH MSA  03-06-18  ultimate   \n",
       "373  Minneapolis-St. Paul-Bloomington, MN-WI MSA  08-30-18  ultimate   \n",
       "277    New York-Newark-Jersey City, NY-NJ-PA MSA  02-02-18      surf   \n",
       "203           Boston-Cambridge-Newton, MA-NH MSA  02-11-18      surf   \n",
       "194       San Jose-Sunnyvale-Santa Clara, CA MSA  05-31-18      surf   \n",
       "483       Chicago-Naperville-Elgin, IL-IN-WI MSA  04-25-18      surf   \n",
       "250     Houston-The Woodlands-Sugar Land, TX MSA  04-03-18  ultimate   \n",
       "\n",
       "    churn_date  is_ny_nj  \n",
       "182        NaN     False  \n",
       "108        NaN     False  \n",
       "19         NaN     False  \n",
       "493        NaN     False  \n",
       "373        NaN     False  \n",
       "277        NaN      True  \n",
       "203        NaN     False  \n",
       "194        NaN     False  \n",
       "483        NaN     False  \n",
       "250        NaN     False  "
      ]
     },
     "metadata": {},
     "output_type": "display_data"
    }
   ],
   "source": [
    "# Print a sample of a fixed number of rows \n",
    "print(\"Sample of 10 rows:\")\n",
    "display(users.sample(10))"
   ]
  },
  {
   "cell_type": "code",
   "execution_count": 601,
   "id": "975f0241-6d81-4c29-8c65-fee46fc13f53",
   "metadata": {},
   "outputs": [
    {
     "data": {
      "text/html": [
       "<div style='color: hotpink;'><b>There's a lot of cleaning to do in the city column.</b></div>"
      ],
      "text/plain": [
       "<IPython.core.display.HTML object>"
      ]
     },
     "metadata": {},
     "output_type": "display_data"
    }
   ],
   "source": [
    "show_html_output(f\"There's a lot of cleaning to do in the city column.\")"
   ]
  },
  {
   "cell_type": "code",
   "execution_count": 602,
   "id": "80dac53d-b96e-4039-b7a5-70aefd25ee09",
   "metadata": {},
   "outputs": [],
   "source": [
    "#Need to remove 'MSA' from the city column.\n",
    "users['city'] = users['city'].str.replace(' MSA', '', regex=False).str.strip()"
   ]
  },
  {
   "cell_type": "code",
   "execution_count": 603,
   "id": "85189411-869c-43b3-8c69-8d7ee9c7ec6c",
   "metadata": {},
   "outputs": [
    {
     "data": {
      "text/html": [
       "<div>\n",
       "<style scoped>\n",
       "    .dataframe tbody tr th:only-of-type {\n",
       "        vertical-align: middle;\n",
       "    }\n",
       "\n",
       "    .dataframe tbody tr th {\n",
       "        vertical-align: top;\n",
       "    }\n",
       "\n",
       "    .dataframe thead th {\n",
       "        text-align: right;\n",
       "    }\n",
       "</style>\n",
       "<table border=\"1\" class=\"dataframe\">\n",
       "  <thead>\n",
       "    <tr style=\"text-align: right;\">\n",
       "      <th></th>\n",
       "      <th>user_id</th>\n",
       "      <th>first_name</th>\n",
       "      <th>last_name</th>\n",
       "      <th>age</th>\n",
       "      <th>city</th>\n",
       "      <th>reg_date</th>\n",
       "      <th>plan</th>\n",
       "      <th>churn_date</th>\n",
       "      <th>is_ny_nj</th>\n",
       "    </tr>\n",
       "  </thead>\n",
       "  <tbody>\n",
       "    <tr>\n",
       "      <th>0</th>\n",
       "      <td>1000</td>\n",
       "      <td>Anamaria</td>\n",
       "      <td>Bauer</td>\n",
       "      <td>45</td>\n",
       "      <td>Atlanta-Sandy Springs-Roswell, GA</td>\n",
       "      <td>12-24-18</td>\n",
       "      <td>ultimate</td>\n",
       "      <td>NaN</td>\n",
       "      <td>False</td>\n",
       "    </tr>\n",
       "    <tr>\n",
       "      <th>1</th>\n",
       "      <td>1001</td>\n",
       "      <td>Mickey</td>\n",
       "      <td>Wilkerson</td>\n",
       "      <td>28</td>\n",
       "      <td>Seattle-Tacoma-Bellevue, WA</td>\n",
       "      <td>08-13-18</td>\n",
       "      <td>surf</td>\n",
       "      <td>NaN</td>\n",
       "      <td>False</td>\n",
       "    </tr>\n",
       "    <tr>\n",
       "      <th>2</th>\n",
       "      <td>1002</td>\n",
       "      <td>Carlee</td>\n",
       "      <td>Hoffman</td>\n",
       "      <td>36</td>\n",
       "      <td>Las Vegas-Henderson-Paradise, NV</td>\n",
       "      <td>10-21-18</td>\n",
       "      <td>surf</td>\n",
       "      <td>NaN</td>\n",
       "      <td>False</td>\n",
       "    </tr>\n",
       "  </tbody>\n",
       "</table>\n",
       "</div>"
      ],
      "text/plain": [
       "  user_id first_name  last_name  age                               city  \\\n",
       "0    1000   Anamaria      Bauer   45  Atlanta-Sandy Springs-Roswell, GA   \n",
       "1    1001     Mickey  Wilkerson   28        Seattle-Tacoma-Bellevue, WA   \n",
       "2    1002     Carlee    Hoffman   36   Las Vegas-Henderson-Paradise, NV   \n",
       "\n",
       "   reg_date      plan churn_date  is_ny_nj  \n",
       "0  12-24-18  ultimate        NaN     False  \n",
       "1  08-13-18      surf        NaN     False  \n",
       "2  10-21-18      surf        NaN     False  "
      ]
     },
     "metadata": {},
     "output_type": "display_data"
    }
   ],
   "source": [
    "display(users.head(3))"
   ]
  },
  {
   "cell_type": "code",
   "execution_count": 604,
   "id": "d55f0133-215e-4933-b141-713ba1bfae62",
   "metadata": {},
   "outputs": [],
   "source": [
    "#Need to remove the State from the city column\n",
    "users['city'] = users['city'].str.split(',', expand=True)[0]"
   ]
  },
  {
   "cell_type": "code",
   "execution_count": 605,
   "id": "3363df92-7750-40ac-9ef1-420d723a707a",
   "metadata": {},
   "outputs": [
    {
     "data": {
      "text/html": [
       "<div>\n",
       "<style scoped>\n",
       "    .dataframe tbody tr th:only-of-type {\n",
       "        vertical-align: middle;\n",
       "    }\n",
       "\n",
       "    .dataframe tbody tr th {\n",
       "        vertical-align: top;\n",
       "    }\n",
       "\n",
       "    .dataframe thead th {\n",
       "        text-align: right;\n",
       "    }\n",
       "</style>\n",
       "<table border=\"1\" class=\"dataframe\">\n",
       "  <thead>\n",
       "    <tr style=\"text-align: right;\">\n",
       "      <th></th>\n",
       "      <th>user_id</th>\n",
       "      <th>first_name</th>\n",
       "      <th>last_name</th>\n",
       "      <th>age</th>\n",
       "      <th>city</th>\n",
       "      <th>reg_date</th>\n",
       "      <th>plan</th>\n",
       "      <th>churn_date</th>\n",
       "      <th>is_ny_nj</th>\n",
       "    </tr>\n",
       "  </thead>\n",
       "  <tbody>\n",
       "    <tr>\n",
       "      <th>0</th>\n",
       "      <td>1000</td>\n",
       "      <td>Anamaria</td>\n",
       "      <td>Bauer</td>\n",
       "      <td>45</td>\n",
       "      <td>Atlanta-Sandy Springs-Roswell</td>\n",
       "      <td>12-24-18</td>\n",
       "      <td>ultimate</td>\n",
       "      <td>NaN</td>\n",
       "      <td>False</td>\n",
       "    </tr>\n",
       "    <tr>\n",
       "      <th>1</th>\n",
       "      <td>1001</td>\n",
       "      <td>Mickey</td>\n",
       "      <td>Wilkerson</td>\n",
       "      <td>28</td>\n",
       "      <td>Seattle-Tacoma-Bellevue</td>\n",
       "      <td>08-13-18</td>\n",
       "      <td>surf</td>\n",
       "      <td>NaN</td>\n",
       "      <td>False</td>\n",
       "    </tr>\n",
       "    <tr>\n",
       "      <th>2</th>\n",
       "      <td>1002</td>\n",
       "      <td>Carlee</td>\n",
       "      <td>Hoffman</td>\n",
       "      <td>36</td>\n",
       "      <td>Las Vegas-Henderson-Paradise</td>\n",
       "      <td>10-21-18</td>\n",
       "      <td>surf</td>\n",
       "      <td>NaN</td>\n",
       "      <td>False</td>\n",
       "    </tr>\n",
       "  </tbody>\n",
       "</table>\n",
       "</div>"
      ],
      "text/plain": [
       "  user_id first_name  last_name  age                           city  reg_date  \\\n",
       "0    1000   Anamaria      Bauer   45  Atlanta-Sandy Springs-Roswell  12-24-18   \n",
       "1    1001     Mickey  Wilkerson   28        Seattle-Tacoma-Bellevue  08-13-18   \n",
       "2    1002     Carlee    Hoffman   36   Las Vegas-Henderson-Paradise  10-21-18   \n",
       "\n",
       "       plan churn_date  is_ny_nj  \n",
       "0  ultimate        NaN     False  \n",
       "1      surf        NaN     False  \n",
       "2      surf        NaN     False  "
      ]
     },
     "metadata": {},
     "output_type": "display_data"
    }
   ],
   "source": [
    "display(users.head(3))"
   ]
  },
  {
   "cell_type": "code",
   "execution_count": 606,
   "id": "f9d23e22-58af-44ed-989b-b2cf3d68bd71",
   "metadata": {},
   "outputs": [],
   "source": [
    "#Need to remove the larger city-centers from the city column\n",
    "users['city'] = users['city'].str.split('-').str[-1].str.strip()"
   ]
  },
  {
   "cell_type": "code",
   "execution_count": 607,
   "id": "3806f5ce-da72-4e33-a54f-15037095ace4",
   "metadata": {},
   "outputs": [
    {
     "data": {
      "text/html": [
       "<div>\n",
       "<style scoped>\n",
       "    .dataframe tbody tr th:only-of-type {\n",
       "        vertical-align: middle;\n",
       "    }\n",
       "\n",
       "    .dataframe tbody tr th {\n",
       "        vertical-align: top;\n",
       "    }\n",
       "\n",
       "    .dataframe thead th {\n",
       "        text-align: right;\n",
       "    }\n",
       "</style>\n",
       "<table border=\"1\" class=\"dataframe\">\n",
       "  <thead>\n",
       "    <tr style=\"text-align: right;\">\n",
       "      <th></th>\n",
       "      <th>user_id</th>\n",
       "      <th>first_name</th>\n",
       "      <th>last_name</th>\n",
       "      <th>age</th>\n",
       "      <th>city</th>\n",
       "      <th>reg_date</th>\n",
       "      <th>plan</th>\n",
       "      <th>churn_date</th>\n",
       "      <th>is_ny_nj</th>\n",
       "    </tr>\n",
       "  </thead>\n",
       "  <tbody>\n",
       "    <tr>\n",
       "      <th>50</th>\n",
       "      <td>1050</td>\n",
       "      <td>Jone</td>\n",
       "      <td>Owen</td>\n",
       "      <td>23</td>\n",
       "      <td>West Palm Beach</td>\n",
       "      <td>03-20-18</td>\n",
       "      <td>ultimate</td>\n",
       "      <td>10-07-18</td>\n",
       "      <td>False</td>\n",
       "    </tr>\n",
       "    <tr>\n",
       "      <th>177</th>\n",
       "      <td>1177</td>\n",
       "      <td>Seymour</td>\n",
       "      <td>Anderson</td>\n",
       "      <td>33</td>\n",
       "      <td>Bellevue</td>\n",
       "      <td>11-09-18</td>\n",
       "      <td>surf</td>\n",
       "      <td>NaN</td>\n",
       "      <td>False</td>\n",
       "    </tr>\n",
       "    <tr>\n",
       "      <th>99</th>\n",
       "      <td>1099</td>\n",
       "      <td>Shavon</td>\n",
       "      <td>Banks</td>\n",
       "      <td>48</td>\n",
       "      <td>Jersey City</td>\n",
       "      <td>02-26-18</td>\n",
       "      <td>surf</td>\n",
       "      <td>NaN</td>\n",
       "      <td>True</td>\n",
       "    </tr>\n",
       "  </tbody>\n",
       "</table>\n",
       "</div>"
      ],
      "text/plain": [
       "    user_id first_name last_name  age             city  reg_date      plan  \\\n",
       "50     1050       Jone      Owen   23  West Palm Beach  03-20-18  ultimate   \n",
       "177    1177    Seymour  Anderson   33         Bellevue  11-09-18      surf   \n",
       "99     1099     Shavon     Banks   48      Jersey City  02-26-18      surf   \n",
       "\n",
       "    churn_date  is_ny_nj  \n",
       "50    10-07-18     False  \n",
       "177        NaN     False  \n",
       "99         NaN      True  "
      ]
     },
     "metadata": {},
     "output_type": "display_data"
    }
   ],
   "source": [
    "display(users.sample(3))"
   ]
  },
  {
   "cell_type": "code",
   "execution_count": 608,
   "id": "a52738bd-eb41-4e96-831b-35ff26cd1aaa",
   "metadata": {},
   "outputs": [
    {
     "name": "stdout",
     "output_type": "stream",
     "text": [
      "<class 'pandas.core.frame.DataFrame'>\n",
      "RangeIndex: 500 entries, 0 to 499\n",
      "Data columns (total 9 columns):\n",
      " #   Column      Non-Null Count  Dtype \n",
      "---  ------      --------------  ----- \n",
      " 0   user_id     500 non-null    object\n",
      " 1   first_name  500 non-null    object\n",
      " 2   last_name   500 non-null    object\n",
      " 3   age         500 non-null    int64 \n",
      " 4   city        500 non-null    object\n",
      " 5   reg_date    500 non-null    object\n",
      " 6   plan        500 non-null    object\n",
      " 7   churn_date  34 non-null     object\n",
      " 8   is_ny_nj    500 non-null    bool  \n",
      "dtypes: bool(1), int64(1), object(7)\n",
      "memory usage: 31.9+ KB\n"
     ]
    }
   ],
   "source": [
    "users.info()"
   ]
  },
  {
   "cell_type": "code",
   "execution_count": 609,
   "id": "504df4ce-90a7-4869-99ce-cc0f922b2856",
   "metadata": {},
   "outputs": [],
   "source": [
    "# is_ny_nj is type bool"
   ]
  },
  {
   "cell_type": "code",
   "execution_count": 610,
   "id": "b1c84803-8d4b-4eab-aa22-542775e59f24",
   "metadata": {},
   "outputs": [],
   "source": [
    "#city column looks good now."
   ]
  },
  {
   "cell_type": "markdown",
   "id": "2823e6a4-4678-4982-b1f4-7a599a57b1d3",
   "metadata": {},
   "source": [
    "<div class=\"alert alert-info\"><font color='hotpink'>\n",
    "<b>Cleaning the Users dataframe:</b>\n",
    "<br>\n",
    "- There are 500 rows in the dataframe, and churn_date is the only column with missing data. But, 93.2% of that row has missing data.\n",
    "<br>\n",
    "- The naming of the columns look good.\n",
    "<br>\n",
    "- I changed the user_id column to object type, because I will not be doing math on that column.\n",
    "<br>\n",
    "- I used to_datetime and dt.strftime on the reg_date column, to change the date so that it prints out as mm-dd-yy.\n",
    "<br>\n",
    "- I also used to_datetime and dt.strftime on the churn_date column, and used errors='coerce' because the column was mostly full of Nan.\n",
    "<br>\n",
    "- I used describe to get the average age of users. The avg age is 45.5 years old.\n",
    "<br>\n",
    "- I used str.replace and str.strip to remove the unecessary 'MSA' in the city name column.\n",
    "<br>\n",
    "- I used str.split to get rid of the State that was unecessarily in the city column.\n",
    "<br>\n",
    "- I used str.split to get rid of the extra city names that were inside the city column, using -1, to grab only the city that was listed last. The city listed last would represent the actual city that the user lives in, and not the bigger metropolitan area.\n",
    "<br>\n",
    "- I used sample, to grab a random sampling of the data, and ran that a few times over, to make sure that the city column is now looking good.\n",
    "<br>\n",
    "<br>\n",
    "<b>The NY and NJ users were filtered out</b>\n",
    "<br>\n",
    "-  A new boolean column, 'is_ny_nj', was added  to the users database. If a user's city is NY or NJ, then the is_ny_nj is marked as True. This column will be used later, when revenue for NY and NJ is analyzed. The reason why this column needed to be created now was that the States info is removed from the 'city' column during the cleaning phase. So, doing a search for \"NY-NJ\", after the cleaning of the users dataframe, would result in no rows.\n",
    "</div></font color>"
   ]
  },
  {
   "cell_type": "markdown",
   "id": "3cc372cc-a44f-432f-88d7-540374440414",
   "metadata": {},
   "source": [
    "## <span style=\"color: hotpink;\">Calls dataframe</span>"
   ]
  },
  {
   "cell_type": "markdown",
   "id": "08ac1f26-7cdf-47ba-a1f9-3be9da4a47e7",
   "metadata": {},
   "source": [
    "### Inspect the data"
   ]
  },
  {
   "cell_type": "code",
   "execution_count": 614,
   "id": "32c11c8c-10f7-4be0-af20-4becfff64c53",
   "metadata": {},
   "outputs": [
    {
     "data": {
      "text/html": [
       "<div>\n",
       "<style scoped>\n",
       "    .dataframe tbody tr th:only-of-type {\n",
       "        vertical-align: middle;\n",
       "    }\n",
       "\n",
       "    .dataframe tbody tr th {\n",
       "        vertical-align: top;\n",
       "    }\n",
       "\n",
       "    .dataframe thead th {\n",
       "        text-align: right;\n",
       "    }\n",
       "</style>\n",
       "<table border=\"1\" class=\"dataframe\">\n",
       "  <thead>\n",
       "    <tr style=\"text-align: right;\">\n",
       "      <th></th>\n",
       "      <th>id</th>\n",
       "      <th>user_id</th>\n",
       "      <th>call_date</th>\n",
       "      <th>duration</th>\n",
       "    </tr>\n",
       "  </thead>\n",
       "  <tbody>\n",
       "    <tr>\n",
       "      <th>0</th>\n",
       "      <td>1000_93</td>\n",
       "      <td>1000</td>\n",
       "      <td>2018-12-27</td>\n",
       "      <td>8.52</td>\n",
       "    </tr>\n",
       "    <tr>\n",
       "      <th>1</th>\n",
       "      <td>1000_145</td>\n",
       "      <td>1000</td>\n",
       "      <td>2018-12-27</td>\n",
       "      <td>13.66</td>\n",
       "    </tr>\n",
       "    <tr>\n",
       "      <th>2</th>\n",
       "      <td>1000_247</td>\n",
       "      <td>1000</td>\n",
       "      <td>2018-12-27</td>\n",
       "      <td>14.48</td>\n",
       "    </tr>\n",
       "    <tr>\n",
       "      <th>3</th>\n",
       "      <td>1000_309</td>\n",
       "      <td>1000</td>\n",
       "      <td>2018-12-28</td>\n",
       "      <td>5.76</td>\n",
       "    </tr>\n",
       "    <tr>\n",
       "      <th>4</th>\n",
       "      <td>1000_380</td>\n",
       "      <td>1000</td>\n",
       "      <td>2018-12-30</td>\n",
       "      <td>4.22</td>\n",
       "    </tr>\n",
       "  </tbody>\n",
       "</table>\n",
       "</div>"
      ],
      "text/plain": [
       "         id  user_id   call_date  duration\n",
       "0   1000_93     1000  2018-12-27      8.52\n",
       "1  1000_145     1000  2018-12-27     13.66\n",
       "2  1000_247     1000  2018-12-27     14.48\n",
       "3  1000_309     1000  2018-12-28      5.76\n",
       "4  1000_380     1000  2018-12-30      4.22"
      ]
     },
     "metadata": {},
     "output_type": "display_data"
    }
   ],
   "source": [
    "display(calls.head(5))"
   ]
  },
  {
   "cell_type": "code",
   "execution_count": 615,
   "id": "e8c70efb-c01a-4ae2-9c2e-6df104aa848e",
   "metadata": {},
   "outputs": [
    {
     "data": {
      "text/plain": [
       "(137735, 4)"
      ]
     },
     "execution_count": 615,
     "metadata": {},
     "output_type": "execute_result"
    }
   ],
   "source": [
    "calls.shape"
   ]
  },
  {
   "cell_type": "code",
   "execution_count": 616,
   "id": "eab5bfe7-d86f-4590-b336-c29a7d8efdb7",
   "metadata": {},
   "outputs": [],
   "source": [
    "#There are 137,735 rows and 4 columns in the calls dataframe."
   ]
  },
  {
   "cell_type": "code",
   "execution_count": 617,
   "id": "2d1797a9-1859-419c-b545-7f6231d8cd2e",
   "metadata": {},
   "outputs": [
    {
     "data": {
      "text/plain": [
       "Index(['id', 'user_id', 'call_date', 'duration'], dtype='object')"
      ]
     },
     "execution_count": 617,
     "metadata": {},
     "output_type": "execute_result"
    }
   ],
   "source": [
    "calls.columns"
   ]
  },
  {
   "cell_type": "code",
   "execution_count": 618,
   "id": "8eb19706-3aaf-4d67-a065-08ccd38fee84",
   "metadata": {},
   "outputs": [
    {
     "name": "stdout",
     "output_type": "stream",
     "text": [
      "<class 'pandas.core.frame.DataFrame'>\n",
      "RangeIndex: 137735 entries, 0 to 137734\n",
      "Data columns (total 4 columns):\n",
      " #   Column     Non-Null Count   Dtype  \n",
      "---  ------     --------------   -----  \n",
      " 0   id         137735 non-null  object \n",
      " 1   user_id    137735 non-null  int64  \n",
      " 2   call_date  137735 non-null  object \n",
      " 3   duration   137735 non-null  float64\n",
      "dtypes: float64(1), int64(1), object(2)\n",
      "memory usage: 4.2+ MB\n"
     ]
    }
   ],
   "source": [
    "calls.info()"
   ]
  },
  {
   "cell_type": "code",
   "execution_count": 619,
   "id": "3ee72fc1-304c-4853-931f-593920026475",
   "metadata": {},
   "outputs": [
    {
     "data": {
      "text/html": [
       "<div style='color: hotpink;'><b>There are no missing rows in the Calls dataframe.</b></div>"
      ],
      "text/plain": [
       "<IPython.core.display.HTML object>"
      ]
     },
     "metadata": {},
     "output_type": "display_data"
    }
   ],
   "source": [
    "show_html_output(f\"There are no missing rows in the Calls dataframe.\")"
   ]
  },
  {
   "cell_type": "code",
   "execution_count": 620,
   "id": "1e5c8b32-f945-41d8-9b55-cf24ffd4bab3",
   "metadata": {},
   "outputs": [],
   "source": [
    "# There is no missing data in the Calls dataframe.\n",
    "# call_date will need to change to type datetime\n",
    "# duration will have to be rounded up, to the nearest whole number\n",
    "# user_id will need to change to object data type.\n",
    "# id column name will need to change to call_id"
   ]
  },
  {
   "cell_type": "markdown",
   "id": "8d2b3692-a8cf-4e50-bd24-b34446de3408",
   "metadata": {},
   "source": [
    "### Clean the Calls dataframe"
   ]
  },
  {
   "cell_type": "code",
   "execution_count": 622,
   "id": "665cc812-bbd1-4474-aeec-f076447b1485",
   "metadata": {},
   "outputs": [
    {
     "data": {
      "text/html": [
       "<div>\n",
       "<style scoped>\n",
       "    .dataframe tbody tr th:only-of-type {\n",
       "        vertical-align: middle;\n",
       "    }\n",
       "\n",
       "    .dataframe tbody tr th {\n",
       "        vertical-align: top;\n",
       "    }\n",
       "\n",
       "    .dataframe thead th {\n",
       "        text-align: right;\n",
       "    }\n",
       "</style>\n",
       "<table border=\"1\" class=\"dataframe\">\n",
       "  <thead>\n",
       "    <tr style=\"text-align: right;\">\n",
       "      <th></th>\n",
       "      <th>id</th>\n",
       "      <th>user_id</th>\n",
       "      <th>call_date</th>\n",
       "      <th>duration</th>\n",
       "    </tr>\n",
       "  </thead>\n",
       "  <tbody>\n",
       "    <tr>\n",
       "      <th>137727</th>\n",
       "      <td>1499_196</td>\n",
       "      <td>1499</td>\n",
       "      <td>11-22-18</td>\n",
       "      <td>0.27</td>\n",
       "    </tr>\n",
       "    <tr>\n",
       "      <th>137728</th>\n",
       "      <td>1499_197</td>\n",
       "      <td>1499</td>\n",
       "      <td>12-27-18</td>\n",
       "      <td>8.36</td>\n",
       "    </tr>\n",
       "    <tr>\n",
       "      <th>137729</th>\n",
       "      <td>1499_198</td>\n",
       "      <td>1499</td>\n",
       "      <td>10-26-18</td>\n",
       "      <td>6.41</td>\n",
       "    </tr>\n",
       "    <tr>\n",
       "      <th>137730</th>\n",
       "      <td>1499_199</td>\n",
       "      <td>1499</td>\n",
       "      <td>11-21-18</td>\n",
       "      <td>8.72</td>\n",
       "    </tr>\n",
       "    <tr>\n",
       "      <th>137731</th>\n",
       "      <td>1499_200</td>\n",
       "      <td>1499</td>\n",
       "      <td>10-20-18</td>\n",
       "      <td>10.89</td>\n",
       "    </tr>\n",
       "    <tr>\n",
       "      <th>137732</th>\n",
       "      <td>1499_201</td>\n",
       "      <td>1499</td>\n",
       "      <td>09-21-18</td>\n",
       "      <td>8.12</td>\n",
       "    </tr>\n",
       "    <tr>\n",
       "      <th>137733</th>\n",
       "      <td>1499_202</td>\n",
       "      <td>1499</td>\n",
       "      <td>10-10-18</td>\n",
       "      <td>0.37</td>\n",
       "    </tr>\n",
       "    <tr>\n",
       "      <th>137734</th>\n",
       "      <td>1499_203</td>\n",
       "      <td>1499</td>\n",
       "      <td>12-29-18</td>\n",
       "      <td>13.86</td>\n",
       "    </tr>\n",
       "  </tbody>\n",
       "</table>\n",
       "</div>"
      ],
      "text/plain": [
       "              id  user_id call_date  duration\n",
       "137727  1499_196     1499  11-22-18      0.27\n",
       "137728  1499_197     1499  12-27-18      8.36\n",
       "137729  1499_198     1499  10-26-18      6.41\n",
       "137730  1499_199     1499  11-21-18      8.72\n",
       "137731  1499_200     1499  10-20-18     10.89\n",
       "137732  1499_201     1499  09-21-18      8.12\n",
       "137733  1499_202     1499  10-10-18      0.37\n",
       "137734  1499_203     1499  12-29-18     13.86"
      ]
     },
     "metadata": {},
     "output_type": "display_data"
    }
   ],
   "source": [
    "# Change the call_date column to month first\n",
    "calls['call_date'] = pd.to_datetime(calls['call_date'])\n",
    "calls['call_date'] = calls['call_date'].dt.strftime('%m-%d-%y')\n",
    "display(calls.tail(8))"
   ]
  },
  {
   "cell_type": "code",
   "execution_count": 623,
   "id": "d57cb49f-eee0-43a8-b49a-f1acd3553d34",
   "metadata": {},
   "outputs": [
    {
     "data": {
      "text/plain": [
       "id            object\n",
       "user_id        int64\n",
       "call_date     object\n",
       "duration     float64\n",
       "dtype: object"
      ]
     },
     "execution_count": 623,
     "metadata": {},
     "output_type": "execute_result"
    }
   ],
   "source": [
    "calls.dtypes"
   ]
  },
  {
   "cell_type": "code",
   "execution_count": 624,
   "id": "4b9370ac-0d13-4712-8e11-97a98d2dd6ec",
   "metadata": {},
   "outputs": [],
   "source": [
    "# Round up \n",
    "calls['duration'] = np.ceil(calls['duration'])"
   ]
  },
  {
   "cell_type": "code",
   "execution_count": 625,
   "id": "3be684dc-c34f-4cb4-83d9-cc670a057ba1",
   "metadata": {},
   "outputs": [],
   "source": [
    "#Change datatype of duration to int\n",
    "calls['duration'] = calls['duration'].astype(int)"
   ]
  },
  {
   "cell_type": "code",
   "execution_count": 626,
   "id": "c2b2695b-0dad-4e6d-90e0-2a93ca86598e",
   "metadata": {},
   "outputs": [
    {
     "name": "stdout",
     "output_type": "stream",
     "text": [
      "         id  user_id call_date  duration\n",
      "0   1000_93     1000  12-27-18         9\n",
      "1  1000_145     1000  12-27-18        14\n",
      "2  1000_247     1000  12-27-18        15\n",
      "3  1000_309     1000  12-28-18         6\n",
      "4  1000_380     1000  12-30-18         5\n"
     ]
    }
   ],
   "source": [
    "# check that the duration column was changed to type int\n",
    "print(calls.head(5))"
   ]
  },
  {
   "cell_type": "code",
   "execution_count": 627,
   "id": "a2503ece-eb2a-4bd3-acbd-7c13f9259988",
   "metadata": {},
   "outputs": [],
   "source": [
    "calls['user_id'] = calls['user_id'].astype(object)"
   ]
  },
  {
   "cell_type": "code",
   "execution_count": 628,
   "id": "07bac22b-55e2-49af-aad6-96a98c97d5b6",
   "metadata": {},
   "outputs": [
    {
     "data": {
      "text/plain": [
       "id           object\n",
       "user_id      object\n",
       "call_date    object\n",
       "duration      int64\n",
       "dtype: object"
      ]
     },
     "execution_count": 628,
     "metadata": {},
     "output_type": "execute_result"
    }
   ],
   "source": [
    "calls.dtypes"
   ]
  },
  {
   "cell_type": "code",
   "execution_count": 629,
   "id": "386a5aed-fc1e-4264-b134-3a7ea03695f3",
   "metadata": {},
   "outputs": [
    {
     "data": {
      "text/html": [
       "<div>\n",
       "<style scoped>\n",
       "    .dataframe tbody tr th:only-of-type {\n",
       "        vertical-align: middle;\n",
       "    }\n",
       "\n",
       "    .dataframe tbody tr th {\n",
       "        vertical-align: top;\n",
       "    }\n",
       "\n",
       "    .dataframe thead th {\n",
       "        text-align: right;\n",
       "    }\n",
       "</style>\n",
       "<table border=\"1\" class=\"dataframe\">\n",
       "  <thead>\n",
       "    <tr style=\"text-align: right;\">\n",
       "      <th></th>\n",
       "      <th>duration</th>\n",
       "    </tr>\n",
       "  </thead>\n",
       "  <tbody>\n",
       "    <tr>\n",
       "      <th>count</th>\n",
       "      <td>137735.000000</td>\n",
       "    </tr>\n",
       "    <tr>\n",
       "      <th>mean</th>\n",
       "      <td>7.146673</td>\n",
       "    </tr>\n",
       "    <tr>\n",
       "      <th>std</th>\n",
       "      <td>5.953919</td>\n",
       "    </tr>\n",
       "    <tr>\n",
       "      <th>min</th>\n",
       "      <td>0.000000</td>\n",
       "    </tr>\n",
       "    <tr>\n",
       "      <th>25%</th>\n",
       "      <td>2.000000</td>\n",
       "    </tr>\n",
       "    <tr>\n",
       "      <th>50%</th>\n",
       "      <td>6.000000</td>\n",
       "    </tr>\n",
       "    <tr>\n",
       "      <th>75%</th>\n",
       "      <td>11.000000</td>\n",
       "    </tr>\n",
       "    <tr>\n",
       "      <th>max</th>\n",
       "      <td>38.000000</td>\n",
       "    </tr>\n",
       "  </tbody>\n",
       "</table>\n",
       "</div>"
      ],
      "text/plain": [
       "            duration\n",
       "count  137735.000000\n",
       "mean        7.146673\n",
       "std         5.953919\n",
       "min         0.000000\n",
       "25%         2.000000\n",
       "50%         6.000000\n",
       "75%        11.000000\n",
       "max        38.000000"
      ]
     },
     "execution_count": 629,
     "metadata": {},
     "output_type": "execute_result"
    }
   ],
   "source": [
    "calls.describe()"
   ]
  },
  {
   "cell_type": "code",
   "execution_count": 630,
   "id": "ccd8f9db-aca7-4131-83ea-a25d41bed1b7",
   "metadata": {},
   "outputs": [
    {
     "data": {
      "text/html": [
       "<div>\n",
       "<style scoped>\n",
       "    .dataframe tbody tr th:only-of-type {\n",
       "        vertical-align: middle;\n",
       "    }\n",
       "\n",
       "    .dataframe tbody tr th {\n",
       "        vertical-align: top;\n",
       "    }\n",
       "\n",
       "    .dataframe thead th {\n",
       "        text-align: right;\n",
       "    }\n",
       "</style>\n",
       "<table border=\"1\" class=\"dataframe\">\n",
       "  <thead>\n",
       "    <tr style=\"text-align: right;\">\n",
       "      <th></th>\n",
       "      <th>call_id</th>\n",
       "      <th>user_id</th>\n",
       "      <th>call_date</th>\n",
       "      <th>duration</th>\n",
       "    </tr>\n",
       "  </thead>\n",
       "  <tbody>\n",
       "    <tr>\n",
       "      <th>137727</th>\n",
       "      <td>1499_196</td>\n",
       "      <td>1499</td>\n",
       "      <td>11-22-18</td>\n",
       "      <td>1</td>\n",
       "    </tr>\n",
       "    <tr>\n",
       "      <th>137728</th>\n",
       "      <td>1499_197</td>\n",
       "      <td>1499</td>\n",
       "      <td>12-27-18</td>\n",
       "      <td>9</td>\n",
       "    </tr>\n",
       "    <tr>\n",
       "      <th>137729</th>\n",
       "      <td>1499_198</td>\n",
       "      <td>1499</td>\n",
       "      <td>10-26-18</td>\n",
       "      <td>7</td>\n",
       "    </tr>\n",
       "    <tr>\n",
       "      <th>137730</th>\n",
       "      <td>1499_199</td>\n",
       "      <td>1499</td>\n",
       "      <td>11-21-18</td>\n",
       "      <td>9</td>\n",
       "    </tr>\n",
       "    <tr>\n",
       "      <th>137731</th>\n",
       "      <td>1499_200</td>\n",
       "      <td>1499</td>\n",
       "      <td>10-20-18</td>\n",
       "      <td>11</td>\n",
       "    </tr>\n",
       "    <tr>\n",
       "      <th>137732</th>\n",
       "      <td>1499_201</td>\n",
       "      <td>1499</td>\n",
       "      <td>09-21-18</td>\n",
       "      <td>9</td>\n",
       "    </tr>\n",
       "    <tr>\n",
       "      <th>137733</th>\n",
       "      <td>1499_202</td>\n",
       "      <td>1499</td>\n",
       "      <td>10-10-18</td>\n",
       "      <td>1</td>\n",
       "    </tr>\n",
       "    <tr>\n",
       "      <th>137734</th>\n",
       "      <td>1499_203</td>\n",
       "      <td>1499</td>\n",
       "      <td>12-29-18</td>\n",
       "      <td>14</td>\n",
       "    </tr>\n",
       "  </tbody>\n",
       "</table>\n",
       "</div>"
      ],
      "text/plain": [
       "         call_id user_id call_date  duration\n",
       "137727  1499_196    1499  11-22-18         1\n",
       "137728  1499_197    1499  12-27-18         9\n",
       "137729  1499_198    1499  10-26-18         7\n",
       "137730  1499_199    1499  11-21-18         9\n",
       "137731  1499_200    1499  10-20-18        11\n",
       "137732  1499_201    1499  09-21-18         9\n",
       "137733  1499_202    1499  10-10-18         1\n",
       "137734  1499_203    1499  12-29-18        14"
      ]
     },
     "metadata": {},
     "output_type": "display_data"
    }
   ],
   "source": [
    "# Rename the id column\n",
    "calls = calls.rename(columns={'id': 'call_id'})\n",
    "display(calls.tail(8))"
   ]
  },
  {
   "cell_type": "code",
   "execution_count": 631,
   "id": "6474c5f6-3bfe-44fa-bb83-b7c79601dbdc",
   "metadata": {},
   "outputs": [
    {
     "name": "stdout",
     "output_type": "stream",
     "text": [
      "Sample of 10 rows:\n",
      "         call_id user_id call_date  duration\n",
      "29832     1113_2    1113  09-04-18        14\n",
      "93500   1334_868    1334  05-25-18         9\n",
      "61484   1222_131    1222  09-18-18         1\n",
      "42574   1156_179    1156  09-04-18         9\n",
      "132379  1476_329    1476  10-14-18         0\n",
      "17852   1068_178    1068  06-13-18        16\n",
      "106758  1377_310    1377  12-09-18         8\n",
      "27427   1103_217    1103  11-24-18         4\n",
      "50600   1182_207    1182  06-05-18        11\n",
      "47371   1171_402    1171  06-17-18         4\n"
     ]
    }
   ],
   "source": [
    "# Print a sample of a fixed number of rows \n",
    "print(\"Sample of 10 rows:\")\n",
    "print(calls.sample(10))"
   ]
  },
  {
   "cell_type": "markdown",
   "id": "780c4a1c-c53b-46d5-afde-601d5975c6f3",
   "metadata": {},
   "source": [
    "<div class=\"alert alert-info\"><font color='hotpink'>\n",
    "<b>Cleaning the Calls dataframe:</b>\n",
    "<br>\n",
    "- There are 137,735 rows in the dataframe, and there is no missing data.\n",
    "<br>\n",
    "- I renamed the id column to be call_id, to distinguish it from the id columns in the messages and internet dataframes.\n",
    "<br>\n",
    "- I changed the call_date column to date time, using the to_datetime function.\n",
    "<br>\n",
    "- I used dt.strftime to change the order of the output, so that it prints as mm-dd-yy, to match the reg_date column of the users database.\n",
    "<br>\n",
    "- I used np.ceil function to round up the duration column to the nearest whole number, to match the phone company's rules of their plans.\n",
    "<br>\n",
    "- I added import numpy up above, at the top of the project, to accomodate the np.ceil function.\n",
    "<br>\n",
    "- I changed the data type of the duration column to int, because all that data has already been rounded up, and also, the phone plans require whole numbers for duration of call.\n",
    "<br>\n",
    "- I changed the data type of user_id to object. I am not planning on doing math on this column, as that would make no sense. \n",
    "<br>\n",
    "- I used describe to get the average duration of phone calls. The avg is 7 minutes.\n",
    "<br>\n",
    "- I printed out a sample of the Calls dataframe, to make sure that everything looks fine.\n",
    "</div></font color>"
   ]
  },
  {
   "cell_type": "markdown",
   "id": "16349ce5-5af7-4a39-a67b-5754de6abf18",
   "metadata": {},
   "source": [
    "## <span style=\"color: hotpink;\">Messages dataframe</span>"
   ]
  },
  {
   "cell_type": "markdown",
   "id": "5c2adf0f-cfd6-4f74-9572-b2e9d59c16fd",
   "metadata": {},
   "source": [
    "### Inspect the data"
   ]
  },
  {
   "cell_type": "code",
   "execution_count": 635,
   "id": "85c8d9ee-ded5-4e5d-9bf3-638a4e1054d4",
   "metadata": {},
   "outputs": [
    {
     "data": {
      "text/html": [
       "<div>\n",
       "<style scoped>\n",
       "    .dataframe tbody tr th:only-of-type {\n",
       "        vertical-align: middle;\n",
       "    }\n",
       "\n",
       "    .dataframe tbody tr th {\n",
       "        vertical-align: top;\n",
       "    }\n",
       "\n",
       "    .dataframe thead th {\n",
       "        text-align: right;\n",
       "    }\n",
       "</style>\n",
       "<table border=\"1\" class=\"dataframe\">\n",
       "  <thead>\n",
       "    <tr style=\"text-align: right;\">\n",
       "      <th></th>\n",
       "      <th>id</th>\n",
       "      <th>user_id</th>\n",
       "      <th>message_date</th>\n",
       "    </tr>\n",
       "  </thead>\n",
       "  <tbody>\n",
       "    <tr>\n",
       "      <th>0</th>\n",
       "      <td>1000_125</td>\n",
       "      <td>1000</td>\n",
       "      <td>2018-12-27</td>\n",
       "    </tr>\n",
       "    <tr>\n",
       "      <th>1</th>\n",
       "      <td>1000_160</td>\n",
       "      <td>1000</td>\n",
       "      <td>2018-12-31</td>\n",
       "    </tr>\n",
       "    <tr>\n",
       "      <th>2</th>\n",
       "      <td>1000_223</td>\n",
       "      <td>1000</td>\n",
       "      <td>2018-12-31</td>\n",
       "    </tr>\n",
       "    <tr>\n",
       "      <th>3</th>\n",
       "      <td>1000_251</td>\n",
       "      <td>1000</td>\n",
       "      <td>2018-12-27</td>\n",
       "    </tr>\n",
       "    <tr>\n",
       "      <th>4</th>\n",
       "      <td>1000_255</td>\n",
       "      <td>1000</td>\n",
       "      <td>2018-12-26</td>\n",
       "    </tr>\n",
       "  </tbody>\n",
       "</table>\n",
       "</div>"
      ],
      "text/plain": [
       "         id  user_id message_date\n",
       "0  1000_125     1000   2018-12-27\n",
       "1  1000_160     1000   2018-12-31\n",
       "2  1000_223     1000   2018-12-31\n",
       "3  1000_251     1000   2018-12-27\n",
       "4  1000_255     1000   2018-12-26"
      ]
     },
     "metadata": {},
     "output_type": "display_data"
    }
   ],
   "source": [
    "display(messages.head(5))"
   ]
  },
  {
   "cell_type": "code",
   "execution_count": 636,
   "id": "9c351d34-5078-48b8-bc2e-ec35389282cb",
   "metadata": {},
   "outputs": [
    {
     "data": {
      "text/plain": [
       "(76051, 3)"
      ]
     },
     "execution_count": 636,
     "metadata": {},
     "output_type": "execute_result"
    }
   ],
   "source": [
    "messages.shape"
   ]
  },
  {
   "cell_type": "code",
   "execution_count": 637,
   "id": "91288d96-6aa3-4fd1-b696-824f81daac4f",
   "metadata": {},
   "outputs": [
    {
     "data": {
      "text/plain": [
       "Index(['id', 'user_id', 'message_date'], dtype='object')"
      ]
     },
     "execution_count": 637,
     "metadata": {},
     "output_type": "execute_result"
    }
   ],
   "source": [
    "messages.columns"
   ]
  },
  {
   "cell_type": "code",
   "execution_count": 638,
   "id": "5ee8ce8c-38d4-48ea-ae79-f72cf8838343",
   "metadata": {},
   "outputs": [
    {
     "name": "stdout",
     "output_type": "stream",
     "text": [
      "<class 'pandas.core.frame.DataFrame'>\n",
      "RangeIndex: 76051 entries, 0 to 76050\n",
      "Data columns (total 3 columns):\n",
      " #   Column        Non-Null Count  Dtype \n",
      "---  ------        --------------  ----- \n",
      " 0   id            76051 non-null  object\n",
      " 1   user_id       76051 non-null  int64 \n",
      " 2   message_date  76051 non-null  object\n",
      "dtypes: int64(1), object(2)\n",
      "memory usage: 1.7+ MB\n"
     ]
    }
   ],
   "source": [
    "messages.info()"
   ]
  },
  {
   "cell_type": "code",
   "execution_count": 639,
   "id": "f0875b84-dd09-4b75-b1b4-3a9092c83639",
   "metadata": {},
   "outputs": [
    {
     "data": {
      "text/html": [
       "<div style='color: hotpink;'><b>There are no missing rows in the Messages dataframe.</b></div>"
      ],
      "text/plain": [
       "<IPython.core.display.HTML object>"
      ]
     },
     "metadata": {},
     "output_type": "display_data"
    }
   ],
   "source": [
    "show_html_output(f\"There are no missing rows in the Messages dataframe.\")"
   ]
  },
  {
   "cell_type": "code",
   "execution_count": 640,
   "id": "4e7e3c04-5fb5-45c4-9737-b8a7894cc0b3",
   "metadata": {},
   "outputs": [],
   "source": [
    "# There is no missing data.\n",
    "# message_date will have to change to date time type.\n",
    "# Need to change name of message_date to a shorter name\n",
    "# Need to change name of 'id' column."
   ]
  },
  {
   "cell_type": "code",
   "execution_count": 641,
   "id": "bc8466e3-c167-4a93-90b5-5ef1b7f19236",
   "metadata": {},
   "outputs": [
    {
     "name": "stdout",
     "output_type": "stream",
     "text": [
      "             id  user_id message_date\n",
      "50952  1331_127     1331   2018-12-15\n",
      "9093   1066_267     1066   2018-07-26\n",
      "39598  1257_151     1257   2018-07-13\n",
      "28876   1176_17     1176   2018-11-01\n",
      "38833  1254_512     1254   2018-10-29\n",
      "39370   1256_45     1256   2018-12-06\n",
      "39192  1255_247     1255   2018-12-21\n",
      "8365   1061_371     1061   2018-08-17\n",
      "73547  1472_102     1472   2018-10-06\n",
      "51436   1335_24     1335   2018-09-22\n"
     ]
    }
   ],
   "source": [
    "print(messages.sample(10))"
   ]
  },
  {
   "cell_type": "markdown",
   "id": "c764a84b-1225-4969-a0f6-535b4d8abe9a",
   "metadata": {},
   "source": [
    "### Clean the Messages dataframe"
   ]
  },
  {
   "cell_type": "code",
   "execution_count": 643,
   "id": "74ec93f7-52f3-409f-beb9-a62a65dca822",
   "metadata": {},
   "outputs": [
    {
     "name": "stdout",
     "output_type": "stream",
     "text": [
      "<class 'pandas.core.frame.DataFrame'>\n",
      "RangeIndex: 76051 entries, 0 to 76050\n",
      "Data columns (total 3 columns):\n",
      " #   Column        Non-Null Count  Dtype \n",
      "---  ------        --------------  ----- \n",
      " 0   id            76051 non-null  object\n",
      " 1   user_id       76051 non-null  object\n",
      " 2   message_date  76051 non-null  object\n",
      "dtypes: object(3)\n",
      "memory usage: 1.7+ MB\n"
     ]
    }
   ],
   "source": [
    "messages['user_id'] = messages['user_id'].astype(object)\n",
    "messages.info()"
   ]
  },
  {
   "cell_type": "code",
   "execution_count": 644,
   "id": "19c60a39-9f28-4988-b3dc-5e2066829d7d",
   "metadata": {},
   "outputs": [],
   "source": [
    "# Change the call_date column to month first\n",
    "messages['message_date'] = pd.to_datetime(messages['message_date'])\n",
    "messages['message_date'] = messages['message_date'].dt.strftime('%m-%d-%y')"
   ]
  },
  {
   "cell_type": "code",
   "execution_count": 645,
   "id": "f124e5e4-5efc-44eb-b78c-10ecf6f02250",
   "metadata": {},
   "outputs": [],
   "source": [
    "# Rename the message_date column\n",
    "messages = messages.rename(columns={'message_date': 'msg_date'})"
   ]
  },
  {
   "cell_type": "code",
   "execution_count": 646,
   "id": "2db40af4-3710-44dd-b1b8-6d7f89f461b8",
   "metadata": {},
   "outputs": [
    {
     "data": {
      "text/html": [
       "<div>\n",
       "<style scoped>\n",
       "    .dataframe tbody tr th:only-of-type {\n",
       "        vertical-align: middle;\n",
       "    }\n",
       "\n",
       "    .dataframe tbody tr th {\n",
       "        vertical-align: top;\n",
       "    }\n",
       "\n",
       "    .dataframe thead th {\n",
       "        text-align: right;\n",
       "    }\n",
       "</style>\n",
       "<table border=\"1\" class=\"dataframe\">\n",
       "  <thead>\n",
       "    <tr style=\"text-align: right;\">\n",
       "      <th></th>\n",
       "      <th>msg_id</th>\n",
       "      <th>user_id</th>\n",
       "      <th>msg_date</th>\n",
       "    </tr>\n",
       "  </thead>\n",
       "  <tbody>\n",
       "    <tr>\n",
       "      <th>76041</th>\n",
       "      <td>1497_502</td>\n",
       "      <td>1497</td>\n",
       "      <td>12-30-18</td>\n",
       "    </tr>\n",
       "    <tr>\n",
       "      <th>76042</th>\n",
       "      <td>1497_503</td>\n",
       "      <td>1497</td>\n",
       "      <td>12-29-18</td>\n",
       "    </tr>\n",
       "    <tr>\n",
       "      <th>76043</th>\n",
       "      <td>1497_507</td>\n",
       "      <td>1497</td>\n",
       "      <td>12-23-18</td>\n",
       "    </tr>\n",
       "    <tr>\n",
       "      <th>76044</th>\n",
       "      <td>1497_517</td>\n",
       "      <td>1497</td>\n",
       "      <td>12-17-18</td>\n",
       "    </tr>\n",
       "    <tr>\n",
       "      <th>76045</th>\n",
       "      <td>1497_524</td>\n",
       "      <td>1497</td>\n",
       "      <td>12-12-18</td>\n",
       "    </tr>\n",
       "    <tr>\n",
       "      <th>76046</th>\n",
       "      <td>1497_526</td>\n",
       "      <td>1497</td>\n",
       "      <td>12-24-18</td>\n",
       "    </tr>\n",
       "    <tr>\n",
       "      <th>76047</th>\n",
       "      <td>1497_536</td>\n",
       "      <td>1497</td>\n",
       "      <td>12-24-18</td>\n",
       "    </tr>\n",
       "    <tr>\n",
       "      <th>76048</th>\n",
       "      <td>1497_547</td>\n",
       "      <td>1497</td>\n",
       "      <td>12-31-18</td>\n",
       "    </tr>\n",
       "    <tr>\n",
       "      <th>76049</th>\n",
       "      <td>1497_558</td>\n",
       "      <td>1497</td>\n",
       "      <td>12-24-18</td>\n",
       "    </tr>\n",
       "    <tr>\n",
       "      <th>76050</th>\n",
       "      <td>1497_613</td>\n",
       "      <td>1497</td>\n",
       "      <td>12-23-18</td>\n",
       "    </tr>\n",
       "  </tbody>\n",
       "</table>\n",
       "</div>"
      ],
      "text/plain": [
       "         msg_id user_id  msg_date\n",
       "76041  1497_502    1497  12-30-18\n",
       "76042  1497_503    1497  12-29-18\n",
       "76043  1497_507    1497  12-23-18\n",
       "76044  1497_517    1497  12-17-18\n",
       "76045  1497_524    1497  12-12-18\n",
       "76046  1497_526    1497  12-24-18\n",
       "76047  1497_536    1497  12-24-18\n",
       "76048  1497_547    1497  12-31-18\n",
       "76049  1497_558    1497  12-24-18\n",
       "76050  1497_613    1497  12-23-18"
      ]
     },
     "metadata": {},
     "output_type": "display_data"
    }
   ],
   "source": [
    "# Rename the id column\n",
    "messages = messages.rename(columns={'id': 'msg_id'})\n",
    "display(messages.tail(10))"
   ]
  },
  {
   "cell_type": "markdown",
   "id": "368cd8b0-e126-4877-b539-8fe926f02bc7",
   "metadata": {},
   "source": [
    "<div class=\"alert alert-info\"><font color='hotpink'>\n",
    "<b>Cleaning the Messages dataframe:</b>\n",
    "<br>\n",
    "- I used .info() to find that there are 76051 rows in the dataframe, and there is no missing data.\n",
    "<br>\n",
    "- I changed the message_date column to date time, using the to_datetime function, and dt.strftime, so that it matches the date format of the other dataframes.\n",
    "<br>\n",
    "- I changed the message_date column to a shorter name.\n",
    "<br>\n",
    "- I changed the data type of the user_id column to object, because there is no need to do math on this column.\n",
    "<br>\n",
    "- I changed the name of the 'id' column to 'msg_id' to make it more descriptive, and to distinguish it from user_id.\n",
    "</div></font color>"
   ]
  },
  {
   "cell_type": "markdown",
   "id": "0a828d68-6c60-4148-ac59-6c28c6d27b72",
   "metadata": {},
   "source": [
    "## <span style=\"color: hotpink;\">Internet dataframe</span>"
   ]
  },
  {
   "cell_type": "markdown",
   "id": "82b1e1e7-8879-40b9-8a2d-aeef874a2200",
   "metadata": {},
   "source": [
    "### Inspect the data"
   ]
  },
  {
   "cell_type": "code",
   "execution_count": 650,
   "id": "b90ece91-df01-4373-a9a5-7ae4b02b4761",
   "metadata": {},
   "outputs": [
    {
     "data": {
      "text/html": [
       "<div>\n",
       "<style scoped>\n",
       "    .dataframe tbody tr th:only-of-type {\n",
       "        vertical-align: middle;\n",
       "    }\n",
       "\n",
       "    .dataframe tbody tr th {\n",
       "        vertical-align: top;\n",
       "    }\n",
       "\n",
       "    .dataframe thead th {\n",
       "        text-align: right;\n",
       "    }\n",
       "</style>\n",
       "<table border=\"1\" class=\"dataframe\">\n",
       "  <thead>\n",
       "    <tr style=\"text-align: right;\">\n",
       "      <th></th>\n",
       "      <th>id</th>\n",
       "      <th>user_id</th>\n",
       "      <th>session_date</th>\n",
       "      <th>mb_used</th>\n",
       "    </tr>\n",
       "  </thead>\n",
       "  <tbody>\n",
       "    <tr>\n",
       "      <th>0</th>\n",
       "      <td>1000_13</td>\n",
       "      <td>1000</td>\n",
       "      <td>2018-12-29</td>\n",
       "      <td>89.86</td>\n",
       "    </tr>\n",
       "    <tr>\n",
       "      <th>1</th>\n",
       "      <td>1000_204</td>\n",
       "      <td>1000</td>\n",
       "      <td>2018-12-31</td>\n",
       "      <td>0.00</td>\n",
       "    </tr>\n",
       "    <tr>\n",
       "      <th>2</th>\n",
       "      <td>1000_379</td>\n",
       "      <td>1000</td>\n",
       "      <td>2018-12-28</td>\n",
       "      <td>660.40</td>\n",
       "    </tr>\n",
       "    <tr>\n",
       "      <th>3</th>\n",
       "      <td>1000_413</td>\n",
       "      <td>1000</td>\n",
       "      <td>2018-12-26</td>\n",
       "      <td>270.99</td>\n",
       "    </tr>\n",
       "    <tr>\n",
       "      <th>4</th>\n",
       "      <td>1000_442</td>\n",
       "      <td>1000</td>\n",
       "      <td>2018-12-27</td>\n",
       "      <td>880.22</td>\n",
       "    </tr>\n",
       "  </tbody>\n",
       "</table>\n",
       "</div>"
      ],
      "text/plain": [
       "         id  user_id session_date  mb_used\n",
       "0   1000_13     1000   2018-12-29    89.86\n",
       "1  1000_204     1000   2018-12-31     0.00\n",
       "2  1000_379     1000   2018-12-28   660.40\n",
       "3  1000_413     1000   2018-12-26   270.99\n",
       "4  1000_442     1000   2018-12-27   880.22"
      ]
     },
     "metadata": {},
     "output_type": "display_data"
    }
   ],
   "source": [
    "display(internet.head(5))"
   ]
  },
  {
   "cell_type": "code",
   "execution_count": 651,
   "id": "daa74009-1e22-4951-8c29-886929695893",
   "metadata": {},
   "outputs": [],
   "source": [
    "# id column needs to be renamed to 'int_id'.\n",
    "# mb_used needs to be renamed to gb_used"
   ]
  },
  {
   "cell_type": "code",
   "execution_count": 652,
   "id": "6121f7f0-63b6-4f92-95c8-8fdb92631454",
   "metadata": {},
   "outputs": [
    {
     "data": {
      "text/plain": [
       "(104825, 4)"
      ]
     },
     "execution_count": 652,
     "metadata": {},
     "output_type": "execute_result"
    }
   ],
   "source": [
    "internet.shape"
   ]
  },
  {
   "cell_type": "code",
   "execution_count": 653,
   "id": "d8db09de-79ee-4a36-95ee-29e1a4e78d44",
   "metadata": {},
   "outputs": [],
   "source": [
    "# There are 104,825 columns, and 4 rows."
   ]
  },
  {
   "cell_type": "code",
   "execution_count": 654,
   "id": "103f16ed-05d6-49a4-85e8-48b8b1cef5d3",
   "metadata": {},
   "outputs": [
    {
     "data": {
      "text/plain": [
       "Index(['id', 'user_id', 'session_date', 'mb_used'], dtype='object')"
      ]
     },
     "execution_count": 654,
     "metadata": {},
     "output_type": "execute_result"
    }
   ],
   "source": [
    "internet.columns"
   ]
  },
  {
   "cell_type": "code",
   "execution_count": 655,
   "id": "6d1e9762-a7b0-433a-a25d-c5938de6c2e9",
   "metadata": {},
   "outputs": [
    {
     "name": "stdout",
     "output_type": "stream",
     "text": [
      "<class 'pandas.core.frame.DataFrame'>\n",
      "RangeIndex: 104825 entries, 0 to 104824\n",
      "Data columns (total 4 columns):\n",
      " #   Column        Non-Null Count   Dtype  \n",
      "---  ------        --------------   -----  \n",
      " 0   id            104825 non-null  object \n",
      " 1   user_id       104825 non-null  int64  \n",
      " 2   session_date  104825 non-null  object \n",
      " 3   mb_used       104825 non-null  float64\n",
      "dtypes: float64(1), int64(1), object(2)\n",
      "memory usage: 3.2+ MB\n"
     ]
    }
   ],
   "source": [
    "internet.info()"
   ]
  },
  {
   "cell_type": "code",
   "execution_count": 656,
   "id": "7612e608-4a4a-45f0-879b-c1611ad00cad",
   "metadata": {},
   "outputs": [],
   "source": [
    "# There are no missing rows.\n",
    "# user_id datatype should be changed to object\n",
    "# session_date needs to change to type date time"
   ]
  },
  {
   "cell_type": "code",
   "execution_count": 657,
   "id": "18784066-2451-4692-ad36-5b8ae9b02b91",
   "metadata": {},
   "outputs": [],
   "source": [
    "#mb_used needs to be converted from megabytes to gigabytes."
   ]
  },
  {
   "cell_type": "markdown",
   "id": "04fdabb3-cf52-4750-8668-da75ea173ed1",
   "metadata": {},
   "source": [
    "### Clean the Internet dataframe"
   ]
  },
  {
   "cell_type": "code",
   "execution_count": 659,
   "id": "4cc49e0a-b863-49e6-9c8e-3ffdadb2a800",
   "metadata": {},
   "outputs": [
    {
     "name": "stdout",
     "output_type": "stream",
     "text": [
      "id              0\n",
      "user_id         0\n",
      "session_date    0\n",
      "mb_used         0\n",
      "dtype: int64\n"
     ]
    }
   ],
   "source": [
    "# double check for missing values in the Internet dataframe\n",
    "missing_internet_rows = internet.isna().sum()\n",
    "print(missing_internet_rows)"
   ]
  },
  {
   "cell_type": "code",
   "execution_count": 660,
   "id": "eb941f06-f530-4d10-a687-11254796312d",
   "metadata": {},
   "outputs": [
    {
     "data": {
      "text/html": [
       "<div style='color: hotpink;'><b>There are no missing rows in the Internet dataframe.</b></div>"
      ],
      "text/plain": [
       "<IPython.core.display.HTML object>"
      ]
     },
     "metadata": {},
     "output_type": "display_data"
    }
   ],
   "source": [
    "show_html_output(f\"There are no missing rows in the Internet dataframe.\")"
   ]
  },
  {
   "cell_type": "code",
   "execution_count": 661,
   "id": "285cdeda-adcd-41a1-b9b8-ef0c3b752ede",
   "metadata": {},
   "outputs": [],
   "source": [
    "# Rename the id column\n",
    "internet = internet.rename(columns={'id': 'int_id'})"
   ]
  },
  {
   "cell_type": "code",
   "execution_count": 662,
   "id": "9a50fb43-ef5e-4eaf-a63b-4276c19ab888",
   "metadata": {},
   "outputs": [],
   "source": [
    "# Rename the mb_used column\n",
    "internet = internet.rename(columns={'mb_used': 'gb_used'})"
   ]
  },
  {
   "cell_type": "code",
   "execution_count": 663,
   "id": "72358f75-9f71-40b6-a15d-d088f22094d8",
   "metadata": {},
   "outputs": [],
   "source": [
    "#Change data type of user_id to object\n",
    "internet['user_id'] = internet['user_id'].astype(object)"
   ]
  },
  {
   "cell_type": "code",
   "execution_count": 664,
   "id": "0907c667-ed1a-4d45-8db2-c39e2ff825ff",
   "metadata": {},
   "outputs": [],
   "source": [
    "# Change session_date to type date time.\n",
    "# Change the session_date column to month first\n",
    "internet['session_date'] = pd.to_datetime(internet['session_date'])\n",
    "internet['session_date'] = internet['session_date'].dt.strftime('%m-%d-%y')"
   ]
  },
  {
   "cell_type": "code",
   "execution_count": 665,
   "id": "c208bcf1-dfd2-46a5-9640-9e64b0d3223a",
   "metadata": {},
   "outputs": [
    {
     "data": {
      "text/html": [
       "<div style='color: hotpink;'><b>Convert megabytes to gigabytes.</b></div>"
      ],
      "text/plain": [
       "<IPython.core.display.HTML object>"
      ]
     },
     "metadata": {},
     "output_type": "display_data"
    }
   ],
   "source": [
    "show_html_output(f\"Convert megabytes to gigabytes.\")"
   ]
  },
  {
   "cell_type": "code",
   "execution_count": 666,
   "id": "c60dfa6c-f79e-44fd-8c1e-c39f6c936ec3",
   "metadata": {},
   "outputs": [],
   "source": [
    "internet['gb_used'] = internet['gb_used']  * .001"
   ]
  },
  {
   "cell_type": "code",
   "execution_count": 667,
   "id": "789d2bc1-cb4d-45b4-9d67-c339b0b259d4",
   "metadata": {},
   "outputs": [
    {
     "name": "stdout",
     "output_type": "stream",
     "text": [
      "         int_id user_id session_date  gb_used\n",
      "37773  1171_144    1171     10-28-18  0.60544\n",
      "65375   1301_65    1301     12-07-18  0.15142\n",
      "44945  1199_215    1199     12-11-18  0.00000\n"
     ]
    }
   ],
   "source": [
    "# Print a sample of data for the internet traffic\n",
    "print(internet.sample(3))"
   ]
  },
  {
   "cell_type": "code",
   "execution_count": 668,
   "id": "c08bb1fa-f3c9-4a7b-829f-9c6207868270",
   "metadata": {},
   "outputs": [
    {
     "name": "stdout",
     "output_type": "stream",
     "text": [
      "         int_id user_id session_date  gb_used\n",
      "11723   1057_63    1057     12-24-18  0.27214\n",
      "20583  1095_259    1095     06-27-18  0.00000\n",
      "40545  1182_226    1182     10-18-18  0.79483\n",
      "33682  1153_184    1153     10-17-18  0.43268\n",
      "86397   1401_59    1401     12-23-18  0.05894\n",
      "21597  1099_351    1099     05-11-18  0.00000\n",
      "46792   1208_23    1208     12-29-18  0.00000\n",
      "20673  1095_368    1095     11-17-18  0.67071\n",
      "13539   1063_45    1063     12-16-18  0.56485\n",
      "50404  1224_275    1224     08-04-18  0.39275\n"
     ]
    }
   ],
   "source": [
    "print(internet.sample(10))"
   ]
  },
  {
   "cell_type": "markdown",
   "id": "c1846c68-a672-4088-8663-18a164d2c874",
   "metadata": {},
   "source": [
    "<div class=\"alert alert-info\"><font color='hotpink'>\n",
    "<b>Cleaning the Internet dataframe:</b>\n",
    "<br>\n",
    "- I renamed the id column to int_id to distinguish it from id columns in the calls, and messages dataframes.\n",
    "<br>\n",
    "- I renamed the mb_used column, to gb_used, because Megaline charges customers per GB, not per MB.\n",
    "<br>\n",
    "- I multiplied all items in the gb_used column, by .001, to convert the data from megabytes to gigabytes, because Megaline charges per gigabyte. \n",
    "<br>\n",
    "- I changed use_id to type object, because I will not need to do math on this column.\n",
    "<br>\n",
    "- I used to_datetime and dt.strftime to change the output of the session_date column to print month first, to match the format of the other date columns in the other dataframes.\n",
    "</font color></div>"
   ]
  },
  {
   "cell_type": "markdown",
   "id": "2044e881-85a0-47c5-bd8b-2facc29d720d",
   "metadata": {},
   "source": [
    "<h2 style=\"color: red;\">Plan conditions</h2>"
   ]
  },
  {
   "cell_type": "code",
   "execution_count": 671,
   "id": "e543d5c2-5874-4685-9e46-8716f8d7121a",
   "metadata": {},
   "outputs": [
    {
     "data": {
      "text/html": [
       "<div style='color: hotpink;'><b>These are the conditions of the two plans:</b></div>"
      ],
      "text/plain": [
       "<IPython.core.display.HTML object>"
      ]
     },
     "metadata": {},
     "output_type": "display_data"
    }
   ],
   "source": [
    "show_html_output(f\"These are the conditions of the two plans:\")"
   ]
  },
  {
   "cell_type": "markdown",
   "id": "bec9fd04-8db0-40aa-bab5-754c0a887c1f",
   "metadata": {},
   "source": [
    "<div class=\"alert alert-info\"><font color='hotpink'>\n",
    "<b>Surf plan:</b>\n",
    "<br>\n",
    "- \\$20 base charge per month.\n",
    "<br>\n",
    "- 50 text messages are included per month. Go over that, and you pay 3 cents per extra message.\n",
    "<br>\n",
    "- 15.3 GB included per month. Go over that, and you pay $10 per extra GB.\n",
    "<br>\n",
    "- 500 call minutes included per month. Go over that, and you pay 3 cents per extra minute. \n",
    "</font color></div>"
   ]
  },
  {
   "cell_type": "markdown",
   "id": "2537f834-5371-4a3f-a8e1-4d597a6b7429",
   "metadata": {},
   "source": [
    "<div class=\"alert alert-info\"><font color='hotpink'>\n",
    "<b>Ultimate plan:</b>\n",
    "<br>\n",
    "- \\$70 base charge per month.\n",
    "<br>\n",
    "- 1000 text messages are included per month. Go over that, and you pay 1 cent per extra message.\n",
    "<br>\n",
    "- 30.7 GB included per month. Go over that, and you pay $7 per extra GB.\n",
    "<br>\n",
    "- 3000 call minutes included per month. Go over that, and you pay 1 cent per extra minute. \n",
    "</font color></div>"
   ]
  },
  {
   "cell_type": "markdown",
   "id": "81e309ca-9a5f-455c-bf36-b4c4979fd9e7",
   "metadata": {},
   "source": [
    "<div class=\"alert alert-info\"><font color='hotpink'>\n",
    "<b>Megaline rounds up</b>\n",
    "<br>\n",
    "- Phone calls - seconds are rounded up, to whole minutes, for each call (if a phone call lasted one second, it will be rounded up, to one minute.)\n",
    "<br>\n",
    "- Internet sessions - megabytes are rounded up, to gigabytes, for the month (they are not rounded up per session.) \n",
    "</font color></div>"
   ]
  },
  {
   "cell_type": "markdown",
   "id": "2ef3b6ad-2c77-4a85-b372-561e5f5216c2",
   "metadata": {},
   "source": [
    "<h2 style=\"color: red;\">Aggregate data per user</h2>"
   ]
  },
  {
   "cell_type": "code",
   "execution_count": 676,
   "id": "4bf0a194-9a33-48d2-ac83-0dd481df6069",
   "metadata": {},
   "outputs": [],
   "source": [
    "# Calls dataframe holds user_id\n",
    "# Users dataframe holds user_id and also plan\n",
    "# Messages dataframe holds user_id\n",
    "# Internet dataframe holds user_id\n",
    "# Plans dataframe holds plan"
   ]
  },
  {
   "cell_type": "code",
   "execution_count": 677,
   "id": "819ae9c1-2938-4ba1-99bd-b83b88232b40",
   "metadata": {},
   "outputs": [],
   "source": [
    "# Downcast numeric columns to save memory, because the kernal was failing, when attempting to merge 5 dataframes together.\n",
    "#calls['user_id'] = pd.to_numeric(calls['user_id'], downcast='integer')\n",
    "#users['user_id'] = pd.to_numeric(users['user_id'], downcast='integer')\n",
    "#messages['user_id'] = pd.to_numeric(messages['user_id'], downcast='integer')\n",
    "#internet['user_id'] = pd.to_numeric(internet['user_id'], downcast='integer')"
   ]
  },
  {
   "cell_type": "markdown",
   "id": "91561232-3068-4ac9-a9d7-c5f21146d95d",
   "metadata": {},
   "source": [
    "<div class=\"alert alert-info\"><font color='hotpink'>\n",
    "<b>Find the answers to these questions: </b>\n",
    "<br>\n",
    "- What is the number of calls made by each user, per month?\n",
    "<br>\n",
    "- What is the amount of minutes spent by each user, per month?\n",
    "<br>\n",
    "- What is the number of messages sent by each user, per month?\n",
    "<br>\n",
    "- What is the volume of internet traffic used by each user, per month ?\n",
    "</font color></div>"
   ]
  },
  {
   "cell_type": "raw",
   "id": "529e51f0-bd07-4d70-a20a-c5706b0733df",
   "metadata": {},
   "source": [
    "display(calls)"
   ]
  },
  {
   "cell_type": "code",
   "execution_count": 679,
   "id": "c734f84e-01d4-4f6b-b03a-faeb4fa38af8",
   "metadata": {},
   "outputs": [
    {
     "name": "stdout",
     "output_type": "stream",
     "text": [
      "    call_id user_id  call_date  duration\n",
      "0   1000_93    1000 2018-12-27         9\n",
      "1  1000_145    1000 2018-12-27        14\n",
      "2  1000_247    1000 2018-12-27        15\n"
     ]
    }
   ],
   "source": [
    "# Convert 'call_date' column to datetime format \n",
    "calls['call_date'] = pd.to_datetime(calls['call_date'], format='%m-%d-%y')\n",
    "print(calls.head(3))"
   ]
  },
  {
   "cell_type": "code",
   "execution_count": 680,
   "id": "0adb1d77-5bf0-4a87-bb85-698e867bb0be",
   "metadata": {},
   "outputs": [
    {
     "name": "stdout",
     "output_type": "stream",
     "text": [
      "    call_id user_id  call_date  duration  month\n",
      "0   1000_93    1000 2018-12-27         9     12\n",
      "1  1000_145    1000 2018-12-27        14     12\n",
      "2  1000_247    1000 2018-12-27        15     12\n"
     ]
    }
   ],
   "source": [
    "# Calculate the number of calls made by each user per month.\n",
    "# Extract month and year\n",
    "calls['month'] = calls['call_date'].dt.month\n",
    "print(calls.head(3))"
   ]
  },
  {
   "cell_type": "code",
   "execution_count": 681,
   "id": "0d91797b-15af-444c-8b02-af1f94e54f41",
   "metadata": {},
   "outputs": [
    {
     "data": {
      "text/html": [
       "<div style='color: hotpink;'><b>Total number of calls, per user, by month:</b></div>"
      ],
      "text/plain": [
       "<IPython.core.display.HTML object>"
      ]
     },
     "metadata": {},
     "output_type": "display_data"
    }
   ],
   "source": [
    "show_html_output(f\"Total number of calls, per user, by month:\")"
   ]
  },
  {
   "cell_type": "code",
   "execution_count": 682,
   "id": "38e0ca00-b0a7-48b7-bbff-bbfc204532cd",
   "metadata": {},
   "outputs": [
    {
     "name": "stdout",
     "output_type": "stream",
     "text": [
      "   user_id  month  call_count\n",
      "0     1000     12          16\n",
      "1     1001      8          27\n",
      "2     1001      9          49\n",
      "3     1001     10          65\n",
      "4     1001     11          64\n",
      "5     1001     12          56\n",
      "6     1002     10          11\n",
      "7     1002     11          55\n",
      "8     1002     12          47\n",
      "9     1003     12         149\n"
     ]
    }
   ],
   "source": [
    "# Group by 'user_id' and 'month_year', to count calls\n",
    "calls_per_user_monthly = calls.groupby(['user_id', 'month']).size().reset_index(name='call_count')\n",
    "print(calls_per_user_monthly.head(10))"
   ]
  },
  {
   "cell_type": "code",
   "execution_count": 683,
   "id": "7130225a-19f6-4c55-9b65-51d6bf84a88d",
   "metadata": {},
   "outputs": [
    {
     "data": {
      "text/html": [
       "<div style='color: hotpink;'><b>Total duration of minutes, per user, by month:</b></div>"
      ],
      "text/plain": [
       "<IPython.core.display.HTML object>"
      ]
     },
     "metadata": {},
     "output_type": "display_data"
    }
   ],
   "source": [
    "show_html_output(f\"Total duration of minutes, per user, by month:\")"
   ]
  },
  {
   "cell_type": "code",
   "execution_count": 684,
   "id": "c297e9b2-58ff-4151-bb98-ea57bc2f95c8",
   "metadata": {},
   "outputs": [
    {
     "data": {
      "text/html": [
       "<div>\n",
       "<style scoped>\n",
       "    .dataframe tbody tr th:only-of-type {\n",
       "        vertical-align: middle;\n",
       "    }\n",
       "\n",
       "    .dataframe tbody tr th {\n",
       "        vertical-align: top;\n",
       "    }\n",
       "\n",
       "    .dataframe thead th {\n",
       "        text-align: right;\n",
       "    }\n",
       "</style>\n",
       "<table border=\"1\" class=\"dataframe\">\n",
       "  <thead>\n",
       "    <tr style=\"text-align: right;\">\n",
       "      <th></th>\n",
       "      <th>user_id</th>\n",
       "      <th>month</th>\n",
       "      <th>duration</th>\n",
       "    </tr>\n",
       "  </thead>\n",
       "  <tbody>\n",
       "    <tr>\n",
       "      <th>0</th>\n",
       "      <td>1000</td>\n",
       "      <td>12</td>\n",
       "      <td>124</td>\n",
       "    </tr>\n",
       "    <tr>\n",
       "      <th>1</th>\n",
       "      <td>1001</td>\n",
       "      <td>8</td>\n",
       "      <td>182</td>\n",
       "    </tr>\n",
       "    <tr>\n",
       "      <th>2</th>\n",
       "      <td>1001</td>\n",
       "      <td>9</td>\n",
       "      <td>315</td>\n",
       "    </tr>\n",
       "    <tr>\n",
       "      <th>3</th>\n",
       "      <td>1001</td>\n",
       "      <td>10</td>\n",
       "      <td>393</td>\n",
       "    </tr>\n",
       "    <tr>\n",
       "      <th>4</th>\n",
       "      <td>1001</td>\n",
       "      <td>11</td>\n",
       "      <td>426</td>\n",
       "    </tr>\n",
       "    <tr>\n",
       "      <th>5</th>\n",
       "      <td>1001</td>\n",
       "      <td>12</td>\n",
       "      <td>412</td>\n",
       "    </tr>\n",
       "    <tr>\n",
       "      <th>6</th>\n",
       "      <td>1002</td>\n",
       "      <td>10</td>\n",
       "      <td>59</td>\n",
       "    </tr>\n",
       "    <tr>\n",
       "      <th>7</th>\n",
       "      <td>1002</td>\n",
       "      <td>11</td>\n",
       "      <td>386</td>\n",
       "    </tr>\n",
       "    <tr>\n",
       "      <th>8</th>\n",
       "      <td>1002</td>\n",
       "      <td>12</td>\n",
       "      <td>384</td>\n",
       "    </tr>\n",
       "    <tr>\n",
       "      <th>9</th>\n",
       "      <td>1003</td>\n",
       "      <td>12</td>\n",
       "      <td>1104</td>\n",
       "    </tr>\n",
       "  </tbody>\n",
       "</table>\n",
       "</div>"
      ],
      "text/plain": [
       "   user_id  month  duration\n",
       "0     1000     12       124\n",
       "1     1001      8       182\n",
       "2     1001      9       315\n",
       "3     1001     10       393\n",
       "4     1001     11       426\n",
       "5     1001     12       412\n",
       "6     1002     10        59\n",
       "7     1002     11       386\n",
       "8     1002     12       384\n",
       "9     1003     12      1104"
      ]
     },
     "metadata": {},
     "output_type": "display_data"
    }
   ],
   "source": [
    "# Group by 'user_id' and 'month' to get the total duration\n",
    "min_per_user_monthly = calls.groupby(['user_id', 'month'])['duration'].sum().reset_index()\n",
    "display(min_per_user_monthly.head(10))"
   ]
  },
  {
   "cell_type": "code",
   "execution_count": 685,
   "id": "ee1f49dd-77cc-400d-968a-bd59daaadda7",
   "metadata": {},
   "outputs": [
    {
     "data": {
      "text/html": [
       "<div style='color: hotpink;'><b>Total number of text messages, per user, by month:</b></div>"
      ],
      "text/plain": [
       "<IPython.core.display.HTML object>"
      ]
     },
     "metadata": {},
     "output_type": "display_data"
    }
   ],
   "source": [
    "show_html_output(f\"Total number of text messages, per user, by month:\")"
   ]
  },
  {
   "cell_type": "code",
   "execution_count": 686,
   "id": "65ffc00a-1436-4362-8f86-e477c2889f16",
   "metadata": {},
   "outputs": [],
   "source": [
    "# Convert 'msg_date' column to datetime format\n",
    "messages['msg_date'] = pd.to_datetime(messages['msg_date'], format='%m-%d-%y')\n",
    "# Extract month and year\n",
    "messages['month'] = messages['msg_date'].dt.month"
   ]
  },
  {
   "cell_type": "code",
   "execution_count": 687,
   "id": "3dbf363c-f86b-4e5d-9d97-da19a322c4f9",
   "metadata": {},
   "outputs": [
    {
     "data": {
      "text/html": [
       "<div>\n",
       "<style scoped>\n",
       "    .dataframe tbody tr th:only-of-type {\n",
       "        vertical-align: middle;\n",
       "    }\n",
       "\n",
       "    .dataframe tbody tr th {\n",
       "        vertical-align: top;\n",
       "    }\n",
       "\n",
       "    .dataframe thead th {\n",
       "        text-align: right;\n",
       "    }\n",
       "</style>\n",
       "<table border=\"1\" class=\"dataframe\">\n",
       "  <thead>\n",
       "    <tr style=\"text-align: right;\">\n",
       "      <th></th>\n",
       "      <th>user_id</th>\n",
       "      <th>month</th>\n",
       "      <th>Total_messages</th>\n",
       "    </tr>\n",
       "  </thead>\n",
       "  <tbody>\n",
       "    <tr>\n",
       "      <th>0</th>\n",
       "      <td>1000</td>\n",
       "      <td>12</td>\n",
       "      <td>11</td>\n",
       "    </tr>\n",
       "    <tr>\n",
       "      <th>1</th>\n",
       "      <td>1001</td>\n",
       "      <td>8</td>\n",
       "      <td>30</td>\n",
       "    </tr>\n",
       "    <tr>\n",
       "      <th>2</th>\n",
       "      <td>1001</td>\n",
       "      <td>9</td>\n",
       "      <td>44</td>\n",
       "    </tr>\n",
       "    <tr>\n",
       "      <th>3</th>\n",
       "      <td>1001</td>\n",
       "      <td>10</td>\n",
       "      <td>53</td>\n",
       "    </tr>\n",
       "    <tr>\n",
       "      <th>4</th>\n",
       "      <td>1001</td>\n",
       "      <td>11</td>\n",
       "      <td>36</td>\n",
       "    </tr>\n",
       "    <tr>\n",
       "      <th>5</th>\n",
       "      <td>1001</td>\n",
       "      <td>12</td>\n",
       "      <td>44</td>\n",
       "    </tr>\n",
       "    <tr>\n",
       "      <th>6</th>\n",
       "      <td>1002</td>\n",
       "      <td>10</td>\n",
       "      <td>15</td>\n",
       "    </tr>\n",
       "    <tr>\n",
       "      <th>7</th>\n",
       "      <td>1002</td>\n",
       "      <td>11</td>\n",
       "      <td>32</td>\n",
       "    </tr>\n",
       "    <tr>\n",
       "      <th>8</th>\n",
       "      <td>1002</td>\n",
       "      <td>12</td>\n",
       "      <td>41</td>\n",
       "    </tr>\n",
       "    <tr>\n",
       "      <th>9</th>\n",
       "      <td>1003</td>\n",
       "      <td>12</td>\n",
       "      <td>50</td>\n",
       "    </tr>\n",
       "  </tbody>\n",
       "</table>\n",
       "</div>"
      ],
      "text/plain": [
       "   user_id  month  Total_messages\n",
       "0     1000     12              11\n",
       "1     1001      8              30\n",
       "2     1001      9              44\n",
       "3     1001     10              53\n",
       "4     1001     11              36\n",
       "5     1001     12              44\n",
       "6     1002     10              15\n",
       "7     1002     11              32\n",
       "8     1002     12              41\n",
       "9     1003     12              50"
      ]
     },
     "metadata": {},
     "output_type": "display_data"
    }
   ],
   "source": [
    "# Group by 'user_id' and 'month', count messages\n",
    "msg_per_user_monthly = messages.groupby(['user_id', 'month']).size().reset_index(name='Total_messages')\n",
    "display(msg_per_user_monthly.head(10))"
   ]
  },
  {
   "cell_type": "code",
   "execution_count": 688,
   "id": "2eff589b-7942-45fc-82f0-4e7941c59491",
   "metadata": {},
   "outputs": [
    {
     "data": {
      "text/html": [
       "<div style='color: hotpink;'><b>Volume of internet traffic:</b></div>"
      ],
      "text/plain": [
       "<IPython.core.display.HTML object>"
      ]
     },
     "metadata": {},
     "output_type": "display_data"
    }
   ],
   "source": [
    "show_html_output(f\"Volume of internet traffic:\")"
   ]
  },
  {
   "cell_type": "code",
   "execution_count": 689,
   "id": "e1c099c1-4795-45f6-81fb-5fef0ec1d334",
   "metadata": {},
   "outputs": [],
   "source": [
    "# Convert 'session_date' column to datetime format\n",
    "internet['session_date'] = pd.to_datetime(internet['session_date'], format='%m-%d-%y')"
   ]
  },
  {
   "cell_type": "code",
   "execution_count": 690,
   "id": "09f3fc57-2aaf-44cb-888f-e10bfd37b1fa",
   "metadata": {},
   "outputs": [],
   "source": [
    "# Extract month, and make new column in the internet dataframe\n",
    "internet['month'] = internet['session_date'].dt.month"
   ]
  },
  {
   "cell_type": "code",
   "execution_count": 691,
   "id": "ec32d9b5-e4e0-40f2-8306-e8100366fd54",
   "metadata": {},
   "outputs": [
    {
     "data": {
      "text/html": [
       "<div>\n",
       "<style scoped>\n",
       "    .dataframe tbody tr th:only-of-type {\n",
       "        vertical-align: middle;\n",
       "    }\n",
       "\n",
       "    .dataframe tbody tr th {\n",
       "        vertical-align: top;\n",
       "    }\n",
       "\n",
       "    .dataframe thead th {\n",
       "        text-align: right;\n",
       "    }\n",
       "</style>\n",
       "<table border=\"1\" class=\"dataframe\">\n",
       "  <thead>\n",
       "    <tr style=\"text-align: right;\">\n",
       "      <th></th>\n",
       "      <th>user_id</th>\n",
       "      <th>month</th>\n",
       "      <th>gb_used</th>\n",
       "    </tr>\n",
       "  </thead>\n",
       "  <tbody>\n",
       "    <tr>\n",
       "      <th>0</th>\n",
       "      <td>1000</td>\n",
       "      <td>12</td>\n",
       "      <td>1.90147</td>\n",
       "    </tr>\n",
       "    <tr>\n",
       "      <th>1</th>\n",
       "      <td>1001</td>\n",
       "      <td>8</td>\n",
       "      <td>6.91915</td>\n",
       "    </tr>\n",
       "    <tr>\n",
       "      <th>2</th>\n",
       "      <td>1001</td>\n",
       "      <td>9</td>\n",
       "      <td>13.31482</td>\n",
       "    </tr>\n",
       "    <tr>\n",
       "      <th>3</th>\n",
       "      <td>1001</td>\n",
       "      <td>10</td>\n",
       "      <td>22.33049</td>\n",
       "    </tr>\n",
       "    <tr>\n",
       "      <th>4</th>\n",
       "      <td>1001</td>\n",
       "      <td>11</td>\n",
       "      <td>18.50430</td>\n",
       "    </tr>\n",
       "    <tr>\n",
       "      <th>5</th>\n",
       "      <td>1001</td>\n",
       "      <td>12</td>\n",
       "      <td>19.36918</td>\n",
       "    </tr>\n",
       "    <tr>\n",
       "      <th>6</th>\n",
       "      <td>1002</td>\n",
       "      <td>10</td>\n",
       "      <td>6.55201</td>\n",
       "    </tr>\n",
       "    <tr>\n",
       "      <th>7</th>\n",
       "      <td>1002</td>\n",
       "      <td>11</td>\n",
       "      <td>19.34508</td>\n",
       "    </tr>\n",
       "    <tr>\n",
       "      <th>8</th>\n",
       "      <td>1002</td>\n",
       "      <td>12</td>\n",
       "      <td>14.39624</td>\n",
       "    </tr>\n",
       "    <tr>\n",
       "      <th>9</th>\n",
       "      <td>1003</td>\n",
       "      <td>12</td>\n",
       "      <td>27.04414</td>\n",
       "    </tr>\n",
       "  </tbody>\n",
       "</table>\n",
       "</div>"
      ],
      "text/plain": [
       "   user_id  month   gb_used\n",
       "0     1000     12   1.90147\n",
       "1     1001      8   6.91915\n",
       "2     1001      9  13.31482\n",
       "3     1001     10  22.33049\n",
       "4     1001     11  18.50430\n",
       "5     1001     12  19.36918\n",
       "6     1002     10   6.55201\n",
       "7     1002     11  19.34508\n",
       "8     1002     12  14.39624\n",
       "9     1003     12  27.04414"
      ]
     },
     "metadata": {},
     "output_type": "display_data"
    }
   ],
   "source": [
    "# Group by 'user_id' and 'month', and sum gb_used\n",
    "gb_total = internet.groupby(['user_id', 'month'])['gb_used'].sum().reset_index()\n",
    "display(gb_total.head(10))"
   ]
  },
  {
   "cell_type": "code",
   "execution_count": 692,
   "id": "c5bd5490-5d90-42d8-8176-db3c8920c3c1",
   "metadata": {},
   "outputs": [
    {
     "data": {
      "text/html": [
       "<div style='color: hotpink;'><b>Merge these dataframes:</b></div>"
      ],
      "text/plain": [
       "<IPython.core.display.HTML object>"
      ]
     },
     "metadata": {},
     "output_type": "display_data"
    }
   ],
   "source": [
    "show_html_output(f\"Merge these dataframes:\")"
   ]
  },
  {
   "cell_type": "code",
   "execution_count": 693,
   "id": "8b6bfc71-1c4c-43a8-8b3b-df689674c80e",
   "metadata": {},
   "outputs": [],
   "source": [
    "# calls_per_user_monthly holds user_id, month, call_count\n",
    "# min_per_user_monthly holds user_id, month, duration\n",
    "# msg_per_user_monthly holds user_id, month, messages\n",
    "# gb_total holds user_id, month, gb_used"
   ]
  },
  {
   "cell_type": "code",
   "execution_count": 694,
   "id": "0469c4cf-2da7-4e1c-b320-3581de3849e7",
   "metadata": {},
   "outputs": [],
   "source": [
    "# Merge calls_per_user_monthly with min_per_user_monthly\n",
    "merged_df = pd.merge(calls_per_user_monthly, min_per_user_monthly, on=['user_id', 'month'], how='inner')"
   ]
  },
  {
   "cell_type": "code",
   "execution_count": 695,
   "id": "968d658b-7d24-41fb-ae0d-2cc7ee70b5ad",
   "metadata": {},
   "outputs": [],
   "source": [
    "# Merge the result with msg_per_user_monthly\n",
    "merged_df = pd.merge(merged_df, msg_per_user_monthly, on=['user_id', 'month'], how='inner')"
   ]
  },
  {
   "cell_type": "code",
   "execution_count": 696,
   "id": "ea17f4f8-9d92-4d71-9c7b-55b232e7f858",
   "metadata": {},
   "outputs": [],
   "source": [
    "# Merge the final result with gb_total\n",
    "merged_df = pd.merge(merged_df, gb_total, on=['user_id', 'month'], how='inner')"
   ]
  },
  {
   "cell_type": "code",
   "execution_count": 697,
   "id": "4a23f7fe-be26-4934-b464-5deb6178c273",
   "metadata": {},
   "outputs": [
    {
     "data": {
      "text/html": [
       "<div>\n",
       "<style scoped>\n",
       "    .dataframe tbody tr th:only-of-type {\n",
       "        vertical-align: middle;\n",
       "    }\n",
       "\n",
       "    .dataframe tbody tr th {\n",
       "        vertical-align: top;\n",
       "    }\n",
       "\n",
       "    .dataframe thead th {\n",
       "        text-align: right;\n",
       "    }\n",
       "</style>\n",
       "<table border=\"1\" class=\"dataframe\">\n",
       "  <thead>\n",
       "    <tr style=\"text-align: right;\">\n",
       "      <th></th>\n",
       "      <th>user_id</th>\n",
       "      <th>month</th>\n",
       "      <th>call_count</th>\n",
       "      <th>duration</th>\n",
       "      <th>Total_messages</th>\n",
       "      <th>gb_used</th>\n",
       "    </tr>\n",
       "  </thead>\n",
       "  <tbody>\n",
       "    <tr>\n",
       "      <th>0</th>\n",
       "      <td>1000</td>\n",
       "      <td>12</td>\n",
       "      <td>16</td>\n",
       "      <td>124</td>\n",
       "      <td>11</td>\n",
       "      <td>1.90147</td>\n",
       "    </tr>\n",
       "    <tr>\n",
       "      <th>1</th>\n",
       "      <td>1001</td>\n",
       "      <td>8</td>\n",
       "      <td>27</td>\n",
       "      <td>182</td>\n",
       "      <td>30</td>\n",
       "      <td>6.91915</td>\n",
       "    </tr>\n",
       "    <tr>\n",
       "      <th>2</th>\n",
       "      <td>1001</td>\n",
       "      <td>9</td>\n",
       "      <td>49</td>\n",
       "      <td>315</td>\n",
       "      <td>44</td>\n",
       "      <td>13.31482</td>\n",
       "    </tr>\n",
       "    <tr>\n",
       "      <th>3</th>\n",
       "      <td>1001</td>\n",
       "      <td>10</td>\n",
       "      <td>65</td>\n",
       "      <td>393</td>\n",
       "      <td>53</td>\n",
       "      <td>22.33049</td>\n",
       "    </tr>\n",
       "    <tr>\n",
       "      <th>4</th>\n",
       "      <td>1001</td>\n",
       "      <td>11</td>\n",
       "      <td>64</td>\n",
       "      <td>426</td>\n",
       "      <td>36</td>\n",
       "      <td>18.50430</td>\n",
       "    </tr>\n",
       "    <tr>\n",
       "      <th>5</th>\n",
       "      <td>1001</td>\n",
       "      <td>12</td>\n",
       "      <td>56</td>\n",
       "      <td>412</td>\n",
       "      <td>44</td>\n",
       "      <td>19.36918</td>\n",
       "    </tr>\n",
       "    <tr>\n",
       "      <th>6</th>\n",
       "      <td>1002</td>\n",
       "      <td>10</td>\n",
       "      <td>11</td>\n",
       "      <td>59</td>\n",
       "      <td>15</td>\n",
       "      <td>6.55201</td>\n",
       "    </tr>\n",
       "    <tr>\n",
       "      <th>7</th>\n",
       "      <td>1002</td>\n",
       "      <td>11</td>\n",
       "      <td>55</td>\n",
       "      <td>386</td>\n",
       "      <td>32</td>\n",
       "      <td>19.34508</td>\n",
       "    </tr>\n",
       "    <tr>\n",
       "      <th>8</th>\n",
       "      <td>1002</td>\n",
       "      <td>12</td>\n",
       "      <td>47</td>\n",
       "      <td>384</td>\n",
       "      <td>41</td>\n",
       "      <td>14.39624</td>\n",
       "    </tr>\n",
       "    <tr>\n",
       "      <th>9</th>\n",
       "      <td>1003</td>\n",
       "      <td>12</td>\n",
       "      <td>149</td>\n",
       "      <td>1104</td>\n",
       "      <td>50</td>\n",
       "      <td>27.04414</td>\n",
       "    </tr>\n",
       "  </tbody>\n",
       "</table>\n",
       "</div>"
      ],
      "text/plain": [
       "   user_id  month  call_count  duration  Total_messages   gb_used\n",
       "0     1000     12          16       124              11   1.90147\n",
       "1     1001      8          27       182              30   6.91915\n",
       "2     1001      9          49       315              44  13.31482\n",
       "3     1001     10          65       393              53  22.33049\n",
       "4     1001     11          64       426              36  18.50430\n",
       "5     1001     12          56       412              44  19.36918\n",
       "6     1002     10          11        59              15   6.55201\n",
       "7     1002     11          55       386              32  19.34508\n",
       "8     1002     12          47       384              41  14.39624\n",
       "9     1003     12         149      1104              50  27.04414"
      ]
     },
     "metadata": {},
     "output_type": "display_data"
    }
   ],
   "source": [
    "# Display the result of all 4 dataframes merged\n",
    "display(merged_df.head(10))"
   ]
  },
  {
   "cell_type": "code",
   "execution_count": 698,
   "id": "fc5c1c00-7b63-476f-aff2-710c1c195988",
   "metadata": {},
   "outputs": [
    {
     "data": {
      "text/html": [
       "<div>\n",
       "<style scoped>\n",
       "    .dataframe tbody tr th:only-of-type {\n",
       "        vertical-align: middle;\n",
       "    }\n",
       "\n",
       "    .dataframe tbody tr th {\n",
       "        vertical-align: top;\n",
       "    }\n",
       "\n",
       "    .dataframe thead th {\n",
       "        text-align: right;\n",
       "    }\n",
       "</style>\n",
       "<table border=\"1\" class=\"dataframe\">\n",
       "  <thead>\n",
       "    <tr style=\"text-align: right;\">\n",
       "      <th></th>\n",
       "      <th>user_id</th>\n",
       "      <th>month</th>\n",
       "      <th>call_count</th>\n",
       "      <th>duration</th>\n",
       "      <th>Total_messages</th>\n",
       "      <th>gb_used</th>\n",
       "      <th>plan</th>\n",
       "      <th>is_ny_nj</th>\n",
       "    </tr>\n",
       "  </thead>\n",
       "  <tbody>\n",
       "    <tr>\n",
       "      <th>1756</th>\n",
       "      <td>1496</td>\n",
       "      <td>11</td>\n",
       "      <td>39</td>\n",
       "      <td>308</td>\n",
       "      <td>13</td>\n",
       "      <td>8.54736</td>\n",
       "      <td>surf</td>\n",
       "      <td>False</td>\n",
       "    </tr>\n",
       "    <tr>\n",
       "      <th>1757</th>\n",
       "      <td>1496</td>\n",
       "      <td>12</td>\n",
       "      <td>40</td>\n",
       "      <td>294</td>\n",
       "      <td>11</td>\n",
       "      <td>16.43899</td>\n",
       "      <td>surf</td>\n",
       "      <td>False</td>\n",
       "    </tr>\n",
       "    <tr>\n",
       "      <th>1758</th>\n",
       "      <td>1497</td>\n",
       "      <td>12</td>\n",
       "      <td>54</td>\n",
       "      <td>300</td>\n",
       "      <td>50</td>\n",
       "      <td>11.10655</td>\n",
       "      <td>ultimate</td>\n",
       "      <td>False</td>\n",
       "    </tr>\n",
       "  </tbody>\n",
       "</table>\n",
       "</div>"
      ],
      "text/plain": [
       "     user_id  month  call_count  duration  Total_messages   gb_used      plan  \\\n",
       "1756    1496     11          39       308              13   8.54736      surf   \n",
       "1757    1496     12          40       294              11  16.43899      surf   \n",
       "1758    1497     12          54       300              50  11.10655  ultimate   \n",
       "\n",
       "      is_ny_nj  \n",
       "1756     False  \n",
       "1757     False  \n",
       "1758     False  "
      ]
     },
     "metadata": {},
     "output_type": "display_data"
    }
   ],
   "source": [
    "# Merge the final merged_df with the 'plan' and 'is_ny_nj' columns from the plans dataframe\n",
    "merged_users = pd.merge(merged_df, users[['user_id', 'plan', 'is_ny_nj']], on='user_id', how='inner')\n",
    "display(merged_users.tail(3))"
   ]
  },
  {
   "cell_type": "code",
   "execution_count": 699,
   "id": "96e88eda-7874-4fdc-93d4-e76d225ef7f5",
   "metadata": {},
   "outputs": [
    {
     "data": {
      "text/html": [
       "<div>\n",
       "<style scoped>\n",
       "    .dataframe tbody tr th:only-of-type {\n",
       "        vertical-align: middle;\n",
       "    }\n",
       "\n",
       "    .dataframe tbody tr th {\n",
       "        vertical-align: top;\n",
       "    }\n",
       "\n",
       "    .dataframe thead th {\n",
       "        text-align: right;\n",
       "    }\n",
       "</style>\n",
       "<table border=\"1\" class=\"dataframe\">\n",
       "  <thead>\n",
       "    <tr style=\"text-align: right;\">\n",
       "      <th></th>\n",
       "      <th>user_id</th>\n",
       "      <th>month</th>\n",
       "      <th>call_count</th>\n",
       "      <th>duration</th>\n",
       "      <th>Total_messages</th>\n",
       "      <th>gb_used</th>\n",
       "      <th>plan</th>\n",
       "      <th>is_ny_nj</th>\n",
       "      <th>msg_included</th>\n",
       "      <th>gb_included</th>\n",
       "      <th>min_included</th>\n",
       "      <th>monthly_fee</th>\n",
       "      <th>fee_per_gb</th>\n",
       "      <th>fee_per_msg</th>\n",
       "      <th>fee_per_min</th>\n",
       "    </tr>\n",
       "  </thead>\n",
       "  <tbody>\n",
       "    <tr>\n",
       "      <th>1751</th>\n",
       "      <td>1494</td>\n",
       "      <td>11</td>\n",
       "      <td>82</td>\n",
       "      <td>509</td>\n",
       "      <td>35</td>\n",
       "      <td>18.40582</td>\n",
       "      <td>surf</td>\n",
       "      <td>True</td>\n",
       "      <td>50</td>\n",
       "      <td>15</td>\n",
       "      <td>500</td>\n",
       "      <td>20</td>\n",
       "      <td>10</td>\n",
       "      <td>0.03</td>\n",
       "      <td>0.03</td>\n",
       "    </tr>\n",
       "    <tr>\n",
       "      <th>1752</th>\n",
       "      <td>1494</td>\n",
       "      <td>12</td>\n",
       "      <td>72</td>\n",
       "      <td>431</td>\n",
       "      <td>33</td>\n",
       "      <td>15.30245</td>\n",
       "      <td>surf</td>\n",
       "      <td>True</td>\n",
       "      <td>50</td>\n",
       "      <td>15</td>\n",
       "      <td>500</td>\n",
       "      <td>20</td>\n",
       "      <td>10</td>\n",
       "      <td>0.03</td>\n",
       "      <td>0.03</td>\n",
       "    </tr>\n",
       "    <tr>\n",
       "      <th>1753</th>\n",
       "      <td>1496</td>\n",
       "      <td>8</td>\n",
       "      <td>18</td>\n",
       "      <td>122</td>\n",
       "      <td>2</td>\n",
       "      <td>8.60566</td>\n",
       "      <td>surf</td>\n",
       "      <td>False</td>\n",
       "      <td>50</td>\n",
       "      <td>15</td>\n",
       "      <td>500</td>\n",
       "      <td>20</td>\n",
       "      <td>10</td>\n",
       "      <td>0.03</td>\n",
       "      <td>0.03</td>\n",
       "    </tr>\n",
       "    <tr>\n",
       "      <th>1754</th>\n",
       "      <td>1496</td>\n",
       "      <td>9</td>\n",
       "      <td>52</td>\n",
       "      <td>414</td>\n",
       "      <td>21</td>\n",
       "      <td>16.38927</td>\n",
       "      <td>surf</td>\n",
       "      <td>False</td>\n",
       "      <td>50</td>\n",
       "      <td>15</td>\n",
       "      <td>500</td>\n",
       "      <td>20</td>\n",
       "      <td>10</td>\n",
       "      <td>0.03</td>\n",
       "      <td>0.03</td>\n",
       "    </tr>\n",
       "    <tr>\n",
       "      <th>1755</th>\n",
       "      <td>1496</td>\n",
       "      <td>10</td>\n",
       "      <td>46</td>\n",
       "      <td>317</td>\n",
       "      <td>18</td>\n",
       "      <td>14.28736</td>\n",
       "      <td>surf</td>\n",
       "      <td>False</td>\n",
       "      <td>50</td>\n",
       "      <td>15</td>\n",
       "      <td>500</td>\n",
       "      <td>20</td>\n",
       "      <td>10</td>\n",
       "      <td>0.03</td>\n",
       "      <td>0.03</td>\n",
       "    </tr>\n",
       "    <tr>\n",
       "      <th>1756</th>\n",
       "      <td>1496</td>\n",
       "      <td>11</td>\n",
       "      <td>39</td>\n",
       "      <td>308</td>\n",
       "      <td>13</td>\n",
       "      <td>8.54736</td>\n",
       "      <td>surf</td>\n",
       "      <td>False</td>\n",
       "      <td>50</td>\n",
       "      <td>15</td>\n",
       "      <td>500</td>\n",
       "      <td>20</td>\n",
       "      <td>10</td>\n",
       "      <td>0.03</td>\n",
       "      <td>0.03</td>\n",
       "    </tr>\n",
       "    <tr>\n",
       "      <th>1757</th>\n",
       "      <td>1496</td>\n",
       "      <td>12</td>\n",
       "      <td>40</td>\n",
       "      <td>294</td>\n",
       "      <td>11</td>\n",
       "      <td>16.43899</td>\n",
       "      <td>surf</td>\n",
       "      <td>False</td>\n",
       "      <td>50</td>\n",
       "      <td>15</td>\n",
       "      <td>500</td>\n",
       "      <td>20</td>\n",
       "      <td>10</td>\n",
       "      <td>0.03</td>\n",
       "      <td>0.03</td>\n",
       "    </tr>\n",
       "    <tr>\n",
       "      <th>1758</th>\n",
       "      <td>1497</td>\n",
       "      <td>12</td>\n",
       "      <td>54</td>\n",
       "      <td>300</td>\n",
       "      <td>50</td>\n",
       "      <td>11.10655</td>\n",
       "      <td>ultimate</td>\n",
       "      <td>False</td>\n",
       "      <td>1000</td>\n",
       "      <td>30</td>\n",
       "      <td>3000</td>\n",
       "      <td>70</td>\n",
       "      <td>7</td>\n",
       "      <td>0.01</td>\n",
       "      <td>0.01</td>\n",
       "    </tr>\n",
       "  </tbody>\n",
       "</table>\n",
       "</div>"
      ],
      "text/plain": [
       "     user_id  month  call_count  duration  Total_messages   gb_used      plan  \\\n",
       "1751    1494     11          82       509              35  18.40582      surf   \n",
       "1752    1494     12          72       431              33  15.30245      surf   \n",
       "1753    1496      8          18       122               2   8.60566      surf   \n",
       "1754    1496      9          52       414              21  16.38927      surf   \n",
       "1755    1496     10          46       317              18  14.28736      surf   \n",
       "1756    1496     11          39       308              13   8.54736      surf   \n",
       "1757    1496     12          40       294              11  16.43899      surf   \n",
       "1758    1497     12          54       300              50  11.10655  ultimate   \n",
       "\n",
       "      is_ny_nj  msg_included  gb_included  min_included  monthly_fee  \\\n",
       "1751      True            50           15           500           20   \n",
       "1752      True            50           15           500           20   \n",
       "1753     False            50           15           500           20   \n",
       "1754     False            50           15           500           20   \n",
       "1755     False            50           15           500           20   \n",
       "1756     False            50           15           500           20   \n",
       "1757     False            50           15           500           20   \n",
       "1758     False          1000           30          3000           70   \n",
       "\n",
       "      fee_per_gb  fee_per_msg  fee_per_min  \n",
       "1751          10         0.03         0.03  \n",
       "1752          10         0.03         0.03  \n",
       "1753          10         0.03         0.03  \n",
       "1754          10         0.03         0.03  \n",
       "1755          10         0.03         0.03  \n",
       "1756          10         0.03         0.03  \n",
       "1757          10         0.03         0.03  \n",
       "1758           7         0.01         0.01  "
      ]
     },
     "metadata": {},
     "output_type": "display_data"
    }
   ],
   "source": [
    "# Merge the final merged_df with the entire plans DataFrame\n",
    "merged_revenue = pd.merge(merged_users, plans, on='plan', how='inner')\n",
    "#display(merged_revenue.sample(15))\n",
    "display(merged_revenue.tail(8))"
   ]
  },
  {
   "cell_type": "code",
   "execution_count": 700,
   "id": "30bc69ce-9bd1-4f58-b9f5-215b17363f6d",
   "metadata": {},
   "outputs": [
    {
     "data": {
      "text/html": [
       "<div style='color: hotpink;'><b>Need to round up the gb_used column</b></div>"
      ],
      "text/plain": [
       "<IPython.core.display.HTML object>"
      ]
     },
     "metadata": {},
     "output_type": "display_data"
    }
   ],
   "source": [
    "show_html_output(f\"Need to round up the gb_used column\")"
   ]
  },
  {
   "cell_type": "code",
   "execution_count": 701,
   "id": "8e004a57-14d0-463f-96c2-f29627a579b3",
   "metadata": {},
   "outputs": [
    {
     "data": {
      "text/html": [
       "<div>\n",
       "<style scoped>\n",
       "    .dataframe tbody tr th:only-of-type {\n",
       "        vertical-align: middle;\n",
       "    }\n",
       "\n",
       "    .dataframe tbody tr th {\n",
       "        vertical-align: top;\n",
       "    }\n",
       "\n",
       "    .dataframe thead th {\n",
       "        text-align: right;\n",
       "    }\n",
       "</style>\n",
       "<table border=\"1\" class=\"dataframe\">\n",
       "  <thead>\n",
       "    <tr style=\"text-align: right;\">\n",
       "      <th></th>\n",
       "      <th>user_id</th>\n",
       "      <th>month</th>\n",
       "      <th>call_count</th>\n",
       "      <th>duration</th>\n",
       "      <th>Total_messages</th>\n",
       "      <th>gb_used</th>\n",
       "      <th>plan</th>\n",
       "      <th>is_ny_nj</th>\n",
       "      <th>msg_included</th>\n",
       "      <th>gb_included</th>\n",
       "      <th>min_included</th>\n",
       "      <th>monthly_fee</th>\n",
       "      <th>fee_per_gb</th>\n",
       "      <th>fee_per_msg</th>\n",
       "      <th>fee_per_min</th>\n",
       "    </tr>\n",
       "  </thead>\n",
       "  <tbody>\n",
       "    <tr>\n",
       "      <th>1751</th>\n",
       "      <td>1494</td>\n",
       "      <td>11</td>\n",
       "      <td>82</td>\n",
       "      <td>509</td>\n",
       "      <td>35</td>\n",
       "      <td>19.0</td>\n",
       "      <td>surf</td>\n",
       "      <td>True</td>\n",
       "      <td>50</td>\n",
       "      <td>15</td>\n",
       "      <td>500</td>\n",
       "      <td>20</td>\n",
       "      <td>10</td>\n",
       "      <td>0.03</td>\n",
       "      <td>0.03</td>\n",
       "    </tr>\n",
       "    <tr>\n",
       "      <th>1752</th>\n",
       "      <td>1494</td>\n",
       "      <td>12</td>\n",
       "      <td>72</td>\n",
       "      <td>431</td>\n",
       "      <td>33</td>\n",
       "      <td>16.0</td>\n",
       "      <td>surf</td>\n",
       "      <td>True</td>\n",
       "      <td>50</td>\n",
       "      <td>15</td>\n",
       "      <td>500</td>\n",
       "      <td>20</td>\n",
       "      <td>10</td>\n",
       "      <td>0.03</td>\n",
       "      <td>0.03</td>\n",
       "    </tr>\n",
       "    <tr>\n",
       "      <th>1753</th>\n",
       "      <td>1496</td>\n",
       "      <td>8</td>\n",
       "      <td>18</td>\n",
       "      <td>122</td>\n",
       "      <td>2</td>\n",
       "      <td>9.0</td>\n",
       "      <td>surf</td>\n",
       "      <td>False</td>\n",
       "      <td>50</td>\n",
       "      <td>15</td>\n",
       "      <td>500</td>\n",
       "      <td>20</td>\n",
       "      <td>10</td>\n",
       "      <td>0.03</td>\n",
       "      <td>0.03</td>\n",
       "    </tr>\n",
       "    <tr>\n",
       "      <th>1754</th>\n",
       "      <td>1496</td>\n",
       "      <td>9</td>\n",
       "      <td>52</td>\n",
       "      <td>414</td>\n",
       "      <td>21</td>\n",
       "      <td>17.0</td>\n",
       "      <td>surf</td>\n",
       "      <td>False</td>\n",
       "      <td>50</td>\n",
       "      <td>15</td>\n",
       "      <td>500</td>\n",
       "      <td>20</td>\n",
       "      <td>10</td>\n",
       "      <td>0.03</td>\n",
       "      <td>0.03</td>\n",
       "    </tr>\n",
       "    <tr>\n",
       "      <th>1755</th>\n",
       "      <td>1496</td>\n",
       "      <td>10</td>\n",
       "      <td>46</td>\n",
       "      <td>317</td>\n",
       "      <td>18</td>\n",
       "      <td>15.0</td>\n",
       "      <td>surf</td>\n",
       "      <td>False</td>\n",
       "      <td>50</td>\n",
       "      <td>15</td>\n",
       "      <td>500</td>\n",
       "      <td>20</td>\n",
       "      <td>10</td>\n",
       "      <td>0.03</td>\n",
       "      <td>0.03</td>\n",
       "    </tr>\n",
       "    <tr>\n",
       "      <th>1756</th>\n",
       "      <td>1496</td>\n",
       "      <td>11</td>\n",
       "      <td>39</td>\n",
       "      <td>308</td>\n",
       "      <td>13</td>\n",
       "      <td>9.0</td>\n",
       "      <td>surf</td>\n",
       "      <td>False</td>\n",
       "      <td>50</td>\n",
       "      <td>15</td>\n",
       "      <td>500</td>\n",
       "      <td>20</td>\n",
       "      <td>10</td>\n",
       "      <td>0.03</td>\n",
       "      <td>0.03</td>\n",
       "    </tr>\n",
       "    <tr>\n",
       "      <th>1757</th>\n",
       "      <td>1496</td>\n",
       "      <td>12</td>\n",
       "      <td>40</td>\n",
       "      <td>294</td>\n",
       "      <td>11</td>\n",
       "      <td>17.0</td>\n",
       "      <td>surf</td>\n",
       "      <td>False</td>\n",
       "      <td>50</td>\n",
       "      <td>15</td>\n",
       "      <td>500</td>\n",
       "      <td>20</td>\n",
       "      <td>10</td>\n",
       "      <td>0.03</td>\n",
       "      <td>0.03</td>\n",
       "    </tr>\n",
       "    <tr>\n",
       "      <th>1758</th>\n",
       "      <td>1497</td>\n",
       "      <td>12</td>\n",
       "      <td>54</td>\n",
       "      <td>300</td>\n",
       "      <td>50</td>\n",
       "      <td>12.0</td>\n",
       "      <td>ultimate</td>\n",
       "      <td>False</td>\n",
       "      <td>1000</td>\n",
       "      <td>30</td>\n",
       "      <td>3000</td>\n",
       "      <td>70</td>\n",
       "      <td>7</td>\n",
       "      <td>0.01</td>\n",
       "      <td>0.01</td>\n",
       "    </tr>\n",
       "  </tbody>\n",
       "</table>\n",
       "</div>"
      ],
      "text/plain": [
       "     user_id  month  call_count  duration  Total_messages  gb_used      plan  \\\n",
       "1751    1494     11          82       509              35     19.0      surf   \n",
       "1752    1494     12          72       431              33     16.0      surf   \n",
       "1753    1496      8          18       122               2      9.0      surf   \n",
       "1754    1496      9          52       414              21     17.0      surf   \n",
       "1755    1496     10          46       317              18     15.0      surf   \n",
       "1756    1496     11          39       308              13      9.0      surf   \n",
       "1757    1496     12          40       294              11     17.0      surf   \n",
       "1758    1497     12          54       300              50     12.0  ultimate   \n",
       "\n",
       "      is_ny_nj  msg_included  gb_included  min_included  monthly_fee  \\\n",
       "1751      True            50           15           500           20   \n",
       "1752      True            50           15           500           20   \n",
       "1753     False            50           15           500           20   \n",
       "1754     False            50           15           500           20   \n",
       "1755     False            50           15           500           20   \n",
       "1756     False            50           15           500           20   \n",
       "1757     False            50           15           500           20   \n",
       "1758     False          1000           30          3000           70   \n",
       "\n",
       "      fee_per_gb  fee_per_msg  fee_per_min  \n",
       "1751          10         0.03         0.03  \n",
       "1752          10         0.03         0.03  \n",
       "1753          10         0.03         0.03  \n",
       "1754          10         0.03         0.03  \n",
       "1755          10         0.03         0.03  \n",
       "1756          10         0.03         0.03  \n",
       "1757          10         0.03         0.03  \n",
       "1758           7         0.01         0.01  "
      ]
     },
     "metadata": {},
     "output_type": "display_data"
    }
   ],
   "source": [
    "# Megaline rounds up the internet gb_used at the end of each month.\n",
    "merged_revenue['gb_used'] = np.ceil(merged_revenue['gb_used'])\n",
    "display(merged_revenue.tail(8))"
   ]
  },
  {
   "cell_type": "code",
   "execution_count": 702,
   "id": "fff611ea-c871-454e-b956-5e2420af731c",
   "metadata": {},
   "outputs": [
    {
     "data": {
      "text/html": [
       "<div style='color: hotpink;'><b>Create a function for monthly revenue for each user:</b></div>"
      ],
      "text/plain": [
       "<IPython.core.display.HTML object>"
      ]
     },
     "metadata": {},
     "output_type": "display_data"
    }
   ],
   "source": [
    "show_html_output(f\"Create a function for monthly revenue for each user:\")"
   ]
  },
  {
   "cell_type": "code",
   "execution_count": 703,
   "id": "2b776c7d-31d5-451c-b43e-1f666624dfab",
   "metadata": {},
   "outputs": [],
   "source": [
    "# Create a function that accepts the plan name\n",
    "# Separate surf plan from ultimate plan\n",
    "def calculate_revenue(row):\n",
    "    if row['plan'] == 'surf':\n",
    "        min = 0 if row['duration'] <= 500 else (row['duration'] - 500) * .03\n",
    "        msg = 0 if row['Total_messages'] <= 50 else (row['Total_messages'] - 50) * .03\n",
    "        gb = 0 if row['gb_used'] <= 15 else (row['gb_used'] - 15) * 10\n",
    "        return 20 + min + msg + gb\n",
    "    else:\n",
    "        min = 0 if row['duration'] <= 3000 else (row['duration'] - 3000) * .01\n",
    "        msg = 0 if row['Total_messages'] <= 1000 else (row['Total_messages'] - 1000) * .01\n",
    "        gb = 0 if row['gb_used'] <= 30 else (row['gb_used'] - 30) * 7\n",
    "        return 70 + min + msg + gb"
   ]
  },
  {
   "cell_type": "code",
   "execution_count": 704,
   "id": "8f00c786-2bc8-4640-b107-4df9933a7b05",
   "metadata": {},
   "outputs": [
    {
     "data": {
      "text/html": [
       "<div style='color: hotpink;'><b>Call the function</b></div>"
      ],
      "text/plain": [
       "<IPython.core.display.HTML object>"
      ]
     },
     "metadata": {},
     "output_type": "display_data"
    }
   ],
   "source": [
    "show_html_output(f\"Call the function\")"
   ]
  },
  {
   "cell_type": "code",
   "execution_count": 705,
   "id": "014605a4-e629-448d-8b8a-c0248ee83081",
   "metadata": {},
   "outputs": [],
   "source": [
    "# Apply the calculate_revenue function to each row in the merged dataframe, creating a new column\n",
    "merged_revenue['total_revenue'] = merged_revenue.apply(calculate_revenue, axis=1)\n",
    "#display(merged_revenue.head(5))"
   ]
  },
  {
   "cell_type": "code",
   "execution_count": 706,
   "id": "13df09cd-6f15-4eb4-92d4-75bcef6b6598",
   "metadata": {},
   "outputs": [
    {
     "name": "stdout",
     "output_type": "stream",
     "text": [
      "<class 'pandas.core.frame.DataFrame'>\n",
      "RangeIndex: 1759 entries, 0 to 1758\n",
      "Data columns (total 17 columns):\n",
      " #   Column          Non-Null Count  Dtype   \n",
      "---  ------          --------------  -----   \n",
      " 0   user_id         1759 non-null   object  \n",
      " 1   month           1759 non-null   int32   \n",
      " 2   call_count      1759 non-null   int64   \n",
      " 3   duration        1759 non-null   int64   \n",
      " 4   Total_messages  1759 non-null   int64   \n",
      " 5   gb_used         1759 non-null   float64 \n",
      " 6   plan            1759 non-null   object  \n",
      " 7   is_ny_nj        1759 non-null   bool    \n",
      " 8   msg_included    1759 non-null   int64   \n",
      " 9   gb_included     1759 non-null   int64   \n",
      " 10  min_included    1759 non-null   int64   \n",
      " 11  monthly_fee     1759 non-null   int64   \n",
      " 12  fee_per_gb      1759 non-null   int64   \n",
      " 13  fee_per_msg     1759 non-null   float64 \n",
      " 14  fee_per_min     1759 non-null   float64 \n",
      " 15  total_revenue   1759 non-null   float64 \n",
      " 16  month_abbr      1759 non-null   category\n",
      "dtypes: bool(1), category(1), float64(4), int32(1), int64(8), object(2)\n",
      "memory usage: 203.2+ KB\n"
     ]
    }
   ],
   "source": [
    "# Make 1 equal to 'Jan', 2 equal to 'Feb', etc\n",
    "month_mapping = {1: 'Jan', 2: 'Feb', 3: 'Mar', 4: 'Apr', 5: 'May', 6: 'Jun',\n",
    "                 7: 'Jul', 8: 'Aug', 9: 'Sep', 10: 'Oct', 11: 'Nov', 12: 'Dec'}\n",
    "\n",
    "# Define the order of the months\n",
    "month_order = ['Jan', 'Feb', 'Mar', 'Apr', 'May', 'Jun', 'Jul', 'Aug', 'Sep', 'Oct', 'Nov', 'Dec']\n",
    "\n",
    "#Add the month_abbr column\n",
    "merged_revenue['month_abbr'] = merged_revenue['month'].map(month_mapping)\n",
    "\n",
    "#make the month_abbr column Category type\n",
    "merged_revenue['month_abbr'] = pd.Categorical(merged_revenue['month_abbr'], categories=month_order, ordered=True)\n",
    "\n",
    "\n",
    "merged_revenue.info()"
   ]
  },
  {
   "cell_type": "markdown",
   "id": "19f0da14-f0a5-4fc7-a311-6529bd7a08a9",
   "metadata": {},
   "source": [
    "## Big Dataframe"
   ]
  },
  {
   "cell_type": "code",
   "execution_count": 708,
   "id": "a44b8dc5-4b5f-4cb9-a055-99a700a7bff8",
   "metadata": {},
   "outputs": [
    {
     "data": {
      "text/html": [
       "<div>\n",
       "<style scoped>\n",
       "    .dataframe tbody tr th:only-of-type {\n",
       "        vertical-align: middle;\n",
       "    }\n",
       "\n",
       "    .dataframe tbody tr th {\n",
       "        vertical-align: top;\n",
       "    }\n",
       "\n",
       "    .dataframe thead th {\n",
       "        text-align: right;\n",
       "    }\n",
       "</style>\n",
       "<table border=\"1\" class=\"dataframe\">\n",
       "  <thead>\n",
       "    <tr style=\"text-align: right;\">\n",
       "      <th></th>\n",
       "      <th>user_id</th>\n",
       "      <th>month</th>\n",
       "      <th>call_count</th>\n",
       "      <th>duration</th>\n",
       "      <th>Total_messages</th>\n",
       "      <th>gb_used</th>\n",
       "      <th>plan</th>\n",
       "      <th>is_ny_nj</th>\n",
       "      <th>msg_included</th>\n",
       "      <th>gb_included</th>\n",
       "      <th>min_included</th>\n",
       "      <th>monthly_fee</th>\n",
       "      <th>fee_per_gb</th>\n",
       "      <th>fee_per_msg</th>\n",
       "      <th>fee_per_min</th>\n",
       "      <th>total_revenue</th>\n",
       "      <th>month_abbr</th>\n",
       "    </tr>\n",
       "  </thead>\n",
       "  <tbody>\n",
       "    <tr>\n",
       "      <th>0</th>\n",
       "      <td>1000</td>\n",
       "      <td>12</td>\n",
       "      <td>16</td>\n",
       "      <td>124</td>\n",
       "      <td>11</td>\n",
       "      <td>2.0</td>\n",
       "      <td>ultimate</td>\n",
       "      <td>False</td>\n",
       "      <td>1000</td>\n",
       "      <td>30</td>\n",
       "      <td>3000</td>\n",
       "      <td>70</td>\n",
       "      <td>7</td>\n",
       "      <td>0.01</td>\n",
       "      <td>0.01</td>\n",
       "      <td>70.00</td>\n",
       "      <td>Dec</td>\n",
       "    </tr>\n",
       "    <tr>\n",
       "      <th>1</th>\n",
       "      <td>1001</td>\n",
       "      <td>8</td>\n",
       "      <td>27</td>\n",
       "      <td>182</td>\n",
       "      <td>30</td>\n",
       "      <td>7.0</td>\n",
       "      <td>surf</td>\n",
       "      <td>False</td>\n",
       "      <td>50</td>\n",
       "      <td>15</td>\n",
       "      <td>500</td>\n",
       "      <td>20</td>\n",
       "      <td>10</td>\n",
       "      <td>0.03</td>\n",
       "      <td>0.03</td>\n",
       "      <td>20.00</td>\n",
       "      <td>Aug</td>\n",
       "    </tr>\n",
       "    <tr>\n",
       "      <th>2</th>\n",
       "      <td>1001</td>\n",
       "      <td>9</td>\n",
       "      <td>49</td>\n",
       "      <td>315</td>\n",
       "      <td>44</td>\n",
       "      <td>14.0</td>\n",
       "      <td>surf</td>\n",
       "      <td>False</td>\n",
       "      <td>50</td>\n",
       "      <td>15</td>\n",
       "      <td>500</td>\n",
       "      <td>20</td>\n",
       "      <td>10</td>\n",
       "      <td>0.03</td>\n",
       "      <td>0.03</td>\n",
       "      <td>20.00</td>\n",
       "      <td>Sep</td>\n",
       "    </tr>\n",
       "    <tr>\n",
       "      <th>3</th>\n",
       "      <td>1001</td>\n",
       "      <td>10</td>\n",
       "      <td>65</td>\n",
       "      <td>393</td>\n",
       "      <td>53</td>\n",
       "      <td>23.0</td>\n",
       "      <td>surf</td>\n",
       "      <td>False</td>\n",
       "      <td>50</td>\n",
       "      <td>15</td>\n",
       "      <td>500</td>\n",
       "      <td>20</td>\n",
       "      <td>10</td>\n",
       "      <td>0.03</td>\n",
       "      <td>0.03</td>\n",
       "      <td>100.09</td>\n",
       "      <td>Oct</td>\n",
       "    </tr>\n",
       "    <tr>\n",
       "      <th>4</th>\n",
       "      <td>1001</td>\n",
       "      <td>11</td>\n",
       "      <td>64</td>\n",
       "      <td>426</td>\n",
       "      <td>36</td>\n",
       "      <td>19.0</td>\n",
       "      <td>surf</td>\n",
       "      <td>False</td>\n",
       "      <td>50</td>\n",
       "      <td>15</td>\n",
       "      <td>500</td>\n",
       "      <td>20</td>\n",
       "      <td>10</td>\n",
       "      <td>0.03</td>\n",
       "      <td>0.03</td>\n",
       "      <td>60.00</td>\n",
       "      <td>Nov</td>\n",
       "    </tr>\n",
       "  </tbody>\n",
       "</table>\n",
       "</div>"
      ],
      "text/plain": [
       "  user_id  month  call_count  duration  Total_messages  gb_used      plan  \\\n",
       "0    1000     12          16       124              11      2.0  ultimate   \n",
       "1    1001      8          27       182              30      7.0      surf   \n",
       "2    1001      9          49       315              44     14.0      surf   \n",
       "3    1001     10          65       393              53     23.0      surf   \n",
       "4    1001     11          64       426              36     19.0      surf   \n",
       "\n",
       "   is_ny_nj  msg_included  gb_included  min_included  monthly_fee  fee_per_gb  \\\n",
       "0     False          1000           30          3000           70           7   \n",
       "1     False            50           15           500           20          10   \n",
       "2     False            50           15           500           20          10   \n",
       "3     False            50           15           500           20          10   \n",
       "4     False            50           15           500           20          10   \n",
       "\n",
       "   fee_per_msg  fee_per_min  total_revenue month_abbr  \n",
       "0         0.01         0.01          70.00        Dec  \n",
       "1         0.03         0.03          20.00        Aug  \n",
       "2         0.03         0.03          20.00        Sep  \n",
       "3         0.03         0.03         100.09        Oct  \n",
       "4         0.03         0.03          60.00        Nov  "
      ]
     },
     "metadata": {},
     "output_type": "display_data"
    }
   ],
   "source": [
    "#The dataframe that holds 4 other dataframes.\n",
    "display(merged_revenue.head(5))"
   ]
  },
  {
   "cell_type": "code",
   "execution_count": 709,
   "id": "7df151f0-137b-4578-93e1-6d347181bb62",
   "metadata": {},
   "outputs": [
    {
     "name": "stdout",
     "output_type": "stream",
     "text": [
      "Number of NaN values in 'plan' column: 0\n"
     ]
    }
   ],
   "source": [
    "# Check for NaN values in the 'plan' column\n",
    "nan_count = merged_revenue['plan'].isna().sum()\n",
    "print(f\"Number of NaN values in 'plan' column: {nan_count}\")"
   ]
  },
  {
   "cell_type": "code",
   "execution_count": 710,
   "id": "293fb885-4086-4421-b353-f456443b313b",
   "metadata": {},
   "outputs": [
    {
     "data": {
      "text/html": [
       "<div style='color: hotpink;'><b>The new column, 'total_revenue', shows up on the far right, if you scroll over.</b></div>"
      ],
      "text/plain": [
       "<IPython.core.display.HTML object>"
      ]
     },
     "metadata": {},
     "output_type": "display_data"
    }
   ],
   "source": [
    "show_html_output(f\"The new column, 'total_revenue', shows up on the far right, if you scroll over.\")"
   ]
  },
  {
   "cell_type": "code",
   "execution_count": 711,
   "id": "37ed6173-3524-44b8-92a0-d6de7043e8f8",
   "metadata": {},
   "outputs": [
    {
     "data": {
      "text/html": [
       "<div>\n",
       "<style scoped>\n",
       "    .dataframe tbody tr th:only-of-type {\n",
       "        vertical-align: middle;\n",
       "    }\n",
       "\n",
       "    .dataframe tbody tr th {\n",
       "        vertical-align: top;\n",
       "    }\n",
       "\n",
       "    .dataframe thead th {\n",
       "        text-align: right;\n",
       "    }\n",
       "</style>\n",
       "<table border=\"1\" class=\"dataframe\">\n",
       "  <thead>\n",
       "    <tr style=\"text-align: right;\">\n",
       "      <th></th>\n",
       "      <th>user_id</th>\n",
       "      <th>month_abbr</th>\n",
       "      <th>total_revenue</th>\n",
       "    </tr>\n",
       "  </thead>\n",
       "  <tbody>\n",
       "    <tr>\n",
       "      <th>1377</th>\n",
       "      <td>1379</td>\n",
       "      <td>Dec</td>\n",
       "      <td>600.37</td>\n",
       "    </tr>\n",
       "    <tr>\n",
       "      <th>856</th>\n",
       "      <td>1240</td>\n",
       "      <td>Aug</td>\n",
       "      <td>387.85</td>\n",
       "    </tr>\n",
       "    <tr>\n",
       "      <th>858</th>\n",
       "      <td>1240</td>\n",
       "      <td>Oct</td>\n",
       "      <td>320.82</td>\n",
       "    </tr>\n",
       "    <tr>\n",
       "      <th>860</th>\n",
       "      <td>1240</td>\n",
       "      <td>Dec</td>\n",
       "      <td>308.57</td>\n",
       "    </tr>\n",
       "    <tr>\n",
       "      <th>1014</th>\n",
       "      <td>1272</td>\n",
       "      <td>Dec</td>\n",
       "      <td>294.14</td>\n",
       "    </tr>\n",
       "    <tr>\n",
       "      <th>997</th>\n",
       "      <td>1267</td>\n",
       "      <td>Dec</td>\n",
       "      <td>282.55</td>\n",
       "    </tr>\n",
       "    <tr>\n",
       "      <th>1602</th>\n",
       "      <td>1447</td>\n",
       "      <td>Nov</td>\n",
       "      <td>280.54</td>\n",
       "    </tr>\n",
       "    <tr>\n",
       "      <th>1066</th>\n",
       "      <td>1293</td>\n",
       "      <td>Oct</td>\n",
       "      <td>273.51</td>\n",
       "    </tr>\n",
       "    <tr>\n",
       "      <th>1002</th>\n",
       "      <td>1268</td>\n",
       "      <td>Jul</td>\n",
       "      <td>260.63</td>\n",
       "    </tr>\n",
       "    <tr>\n",
       "      <th>734</th>\n",
       "      <td>1201</td>\n",
       "      <td>Nov</td>\n",
       "      <td>260.00</td>\n",
       "    </tr>\n",
       "    <tr>\n",
       "      <th>1178</th>\n",
       "      <td>1328</td>\n",
       "      <td>Jul</td>\n",
       "      <td>255.51</td>\n",
       "    </tr>\n",
       "    <tr>\n",
       "      <th>23</th>\n",
       "      <td>1007</td>\n",
       "      <td>Oct</td>\n",
       "      <td>254.62</td>\n",
       "    </tr>\n",
       "    <tr>\n",
       "      <th>1603</th>\n",
       "      <td>1447</td>\n",
       "      <td>Dec</td>\n",
       "      <td>253.39</td>\n",
       "    </tr>\n",
       "    <tr>\n",
       "      <th>1363</th>\n",
       "      <td>1374</td>\n",
       "      <td>Aug</td>\n",
       "      <td>250.63</td>\n",
       "    </tr>\n",
       "    <tr>\n",
       "      <th>1001</th>\n",
       "      <td>1268</td>\n",
       "      <td>Jun</td>\n",
       "      <td>250.00</td>\n",
       "    </tr>\n",
       "  </tbody>\n",
       "</table>\n",
       "</div>"
      ],
      "text/plain": [
       "     user_id month_abbr  total_revenue\n",
       "1377    1379        Dec         600.37\n",
       "856     1240        Aug         387.85\n",
       "858     1240        Oct         320.82\n",
       "860     1240        Dec         308.57\n",
       "1014    1272        Dec         294.14\n",
       "997     1267        Dec         282.55\n",
       "1602    1447        Nov         280.54\n",
       "1066    1293        Oct         273.51\n",
       "1002    1268        Jul         260.63\n",
       "734     1201        Nov         260.00\n",
       "1178    1328        Jul         255.51\n",
       "23      1007        Oct         254.62\n",
       "1603    1447        Dec         253.39\n",
       "1363    1374        Aug         250.63\n",
       "1001    1268        Jun         250.00"
      ]
     },
     "metadata": {},
     "output_type": "display_data"
    }
   ],
   "source": [
    "# Select only these columns user_id, month, total_revenue\n",
    "filtered_revenue = merged_revenue[['user_id', 'month_abbr', 'total_revenue']]\n",
    "\n",
    "# Sort by 'total_revenue' and 'user_id'\n",
    "sorted_revenue = filtered_revenue.sort_values(by=['total_revenue', 'user_id'],ascending=False)\n",
    "\n",
    "# Display the result\n",
    "display(sorted_revenue.head(15))\n",
    "#print(sorted_revenue.sample(5))"
   ]
  },
  {
   "cell_type": "markdown",
   "id": "5e04bfcc-5006-42b2-a426-4000535ca5fe",
   "metadata": {},
   "source": [
    "<div class=\"alert alert-info\"><font color='hotpink'>\n",
    "<b>Aggregate data per user: </b>\n",
    "<br>\n",
    "<br>\n",
    "- <b>To find the number of calls made by each user, per month: </b>\n",
    "<br>&nbsp;&nbsp;&nbsp;&nbsp;I used dt.month to extract the month from the call_date column, in the calls dataframe, then create a new column called month.\n",
    "<br>&nbsp;&nbsp;&nbsp;&nbsp;I grouped by 'user_id' and 'month', used the .size function, and created a new column called 'call_count' to hold the size.\n",
    "<br>\n",
    "<br>\n",
    "- <b>To find the total duration of minutes by each user, per month:</b>\n",
    "<br>&nbsp;&nbsp;&nbsp;&nbsp;I grouped 'user_id' and 'month', in the calls dataframe, and summed the duration of minutes, to hold the sum.\n",
    "<br>\n",
    "<br>\n",
    "- <b>To find the number of messages sent by each user, per month:</b>\n",
    "<br>&nbsp;&nbsp;&nbsp;&nbsp;I used dt.month to create a new column, called 'month', in the messages dataframe.\n",
    "<br>&nbsp;&nbsp;&nbsp;&nbsp;I grouped by 'user_id' and 'month', and created a new column, 'Total_messages'  to store the count of messages for each group\n",
    "\n",
    "<br>\n",
    "<br>\n",
    "- <b>To get the volume of internet traffic used by each user, per month:</b>\n",
    "<br>&nbsp;&nbsp;&nbsp;&nbsp;I used dt.month to create a new column, called 'month', in the internet dataframe.\n",
    "<br>\n",
    "<br>\n",
    "- <b>To get the revenue per user, per month:</b>\n",
    "<br>&nbsp;&nbsp;&nbsp;&nbsp;I sorted the internet dataframe, by 'user_id' and 'month_abbr', and used .sum method on 'gb_used' to get the total of GB.\n",
    "<br>&nbsp;&nbsp;&nbsp;&nbsp;I merged 4 dataframes, so that all the data would be in one dataframe, and easier to query.\n",
    "<br>&nbsp;&nbsp;&nbsp;&nbsp;I created a dictionary called 'month_mapping' to make 1 equal to 'Jan', 2 equal to 'Feb', etc. \n",
    "<br>&nbsp;&nbsp;&nbsp;&nbsp;Then I used map, to create a new column called 'month_abbr' that would have 'Jan', 'Feb', etc.\n",
    "<br>&nbsp;&nbsp;&nbsp;&nbsp;I used Categorical method to make the 'month_abbr' column type Category, so I can order that column in the future.\n",
    "<br>&nbsp;&nbsp;&nbsp;&nbsp;I rounded up the gb_used column, because Megaline rounds up the gb_used at the end of the month.\n",
    "<br>&nbsp;&nbsp;&nbsp;&nbsp;I created a function to calculate monthly revenue, based on which of the two plans the user was signed up for.\n",
    "<br>&nbsp;&nbsp;&nbsp;&nbsp;I called the function, using apply method, and axis=1, to send each row of the merged_revenue dataframe.\n",
    "<br>&nbsp;&nbsp;&nbsp;&nbsp;I then created a new dataframe, called filtered_dataframe, that only had these columns user_id, month, total_revenue , and printed that out.\n",
    "<br>&nbsp;&nbsp;&nbsp;&nbsp;I sorted that filtered_dataframe, in descending order, sorting by total_revenue', and 'user_id' to print out the higest revenues at the top of the printout.\n",
    "\n",
    "<br>\n",
    "<br>\n",
    "<b>NY and NJ users filtered out:</b>\n",
    "- <br>&nbsp;&nbsp;&nbsp;&nbsp;The 'is_ny_nj' column now lives in this merged database, so that the revenue of NY and NJ users can be analyzed later.\n",
    "</font color></div>"
   ]
  },
  {
   "cell_type": "markdown",
   "id": "95fa7995-7635-465a-a087-12b73eb31c21",
   "metadata": {},
   "source": [
    " <h2 style=\"color: red;\">Study user behavior</h2>"
   ]
  },
  {
   "cell_type": "markdown",
   "id": "0262ca1f-0197-4958-93f3-8b0b569597fe",
   "metadata": {},
   "source": [
    "### <span style=\"color: hotpink;\">Calls</span>"
   ]
  },
  {
   "cell_type": "code",
   "execution_count": 715,
   "id": "1017da59-31ca-4da5-bcba-9fe4206e5717",
   "metadata": {},
   "outputs": [
    {
     "data": {
      "text/html": [
       "<div style='color: hotpink;'><b>Compare the average duration of calls, per each plan, per each month.</b></div>"
      ],
      "text/plain": [
       "<IPython.core.display.HTML object>"
      ]
     },
     "metadata": {},
     "output_type": "display_data"
    }
   ],
   "source": [
    "show_html_output(f\"Compare the average duration of calls, per each plan, per each month.\")"
   ]
  },
  {
   "cell_type": "code",
   "execution_count": 716,
   "id": "fd94dc5b-512f-47bd-af3c-0e765afb8948",
   "metadata": {},
   "outputs": [
    {
     "name": "stdout",
     "output_type": "stream",
     "text": [
      "   month_abbr      plan    duration\n",
      "0         Jan      surf  292.000000\n",
      "1         Jan  ultimate  197.666667\n",
      "2         Feb      surf  331.200000\n",
      "3         Feb  ultimate  486.800000\n",
      "4         Mar      surf  344.937500\n",
      "5         Mar  ultimate  415.285714\n",
      "6         Apr      surf  366.228571\n",
      "7         Apr  ultimate  322.750000\n",
      "8         May      surf  443.981132\n",
      "9         May  ultimate  410.190476\n",
      "10        Jun      surf  425.514286\n",
      "11        Jun  ultimate  370.918919\n",
      "12        Jul      surf  452.101124\n",
      "13        Jul  ultimate  439.638298\n",
      "14        Aug      surf  427.873950\n",
      "15        Aug  ultimate  436.438596\n",
      "16        Sep      surf  426.020408\n",
      "17        Sep  ultimate  437.591549\n",
      "18        Oct      surf  442.348066\n",
      "19        Oct  ultimate  465.034091\n",
      "20        Nov      surf  443.954128\n",
      "21        Nov  ultimate  464.068627\n",
      "22        Dec      surf  495.069106\n",
      "23        Dec  ultimate  463.296000\n"
     ]
    }
   ],
   "source": [
    "# Group by 'month' and 'plan', and calculate the average duration\n",
    "calls_avg_duration = merged_revenue.groupby(['month_abbr', 'plan'], observed=True)['duration'].mean().reset_index()\n",
    "print(calls_avg_duration)"
   ]
  },
  {
   "cell_type": "code",
   "execution_count": 717,
   "id": "6fa5af79-db91-4496-b973-474547c9d74e",
   "metadata": {},
   "outputs": [
    {
     "data": {
      "text/html": [
       "<div style='color: hotpink;'><b>Plot to visualize it better.</b></div>"
      ],
      "text/plain": [
       "<IPython.core.display.HTML object>"
      ]
     },
     "metadata": {},
     "output_type": "display_data"
    }
   ],
   "source": [
    "show_html_output(f\"Plot to visualize it better.\")"
   ]
  },
  {
   "cell_type": "code",
   "execution_count": 718,
   "id": "1d366075-b852-4e64-a0f6-7a3206923c7f",
   "metadata": {},
   "outputs": [
    {
     "name": "stdout",
     "output_type": "stream",
     "text": [
      "<class 'pandas.core.frame.DataFrame'>\n",
      "RangeIndex: 24 entries, 0 to 23\n",
      "Data columns (total 3 columns):\n",
      " #   Column      Non-Null Count  Dtype   \n",
      "---  ------      --------------  -----   \n",
      " 0   month_abbr  24 non-null     category\n",
      " 1   plan        24 non-null     object  \n",
      " 2   duration    24 non-null     float64 \n",
      "dtypes: category(1), float64(1), object(1)\n",
      "memory usage: 936.0+ bytes\n"
     ]
    }
   ],
   "source": [
    "calls_avg_duration.info()"
   ]
  },
  {
   "cell_type": "code",
   "execution_count": 719,
   "id": "906db06a-8b09-4615-9444-bed4373cc27c",
   "metadata": {},
   "outputs": [
    {
     "name": "stdout",
     "output_type": "stream",
     "text": [
      "plan              surf    ultimate\n",
      "month_abbr                        \n",
      "Jan         292.000000  197.666667\n",
      "Feb         331.200000  486.800000\n",
      "Mar         344.937500  415.285714\n",
      "Apr         366.228571  322.750000\n",
      "May         443.981132  410.190476\n",
      "Jun         425.514286  370.918919\n",
      "Jul         452.101124  439.638298\n",
      "Aug         427.873950  436.438596\n",
      "Sep         426.020408  437.591549\n",
      "Oct         442.348066  465.034091\n",
      "Nov         443.954128  464.068627\n",
      "Dec         495.069106  463.296000\n"
     ]
    }
   ],
   "source": [
    "# Pivot the dataframe for easier plotting\n",
    "pivot_df = calls_avg_duration.pivot(index='month_abbr', columns='plan', values='duration')\n",
    "print(pivot_df)"
   ]
  },
  {
   "cell_type": "code",
   "execution_count": 720,
   "id": "aec32e51-006d-41f5-84d5-f827fa7f63b7",
   "metadata": {},
   "outputs": [
    {
     "data": {
      "image/png": "[encoded data removed]",
      "text/plain": [
       "<Figure size 1200x700 with 1 Axes>"
      ]
     },
     "metadata": {},
     "output_type": "display_data"
    }
   ],
   "source": [
    "# Plot graph\n",
    "fig, ax = plt.subplots(figsize=(12, 7))\n",
    "\n",
    "# Define a list of hex colors\n",
    "colors = ['#3CB371','#4682B4']\n",
    "\n",
    "ax = pivot_df.plot(kind='bar', ax=ax, color=colors)\n",
    "\n",
    "plt.xlabel(\"Month\", size=16)\n",
    "plt.ylabel(\"Average Duration\", size=16)\n",
    "plt.title(\"Average Duration of Calls Per Plan\", size = 24)\n",
    "\n",
    "#Rotate the x labels\n",
    "plt.xticks(rotation=45)\n",
    "\n",
    "# Adjust legend to be just outside the upper left of the plot area\n",
    "plt.legend(title='Plan', bbox_to_anchor=(-0.18, 1), loc='upper left', borderaxespad=0.)\n",
    "\n",
    "#plt.tight_layout()\n",
    "plt.show()"
   ]
  },
  {
   "cell_type": "markdown",
   "id": "7b1cab08-5b4a-4131-9cd1-7a646f5ee0f7",
   "metadata": {},
   "source": [
    "<div class=\"alert alert-info\"><font color='hotpink'>\n",
    "<b>Calls</b>\n",
    "<br>\n",
    "<br>\n",
    "- <b>To compare the average duration of calls, per each plan, per each month: </b>\n",
    "<br>\n",
    "- &nbsp;&nbsp;&nbsp;&nbsp;I grouped the merged_revenue dataframe, by 'month_abbr' and 'plan', and used the .mean method to get the average duration.\n",
    "<br>\n",
    "- &nbsp;&nbsp;&nbsp;&nbsp;I pivoted the calls_avg_duration dataframe to make it easier to plot on to a graph.\n",
    "<br>\n",
    "<br>\n",
    "- <b>To create the bar plot, to compare this data:: </b>\n",
    "<br>\n",
    "- &nbsp;&nbsp;&nbsp;&nbsp;I imported pyplot and added that to the top of the project, up above.\n",
    "<br>\n",
    "- &nbsp;&nbsp;&nbsp;&nbsp;I used figsize to make the graph a little larger, because the legend was displaying on top of some of the bars.\n",
    "<br>\n",
    "- &nbsp;&nbsp;&nbsp;&nbsp;I created some custom hex colors, then used those colors for the graph, using the 'color' parameter.\n",
    "<br>\n",
    "- &nbsp;&nbsp;&nbsp;&nbsp;I increased the size of the font for the labels and the title.\n",
    "<br>\n",
    "- &nbsp;&nbsp;&nbsp;&nbsp;I rotated the xlabels using xticks.\n",
    "<br>\n",
    "- &nbsp;&nbsp;&nbsp;&nbsp;I used legend to customize the legend, to make the legend title uppercase. I used bbox_to_anchor to make the legend appear on the left.\n",
    "</font color></div>"
   ]
  },
  {
   "cell_type": "code",
   "execution_count": 722,
   "id": "e0cb700b-64f3-4c9c-9818-3ee688bf7485",
   "metadata": {},
   "outputs": [
    {
     "data": {
      "text/html": [
       "<div style='color: hotpink;'><b>Compare the number of minutes, users of each plan require, each month.</b></div>"
      ],
      "text/plain": [
       "<IPython.core.display.HTML object>"
      ]
     },
     "metadata": {},
     "output_type": "display_data"
    }
   ],
   "source": [
    "show_html_output(f\"Compare the number of minutes, users of each plan require, each month.\")"
   ]
  },
  {
   "cell_type": "code",
   "execution_count": 723,
   "id": "0d063857-2d42-450f-86ea-0845837c1153",
   "metadata": {},
   "outputs": [
    {
     "name": "stdout",
     "output_type": "stream",
     "text": [
      "     month_abbr      plan  user_id  duration\n",
      "0           Jan      surf     1362       292\n",
      "1           Jan  ultimate     1077       290\n",
      "2           Jan  ultimate     1196       287\n",
      "3           Jan  ultimate     1214        16\n",
      "4           Feb      surf     1099        39\n",
      "...         ...       ...      ...       ...\n",
      "1754        Dec  ultimate     1477       289\n",
      "1755        Dec  ultimate     1478       376\n",
      "1756        Dec  ultimate     1482        56\n",
      "1757        Dec  ultimate     1487       416\n",
      "1758        Dec  ultimate     1497       300\n",
      "\n",
      "[1759 rows x 4 columns]\n"
     ]
    }
   ],
   "source": [
    "# Groupby 'month', 'plan', 'user_id' and get total of minutes of calls.\n",
    "calls_sum_duration = merged_revenue.groupby(['month_abbr', 'plan', 'user_id'], observed='True')['duration'].sum().reset_index()\n",
    "print(calls_sum_duration) "
   ]
  },
  {
   "cell_type": "code",
   "execution_count": 724,
   "id": "fe502ead-5171-44cd-b157-8544d54e49b1",
   "metadata": {},
   "outputs": [
    {
     "data": {
      "text/plain": [
       "Index(['month_abbr', 'plan', 'user_id', 'duration'], dtype='object')"
      ]
     },
     "execution_count": 724,
     "metadata": {},
     "output_type": "execute_result"
    }
   ],
   "source": [
    "calls_sum_duration.columns"
   ]
  },
  {
   "cell_type": "code",
   "execution_count": 725,
   "id": "a87ef676-972f-4e89-ab1a-d7017368da2a",
   "metadata": {},
   "outputs": [
    {
     "name": "stdout",
     "output_type": "stream",
     "text": [
      "  month_abbr      plan  total_duration\n",
      "0        Jan      surf             292\n",
      "1        Jan  ultimate             593\n",
      "2        Feb      surf            1656\n",
      "3        Feb  ultimate            2434\n",
      "4        Mar      surf            5519\n",
      "5        Mar  ultimate            2907\n",
      "6        Apr      surf           12818\n",
      "7        Apr  ultimate            5164\n"
     ]
    }
   ],
   "source": [
    "# Now group by 'month_abbr' and 'plan' to get the total duration per plan per month\n",
    "month_plan_summary = calls_sum_duration.groupby(['month_abbr', 'plan'], observed='True')['duration'].sum().reset_index(name='total_duration')\n",
    "print(month_plan_summary.head(8))"
   ]
  },
  {
   "cell_type": "code",
   "execution_count": 726,
   "id": "30305d75-166d-44cf-a98d-18a1b7c4d31d",
   "metadata": {},
   "outputs": [],
   "source": [
    "# Suppress specific FutureWarning\n",
    "warnings.simplefilter(action='ignore', category=FutureWarning)"
   ]
  },
  {
   "cell_type": "code",
   "execution_count": 727,
   "id": "f891a2e4-a866-4acd-b41c-873afdc259aa",
   "metadata": {},
   "outputs": [
    {
     "data": {
      "image/png": "[encoded data removed]",
      "text/plain": [
       "<Figure size 1200x600 with 1 Axes>"
      ]
     },
     "metadata": {},
     "output_type": "display_data"
    }
   ],
   "source": [
    "# Plotting the grouped data\n",
    "plt.figure(figsize=(12, 6))\n",
    "\n",
    "sns.barplot(data=month_plan_summary, x='month_abbr', y='total_duration', hue='plan', palette='Set2')\n",
    "\n",
    "# Set titles and labels\n",
    "plt.title('Monthly Usage Minutes per Plan', size=24)\n",
    "plt.xlabel('Month', size=16)\n",
    "plt.ylabel('Total Duration (Minutes)', size=16)\n",
    "\n",
    "plt.xticks(rotation=45)\n",
    "\n",
    "# Adjust the legend position and size\n",
    "plt.legend(title='Plan', loc='upper left', fontsize=14, title_fontsize='16')\n",
    "plt.tight_layout()\n",
    "\n",
    "plt.show()"
   ]
  },
  {
   "cell_type": "code",
   "execution_count": 728,
   "id": "69c42632-0ec1-45ea-b3ac-ef9da35d8c38",
   "metadata": {},
   "outputs": [],
   "source": [
    "# reset the warning filter back to default afterward\n",
    "warnings.simplefilter(action='default', category=FutureWarning)"
   ]
  },
  {
   "cell_type": "markdown",
   "id": "f49519e4-50bd-434b-a657-ea1196341358",
   "metadata": {},
   "source": [
    "<div class=\"alert alert-info\"><font color='hotpink'>\n",
    "<b>To compare the number of minutes, users of each plan require, each month.: </b>\n",
    "<br>\n",
    "- &nbsp;&nbsp;&nbsp;&nbsp;I created a dataframe with these columns ...'month_abbr', 'plan', 'user_id' and got a total of minutes of calls, using the .sum method.\n",
    "<br>\n",
    "- &nbsp;&nbsp;&nbsp;&nbsp;I grouped by 'month_abbr' and 'plan' which got rid of the user_id column\n",
    "<br>\n",
    "<br>\n",
    "<b>To plot this on a bar graph: </b>\n",
    "<br>\n",
    "- &nbsp;&nbsp;&nbsp;&nbsp;I used figsize to create a larger graph.\n",
    "<br>\n",
    "- &nbsp;&nbsp;&nbsp;&nbsp;I plotted the months on the x axis.\n",
    "<br>\n",
    "- &nbsp;&nbsp;&nbsp;&nbsp;I used the 'hue' parameter to add color to the 'plan' data, to separate the surf plan from the ultimate plan.\n",
    "<br>\n",
    "- &nbsp;&nbsp;&nbsp;&nbsp;I used kde=False so that the extra line graph will not appear on top of the bar graph.\n",
    "<br>\n",
    "- &nbsp;&nbsp;&nbsp;&nbsp;I used the rotation parameter, of xticks, to rotate the labels for the x axis.\n",
    "<br>\n",
    "- &nbsp;&nbsp;&nbsp;&nbsp;I imported warnings module, and added that up above, at the top of the project.\n",
    "<br>\n",
    "- &nbsp;&nbsp;&nbsp;&nbsp;Warnings(not errors) were printing out about the groupby function. I used warnings.simplefilter method, with the action='ignore' parameter, to ignore future warnings.\n",
    "<br>\n",
    "- &nbsp;&nbsp;&nbsp;&nbsp;I used the action='default' parameter, on the warnings.simplefilter, to set the filter back to default.\n",
    "</font color></div>"
   ]
  },
  {
   "cell_type": "code",
   "execution_count": 730,
   "id": "ef8d5489-dee2-4497-8b17-262cbe79f2fb",
   "metadata": {},
   "outputs": [
    {
     "data": {
      "text/html": [
       "<div style='color: hotpink;'><b>Calculate the mean and the variance of the monthly call duration</b></div>"
      ],
      "text/plain": [
       "<IPython.core.display.HTML object>"
      ]
     },
     "metadata": {},
     "output_type": "display_data"
    }
   ],
   "source": [
    "show_html_output(f\"Calculate the mean and the variance of the monthly call duration\")"
   ]
  },
  {
   "cell_type": "code",
   "execution_count": 731,
   "id": "ef4d175d-25aa-4338-a01e-ac2708cdb489",
   "metadata": {},
   "outputs": [
    {
     "name": "stdout",
     "output_type": "stream",
     "text": [
      "\n",
      "Summary group by 'month' and 'plan':\n",
      "\n"
     ]
    },
    {
     "data": {
      "text/html": [
       "<div>\n",
       "<style scoped>\n",
       "    .dataframe tbody tr th:only-of-type {\n",
       "        vertical-align: middle;\n",
       "    }\n",
       "\n",
       "    .dataframe tbody tr th {\n",
       "        vertical-align: top;\n",
       "    }\n",
       "\n",
       "    .dataframe thead th {\n",
       "        text-align: right;\n",
       "    }\n",
       "</style>\n",
       "<table border=\"1\" class=\"dataframe\">\n",
       "  <thead>\n",
       "    <tr style=\"text-align: right;\">\n",
       "      <th></th>\n",
       "      <th>month_abbr</th>\n",
       "      <th>plan</th>\n",
       "      <th>duration</th>\n",
       "    </tr>\n",
       "  </thead>\n",
       "  <tbody>\n",
       "    <tr>\n",
       "      <th>0</th>\n",
       "      <td>Jan</td>\n",
       "      <td>surf</td>\n",
       "      <td>292</td>\n",
       "    </tr>\n",
       "    <tr>\n",
       "      <th>1</th>\n",
       "      <td>Jan</td>\n",
       "      <td>ultimate</td>\n",
       "      <td>593</td>\n",
       "    </tr>\n",
       "    <tr>\n",
       "      <th>2</th>\n",
       "      <td>Feb</td>\n",
       "      <td>surf</td>\n",
       "      <td>1656</td>\n",
       "    </tr>\n",
       "    <tr>\n",
       "      <th>3</th>\n",
       "      <td>Feb</td>\n",
       "      <td>ultimate</td>\n",
       "      <td>2434</td>\n",
       "    </tr>\n",
       "    <tr>\n",
       "      <th>4</th>\n",
       "      <td>Mar</td>\n",
       "      <td>surf</td>\n",
       "      <td>5519</td>\n",
       "    </tr>\n",
       "    <tr>\n",
       "      <th>5</th>\n",
       "      <td>Mar</td>\n",
       "      <td>ultimate</td>\n",
       "      <td>2907</td>\n",
       "    </tr>\n",
       "    <tr>\n",
       "      <th>6</th>\n",
       "      <td>Apr</td>\n",
       "      <td>surf</td>\n",
       "      <td>12818</td>\n",
       "    </tr>\n",
       "    <tr>\n",
       "      <th>7</th>\n",
       "      <td>Apr</td>\n",
       "      <td>ultimate</td>\n",
       "      <td>5164</td>\n",
       "    </tr>\n",
       "  </tbody>\n",
       "</table>\n",
       "</div>"
      ],
      "text/plain": [
       "  month_abbr      plan  duration\n",
       "0        Jan      surf       292\n",
       "1        Jan  ultimate       593\n",
       "2        Feb      surf      1656\n",
       "3        Feb  ultimate      2434\n",
       "4        Mar      surf      5519\n",
       "5        Mar  ultimate      2907\n",
       "6        Apr      surf     12818\n",
       "7        Apr  ultimate      5164"
      ]
     },
     "metadata": {},
     "output_type": "display_data"
    },
    {
     "name": "stdout",
     "output_type": "stream",
     "text": [
      "\n"
     ]
    }
   ],
   "source": [
    "# Group by 'month' and 'plan' to get the total duration per month for each plan\n",
    "month_plan_sum = calls_sum_duration.groupby(['month_abbr', 'plan'], observed='True')['duration'].sum().reset_index()\n",
    "print()\n",
    "print(\"Summary group by 'month' and 'plan':\")\n",
    "print()\n",
    "display(month_plan_sum.head(8))\n",
    "print()"
   ]
  },
  {
   "cell_type": "code",
   "execution_count": 732,
   "id": "7a9ce997-5069-4f53-8126-105bd87e3a1d",
   "metadata": {},
   "outputs": [
    {
     "name": "stdout",
     "output_type": "stream",
     "text": [
      "   month_abbr      plan  duration\n",
      "0         Jan      surf       292\n",
      "1         Jan  ultimate       593\n",
      "2         Feb      surf      1656\n",
      "3         Feb  ultimate      2434\n",
      "4         Mar      surf      5519\n",
      "5         Mar  ultimate      2907\n",
      "6         Apr      surf     12818\n",
      "7         Apr  ultimate      5164\n",
      "8         May      surf     23531\n",
      "9         May  ultimate      8614\n",
      "10        Jun      surf     29786\n",
      "11        Jun  ultimate     13724\n",
      "12        Jul      surf     40237\n",
      "13        Jul  ultimate     20663\n",
      "14        Aug      surf     50917\n",
      "15        Aug  ultimate     24877\n",
      "16        Sep      surf     62625\n",
      "17        Sep  ultimate     31069\n",
      "18        Oct      surf     80065\n",
      "19        Oct  ultimate     40923\n",
      "20        Nov      surf     96782\n",
      "21        Nov  ultimate     47335\n",
      "22        Dec      surf    121787\n",
      "23        Dec  ultimate     57912\n"
     ]
    }
   ],
   "source": [
    "# Group by 'month_abbr' and 'plan' to get the total duration per month for each plan, then sort by 'month_abbr'. Suppress warnings.\n",
    "month_plan_sum = calls_sum_duration.groupby(['month_abbr', 'plan'], observed=True)['duration'].sum().reset_index()\n",
    "print(month_plan_sum)"
   ]
  },
  {
   "cell_type": "code",
   "execution_count": 733,
   "id": "e2cd804d-de18-47ba-a2d5-7de602efd56e",
   "metadata": {},
   "outputs": [],
   "source": [
    "# Rename the 'duration' column to 'Total_duration'\n",
    "month_plan_sum = month_plan_sum.rename(columns={'duration': 'Total_duration'})"
   ]
  },
  {
   "cell_type": "code",
   "execution_count": 734,
   "id": "48994130-358a-445d-a673-f0bee93de970",
   "metadata": {},
   "outputs": [
    {
     "data": {
      "text/html": [
       "<div>\n",
       "<style scoped>\n",
       "    .dataframe tbody tr th:only-of-type {\n",
       "        vertical-align: middle;\n",
       "    }\n",
       "\n",
       "    .dataframe tbody tr th {\n",
       "        vertical-align: top;\n",
       "    }\n",
       "\n",
       "    .dataframe thead th {\n",
       "        text-align: right;\n",
       "    }\n",
       "</style>\n",
       "<table border=\"1\" class=\"dataframe\">\n",
       "  <thead>\n",
       "    <tr style=\"text-align: right;\">\n",
       "      <th></th>\n",
       "      <th>month_abbr</th>\n",
       "      <th>plan</th>\n",
       "      <th>Total_duration</th>\n",
       "    </tr>\n",
       "  </thead>\n",
       "  <tbody>\n",
       "    <tr>\n",
       "      <th>0</th>\n",
       "      <td>Jan</td>\n",
       "      <td>surf</td>\n",
       "      <td>292</td>\n",
       "    </tr>\n",
       "    <tr>\n",
       "      <th>2</th>\n",
       "      <td>Feb</td>\n",
       "      <td>surf</td>\n",
       "      <td>1656</td>\n",
       "    </tr>\n",
       "    <tr>\n",
       "      <th>4</th>\n",
       "      <td>Mar</td>\n",
       "      <td>surf</td>\n",
       "      <td>5519</td>\n",
       "    </tr>\n",
       "  </tbody>\n",
       "</table>\n",
       "</div>"
      ],
      "text/plain": [
       "  month_abbr  plan  Total_duration\n",
       "0        Jan  surf             292\n",
       "2        Feb  surf            1656\n",
       "4        Mar  surf            5519"
      ]
     },
     "metadata": {},
     "output_type": "display_data"
    }
   ],
   "source": [
    "# separate each plan\n",
    "surf_plan = month_plan_sum[month_plan_summary['plan'] == 'surf']\n",
    "ultimate_plan = month_plan_sum[month_plan_summary['plan'] == 'ultimate']\n",
    "display(surf_plan.head(3))"
   ]
  },
  {
   "cell_type": "code",
   "execution_count": 735,
   "id": "f74f3341-06df-4ecd-a5a3-f360ebd03640",
   "metadata": {},
   "outputs": [],
   "source": [
    "# Mean and variance for 'surf' plan\n",
    "surf_mean = round(surf_plan['Total_duration'].mean(), 2)\n",
    "surf_variance = round(surf_plan['Total_duration'].var(), 2)\n",
    "\n",
    "# Calculate the standard deviation for surf plan\n",
    "surf_std_dev = round(surf_plan['Total_duration'].std(), 2)"
   ]
  },
  {
   "cell_type": "code",
   "execution_count": 736,
   "id": "7b48aa2b-bc55-41be-bd47-4b9707203663",
   "metadata": {},
   "outputs": [],
   "source": [
    "# Mean and variance for 'ultimate' plan\n",
    "ultimate_mean = round(ultimate_plan['Total_duration'].mean(), 2)\n",
    "ultimate_variance = round(ultimate_plan['Total_duration'].var(), 2)\n",
    "\n",
    "# Calculate the standard deviation for ultimate plan\n",
    "ultimate_std_dev = round(ultimate_plan['Total_duration'].std(), 2)"
   ]
  },
  {
   "cell_type": "code",
   "execution_count": 737,
   "id": "7a54c0de-f53d-42a4-948a-ccbec202b2c4",
   "metadata": {},
   "outputs": [
    {
     "data": {
      "text/html": [
       "<div style='color: hotpink;'><b>Surf Plan - Mean Duration: 43834.58, Variance: 1574866753.72</b></div>"
      ],
      "text/plain": [
       "<IPython.core.display.HTML object>"
      ]
     },
     "metadata": {},
     "output_type": "display_data"
    },
    {
     "data": {
      "text/html": [
       "<div style='color: hotpink;'><b>Ultimate Plan - Mean Duration: 21351.25, Variance: 373966687.3</b></div>"
      ],
      "text/plain": [
       "<IPython.core.display.HTML object>"
      ]
     },
     "metadata": {},
     "output_type": "display_data"
    }
   ],
   "source": [
    "show_html_output(f\"Surf Plan - Mean Duration: {surf_mean}, Variance: {surf_variance}\")\n",
    "show_html_output(f\"Ultimate Plan - Mean Duration: {ultimate_mean}, Variance: {ultimate_variance}\")"
   ]
  },
  {
   "cell_type": "code",
   "execution_count": 738,
   "id": "7902cce0-bcb2-4cf4-bf85-f53e9359740a",
   "metadata": {},
   "outputs": [
    {
     "name": "stdout",
     "output_type": "stream",
     "text": [
      "Surf Plan - Standard Deviation:  39684.59\n",
      "Ultimate Plan - Standard Deviation:  19338.22\n"
     ]
    }
   ],
   "source": [
    "print(f\"Surf Plan - Standard Deviation:  {surf_std_dev}\")\n",
    "print(f\"Ultimate Plan - Standard Deviation:  {ultimate_std_dev}\")"
   ]
  },
  {
   "cell_type": "code",
   "execution_count": 739,
   "id": "dfbf0f5f-1cb4-46d6-a054-5c45f3930f74",
   "metadata": {},
   "outputs": [
    {
     "data": {
      "text/html": [
       "<div style='color: hotpink;'><b>The variance is a statistical measure of the dispersion (how spread out the values are) in a dataset. It quantifies the degree to which each number in the dataset differs from the mean (average) value of the dataset.</b></div>"
      ],
      "text/plain": [
       "<IPython.core.display.HTML object>"
      ]
     },
     "metadata": {},
     "output_type": "display_data"
    }
   ],
   "source": [
    "show_html_output(f\"The variance is a statistical measure of the dispersion (how spread out the values are) in a dataset. It quantifies the degree to which each number in the dataset differs from the mean (average) value of the dataset.\")"
   ]
  },
  {
   "cell_type": "markdown",
   "id": "19043262-d019-43d4-8776-bc40ae986c50",
   "metadata": {},
   "source": [
    "<div class=\"alert alert-info\"><font color='hotpink'>\n",
    "<b>To calculate the mean, and the variance of the monthly call duration: </b>\n",
    "<br>\n",
    "- &nbsp;&nbsp;&nbsp;&nbsp;I created a dataframe with these columns ...'month_abbr', 'plan',  to get the total duration per month, for each plan\n",
    "<br>\n",
    "- &nbsp;&nbsp;&nbsp;&nbsp;I grouped by 'month_abbr' and 'plan' which got rid of the user_id column\n",
    "<br>\n",
    "- &nbsp;&nbsp;&nbsp;&nbsp;I grouped by 'month_abbr' and 'plan' to get the total duration per month for each plan.\n",
    "<br>\n",
    "- &nbsp;&nbsp;&nbsp;&nbsp;I then sort by 'month_abbr'. I used observed=True, in the groupby method to suppress warnings.\n",
    "<br>\n",
    "- &nbsp;&nbsp;&nbsp;&nbsp;I renamed the 'duration' column to 'Total_duration'\n",
    "<br>\n",
    "- &nbsp;&nbsp;&nbsp;&nbsp;I separated the surf plan data from the ultimate plan data, to make it easier to get the mean of each.\n",
    "<br>\n",
    "- &nbsp;&nbsp;&nbsp;&nbsp;I used .mean() method, on each plan, to get the mean of the total duration of calls per month.\n",
    "<br>\n",
    "- &nbsp;&nbsp;&nbsp;&nbsp;I used .var() method, on each plan, to get the variance from the mean.\n",
    "<br>\n",
    "- &nbsp;&nbsp;&nbsp;&nbsp;I also got the standard deviation, for the total call duration, for each plan. This made it easier to visualize how far the data was from the mean, because the standard deviation number was smaller than the variance number.\n",
    "-</font color></div>"
   ]
  },
  {
   "cell_type": "code",
   "execution_count": 741,
   "id": "a2859899-0bb6-438b-a2ae-c533e7132f1c",
   "metadata": {},
   "outputs": [
    {
     "data": {
      "text/html": [
       "<div style='color: hotpink;'><b>By looking at the mean, vs variance, for each plan, the customers on the surf plan talk more minutes than those on the ultimate plan. But, the variance is greater with the customers on the ultimate plan.</b></div>"
      ],
      "text/plain": [
       "<IPython.core.display.HTML object>"
      ]
     },
     "metadata": {},
     "output_type": "display_data"
    }
   ],
   "source": [
    "show_html_output(f\"By looking at the mean, vs variance, for each plan, the customers on the surf plan talk more minutes than those on the ultimate plan. But, the variance is greater with the customers on the ultimate plan.\")"
   ]
  },
  {
   "cell_type": "code",
   "execution_count": 742,
   "id": "fdcc5080-5be8-42aa-832c-cb62580e1864",
   "metadata": {},
   "outputs": [],
   "source": [
    "# Plot a boxplot to visualize the distribution of the monthly call duration"
   ]
  },
  {
   "cell_type": "code",
   "execution_count": 743,
   "id": "a4a171ed-3bf1-4c82-a26e-2c9c4c09a2ba",
   "metadata": {},
   "outputs": [
    {
     "data": {
      "image/png": "[encoded data removed]",
      "text/plain": [
       "<Figure size 1200x600 with 1 Axes>"
      ]
     },
     "metadata": {},
     "output_type": "display_data"
    }
   ],
   "source": [
    "# Boxplot, with both plans\n",
    "plt.figure(figsize=(12, 6))\n",
    "\n",
    "sns.boxplot(data=month_plan_sum, x='plan', y='Total_duration')\n",
    "\n",
    "plt.title('Boxplot of Total Minutes for Surf and Ultimate Plans', size =24)\n",
    "plt.xlabel('Plan', size=16)\n",
    "plt.ylabel('Total Duration (Minutes)', size=16)\n",
    "\n",
    "plt.show()"
   ]
  },
  {
   "cell_type": "code",
   "execution_count": 744,
   "id": "c21e4a1a-eeb8-491f-bfd7-4d6cf792a843",
   "metadata": {},
   "outputs": [
    {
     "data": {
      "text/html": [
       "<div style='color: hotpink;'><b>Yes. The behavior of customers is different between the Surf and Ultimate plans.</b></div>"
      ],
      "text/plain": [
       "<IPython.core.display.HTML object>"
      ]
     },
     "metadata": {},
     "output_type": "display_data"
    }
   ],
   "source": [
    "show_html_output(f\"Yes. The behavior of customers is different between the Surf and Ultimate plans.\")"
   ]
  },
  {
   "cell_type": "code",
   "execution_count": 745,
   "id": "fc6f312b-75c1-4130-ae88-58085f485e0b",
   "metadata": {},
   "outputs": [
    {
     "data": {
      "text/html": [
       "<div style='color: hotpink;'><b>The horizontal line, in the middle of the box represents the median. The users of the Surf plan talk more minutes, and also have a wider distribution spread than the users of the Ultimate plan. The Surf plan users also had more outliers than the users of the Ultimate plan.</b></div>"
      ],
      "text/plain": [
       "<IPython.core.display.HTML object>"
      ]
     },
     "metadata": {},
     "output_type": "display_data"
    }
   ],
   "source": [
    "show_html_output(f\"The horizontal line, in the middle of the box represents the median. The users of the Surf plan talk more minutes, and also have a wider distribution spread than the users of the Ultimate plan. The Surf plan users also had more outliers than the users of the Ultimate plan.\")"
   ]
  },
  {
   "cell_type": "markdown",
   "id": "d4a6a34d-2148-43dd-843a-df5da119c9cc",
   "metadata": {},
   "source": [
    "### <span style=\"color: hotpink;\">Messages</span>"
   ]
  },
  {
   "cell_type": "code",
   "execution_count": 747,
   "id": "079b2f08-c29d-44c7-aa1d-e479dd68b7b9",
   "metadata": {},
   "outputs": [
    {
     "data": {
      "text/html": [
       "<div style='color: hotpink;'><b>Compare the number of messages users of each plan tend to send each month.</b></div>"
      ],
      "text/plain": [
       "<IPython.core.display.HTML object>"
      ]
     },
     "metadata": {},
     "output_type": "display_data"
    }
   ],
   "source": [
    "show_html_output(f\"Compare the number of messages users of each plan tend to send each month.\")"
   ]
  },
  {
   "cell_type": "code",
   "execution_count": 748,
   "id": "0f303d50-0677-4d4a-85f7-e85bd252d747",
   "metadata": {},
   "outputs": [
    {
     "data": {
      "text/plain": [
       "0    11\n",
       "1    30\n",
       "2    44\n",
       "3    53\n",
       "4    36\n",
       "5    44\n",
       "6    15\n",
       "7    32\n",
       "Name: Total_messages, dtype: int64"
      ]
     },
     "metadata": {},
     "output_type": "display_data"
    }
   ],
   "source": [
    "display(merged_revenue['Total_messages'].head(8))"
   ]
  },
  {
   "cell_type": "code",
   "execution_count": 749,
   "id": "3c926c46-aea9-46a5-8eb1-f9156788af29",
   "metadata": {},
   "outputs": [
    {
     "data": {
      "text/html": [
       "<div>\n",
       "<style scoped>\n",
       "    .dataframe tbody tr th:only-of-type {\n",
       "        vertical-align: middle;\n",
       "    }\n",
       "\n",
       "    .dataframe tbody tr th {\n",
       "        vertical-align: top;\n",
       "    }\n",
       "\n",
       "    .dataframe thead th {\n",
       "        text-align: right;\n",
       "    }\n",
       "</style>\n",
       "<table border=\"1\" class=\"dataframe\">\n",
       "  <thead>\n",
       "    <tr style=\"text-align: right;\">\n",
       "      <th></th>\n",
       "      <th>month_abbr</th>\n",
       "      <th>plan</th>\n",
       "      <th>user_id</th>\n",
       "      <th>Total_messages</th>\n",
       "    </tr>\n",
       "  </thead>\n",
       "  <tbody>\n",
       "    <tr>\n",
       "      <th>0</th>\n",
       "      <td>Jan</td>\n",
       "      <td>surf</td>\n",
       "      <td>1362</td>\n",
       "      <td>21</td>\n",
       "    </tr>\n",
       "    <tr>\n",
       "      <th>1</th>\n",
       "      <td>Jan</td>\n",
       "      <td>ultimate</td>\n",
       "      <td>1077</td>\n",
       "      <td>37</td>\n",
       "    </tr>\n",
       "    <tr>\n",
       "      <th>2</th>\n",
       "      <td>Jan</td>\n",
       "      <td>ultimate</td>\n",
       "      <td>1196</td>\n",
       "      <td>23</td>\n",
       "    </tr>\n",
       "    <tr>\n",
       "      <th>3</th>\n",
       "      <td>Jan</td>\n",
       "      <td>ultimate</td>\n",
       "      <td>1214</td>\n",
       "      <td>2</td>\n",
       "    </tr>\n",
       "    <tr>\n",
       "      <th>4</th>\n",
       "      <td>Feb</td>\n",
       "      <td>surf</td>\n",
       "      <td>1099</td>\n",
       "      <td>3</td>\n",
       "    </tr>\n",
       "  </tbody>\n",
       "</table>\n",
       "</div>"
      ],
      "text/plain": [
       "  month_abbr      plan  user_id  Total_messages\n",
       "0        Jan      surf     1362              21\n",
       "1        Jan  ultimate     1077              37\n",
       "2        Jan  ultimate     1196              23\n",
       "3        Jan  ultimate     1214               2\n",
       "4        Feb      surf     1099               3"
      ]
     },
     "metadata": {},
     "output_type": "display_data"
    }
   ],
   "source": [
    "# Create a dataframe that just has 'Total_messages' ,  'month', 'plan', and 'user_id'\n",
    "# Get the sum of messages for each user_id\n",
    "\n",
    "tot_msg_df = merged_revenue.groupby(['month_abbr', 'plan','user_id'], observed='True')['Total_messages'].sum().reset_index()\n",
    "display(tot_msg_df.head(5))"
   ]
  },
  {
   "cell_type": "code",
   "execution_count": 750,
   "id": "d5bd6884-8a89-4641-92f0-28233f6c2463",
   "metadata": {},
   "outputs": [
    {
     "data": {
      "text/html": [
       "<div>\n",
       "<style scoped>\n",
       "    .dataframe tbody tr th:only-of-type {\n",
       "        vertical-align: middle;\n",
       "    }\n",
       "\n",
       "    .dataframe tbody tr th {\n",
       "        vertical-align: top;\n",
       "    }\n",
       "\n",
       "    .dataframe thead th {\n",
       "        text-align: right;\n",
       "    }\n",
       "</style>\n",
       "<table border=\"1\" class=\"dataframe\">\n",
       "  <thead>\n",
       "    <tr style=\"text-align: right;\">\n",
       "      <th></th>\n",
       "      <th>month_abbr</th>\n",
       "      <th>plan</th>\n",
       "      <th>Total_messages</th>\n",
       "    </tr>\n",
       "  </thead>\n",
       "  <tbody>\n",
       "    <tr>\n",
       "      <th>0</th>\n",
       "      <td>Jan</td>\n",
       "      <td>surf</td>\n",
       "      <td>21.000000</td>\n",
       "    </tr>\n",
       "    <tr>\n",
       "      <th>1</th>\n",
       "      <td>Jan</td>\n",
       "      <td>ultimate</td>\n",
       "      <td>20.666667</td>\n",
       "    </tr>\n",
       "    <tr>\n",
       "      <th>2</th>\n",
       "      <td>Feb</td>\n",
       "      <td>surf</td>\n",
       "      <td>21.600000</td>\n",
       "    </tr>\n",
       "    <tr>\n",
       "      <th>3</th>\n",
       "      <td>Feb</td>\n",
       "      <td>ultimate</td>\n",
       "      <td>27.800000</td>\n",
       "    </tr>\n",
       "    <tr>\n",
       "      <th>4</th>\n",
       "      <td>Mar</td>\n",
       "      <td>surf</td>\n",
       "      <td>21.937500</td>\n",
       "    </tr>\n",
       "  </tbody>\n",
       "</table>\n",
       "</div>"
      ],
      "text/plain": [
       "  month_abbr      plan  Total_messages\n",
       "0        Jan      surf       21.000000\n",
       "1        Jan  ultimate       20.666667\n",
       "2        Feb      surf       21.600000\n",
       "3        Feb  ultimate       27.800000\n",
       "4        Mar      surf       21.937500"
      ]
     },
     "metadata": {},
     "output_type": "display_data"
    }
   ],
   "source": [
    "# Group by 'month_abbr' and 'plan' to get the average number of messages sent per month for each plan\n",
    "avg_msg_df = tot_msg_df.groupby(['month_abbr', 'plan'], observed='True')['Total_messages'].mean().reset_index()\n",
    "display(avg_msg_df.head(5))"
   ]
  },
  {
   "cell_type": "code",
   "execution_count": 751,
   "id": "5c8d077d-3a78-470c-b263-dc0861805920",
   "metadata": {},
   "outputs": [
    {
     "data": {
      "image/png": "[encoded data removed]",
      "text/plain": [
       "<Figure size 1200x600 with 1 Axes>"
      ]
     },
     "metadata": {},
     "output_type": "display_data"
    }
   ],
   "source": [
    "# Suppress specific FutureWarning\n",
    "warnings.filterwarnings('ignore', category=FutureWarning)\n",
    "\n",
    "# Visualization\n",
    "plt.figure(figsize=(12, 6))\n",
    "sns.barplot(data=avg_msg_df, x='month_abbr', y='Total_messages', hue='plan', palette='Set3')\n",
    "\n",
    "# Set titles and labels\n",
    "plt.title('Average Number of Messages Sent, Per Month, by Plan', size=24)\n",
    "plt.xlabel('Month', size=16)\n",
    "plt.ylabel('Average Number of Messages', size=16)\n",
    "\n",
    "# Adjustments for better readability\n",
    "plt.legend(title='Plan', loc='upper left',fontsize='large', title_fontsize='13')\n",
    "plt.xticks(rotation=45)\n",
    "plt.tight_layout()"
   ]
  },
  {
   "cell_type": "code",
   "execution_count": 752,
   "id": "e88b107b-0245-4c47-81ef-146e1a1d44ea",
   "metadata": {},
   "outputs": [
    {
     "data": {
      "text/html": [
       "<div style='color: hotpink;'><b>January is the only month where both plans have the same amount of text messages. The rest of the months, the Ultimate plan has more messages, each month. Both plans progressively have more text messaging, as the year goes on, with December having the most messages, for both plans.</b></div>"
      ],
      "text/plain": [
       "<IPython.core.display.HTML object>"
      ]
     },
     "metadata": {},
     "output_type": "display_data"
    }
   ],
   "source": [
    "show_html_output(f\"January is the only month where both plans have the same amount of text messages. The rest of the months, the Ultimate plan has more messages, each month. Both plans progressively have more text messaging, as the year goes on, with December having the most messages, for both plans.\")"
   ]
  },
  {
   "cell_type": "markdown",
   "id": "a94b72d0-42a4-4894-b5c0-fb747a0306e8",
   "metadata": {},
   "source": [
    "<div class=\"alert alert-info\"><font color='hotpink'>\n",
    "<b>Messages</b>\n",
    "<br>\n",
    "<br>\n",
    "<b>To compare the number of messages users of each plan tend to send each month: </b>\n",
    "<br>\n",
    "- &nbsp;&nbsp;&nbsp;&nbsp;I created a dataframe with these columns ...'Total_messages' ,  'month', 'plan', and 'user_id'.\n",
    "<br>\n",
    "- &nbsp;&nbsp;&nbsp;&nbsp;I used .sum to get the total of messages.\n",
    "<br>\n",
    "- &nbsp;&nbsp;&nbsp;&nbsp;I used observed=True, in the groupby method to suppress warnings.\n",
    "<br>\n",
    "- &nbsp;&nbsp;&nbsp;&nbsp;I grouped by 'month_abbr' and 'plan', and used .mean method to get the average number of messages sent per month for each plan\n",
    "<br>\n",
    "- &nbsp;&nbsp;&nbsp;&nbsp;I created a bar plot, with 'month_abbr' on the x-axis, and 'Total_messages' on the y-axis.\n",
    "<br>\n",
    "- &nbsp;&nbsp;&nbsp;&nbsp;I used the \"hue\" parameter to color the bars according to their plan (\"surf\" or \"ultimate\").\n",
    "<br>\n",
    "- &nbsp;&nbsp;&nbsp;&nbsp;I created a legend, and used the loc parameter to move the legend to the upper left, so that it would not be on top of bars.\n",
    "<br>\n",
    "- &nbsp;&nbsp;&nbsp;&nbsp;I used the rotation parametere, in xticks, to rotate the month labels, on the x-axis, so that they would be easier to read.\n",
    "-</font color></div>"
   ]
  },
  {
   "cell_type": "code",
   "execution_count": 754,
   "id": "411d446d-a736-44d6-bef5-1e298269c475",
   "metadata": {},
   "outputs": [
    {
     "data": {
      "text/html": [
       "<div style='color: hotpink;'><b>Compare the amount of internet traffic consumed by users per plan:</b></div>"
      ],
      "text/plain": [
       "<IPython.core.display.HTML object>"
      ]
     },
     "metadata": {},
     "output_type": "display_data"
    }
   ],
   "source": [
    "show_html_output(f\"Compare the amount of internet traffic consumed by users per plan:\")"
   ]
  },
  {
   "cell_type": "markdown",
   "id": "3a72adee-f795-4834-b0d3-700397002334",
   "metadata": {},
   "source": [
    "### <span style=\"color: hotpink;\">Internet</span>"
   ]
  },
  {
   "cell_type": "code",
   "execution_count": 756,
   "id": "e17e465f-2c28-4d77-9390-950a16f297af",
   "metadata": {},
   "outputs": [
    {
     "data": {
      "text/plain": [
       "0     2.0\n",
       "1     7.0\n",
       "2    14.0\n",
       "3    23.0\n",
       "4    19.0\n",
       "5    20.0\n",
       "6     7.0\n",
       "7    20.0\n",
       "Name: gb_used, dtype: float64"
      ]
     },
     "metadata": {},
     "output_type": "display_data"
    }
   ],
   "source": [
    "display(merged_revenue['gb_used'].head(8))"
   ]
  },
  {
   "cell_type": "code",
   "execution_count": 757,
   "id": "49d36043-3c78-40b8-bb1e-cea801cf7f61",
   "metadata": {},
   "outputs": [
    {
     "data": {
      "text/html": [
       "<div>\n",
       "<style scoped>\n",
       "    .dataframe tbody tr th:only-of-type {\n",
       "        vertical-align: middle;\n",
       "    }\n",
       "\n",
       "    .dataframe tbody tr th {\n",
       "        vertical-align: top;\n",
       "    }\n",
       "\n",
       "    .dataframe thead th {\n",
       "        text-align: right;\n",
       "    }\n",
       "</style>\n",
       "<table border=\"1\" class=\"dataframe\">\n",
       "  <thead>\n",
       "    <tr style=\"text-align: right;\">\n",
       "      <th></th>\n",
       "      <th>month_abbr</th>\n",
       "      <th>plan</th>\n",
       "      <th>user_id</th>\n",
       "      <th>gb_used</th>\n",
       "    </tr>\n",
       "  </thead>\n",
       "  <tbody>\n",
       "    <tr>\n",
       "      <th>0</th>\n",
       "      <td>Jan</td>\n",
       "      <td>surf</td>\n",
       "      <td>1362</td>\n",
       "      <td>8.0</td>\n",
       "    </tr>\n",
       "    <tr>\n",
       "      <th>1</th>\n",
       "      <td>Jan</td>\n",
       "      <td>ultimate</td>\n",
       "      <td>1077</td>\n",
       "      <td>11.0</td>\n",
       "    </tr>\n",
       "    <tr>\n",
       "      <th>2</th>\n",
       "      <td>Jan</td>\n",
       "      <td>ultimate</td>\n",
       "      <td>1196</td>\n",
       "      <td>9.0</td>\n",
       "    </tr>\n",
       "    <tr>\n",
       "      <th>3</th>\n",
       "      <td>Jan</td>\n",
       "      <td>ultimate</td>\n",
       "      <td>1214</td>\n",
       "      <td>2.0</td>\n",
       "    </tr>\n",
       "    <tr>\n",
       "      <th>4</th>\n",
       "      <td>Feb</td>\n",
       "      <td>surf</td>\n",
       "      <td>1099</td>\n",
       "      <td>1.0</td>\n",
       "    </tr>\n",
       "  </tbody>\n",
       "</table>\n",
       "</div>"
      ],
      "text/plain": [
       "  month_abbr      plan  user_id  gb_used\n",
       "0        Jan      surf     1362      8.0\n",
       "1        Jan  ultimate     1077     11.0\n",
       "2        Jan  ultimate     1196      9.0\n",
       "3        Jan  ultimate     1214      2.0\n",
       "4        Feb      surf     1099      1.0"
      ]
     },
     "metadata": {},
     "output_type": "display_data"
    }
   ],
   "source": [
    "# Create a dataframe that just has 'gb_used' ,  'month', 'plan', and 'user_id'\n",
    "# Get the sum of GB used, for each user_id\n",
    "\n",
    "tot_gb_df = merged_revenue.groupby(['month_abbr', 'plan','user_id'], observed='True')['gb_used'].sum().reset_index()\n",
    "display(tot_gb_df.head(5))"
   ]
  },
  {
   "cell_type": "code",
   "execution_count": 758,
   "id": "3bbd0695-3a3f-4ec8-86da-b6615e5d365b",
   "metadata": {},
   "outputs": [
    {
     "data": {
      "text/html": [
       "<div style='color: hotpink;'><b>Pivot to visualize it better.</b></div>"
      ],
      "text/plain": [
       "<IPython.core.display.HTML object>"
      ]
     },
     "metadata": {},
     "output_type": "display_data"
    }
   ],
   "source": [
    "show_html_output(f\"Pivot to visualize it better.\")"
   ]
  },
  {
   "cell_type": "code",
   "execution_count": 759,
   "id": "1c6e6b02-0275-4d2c-9721-789621673296",
   "metadata": {},
   "outputs": [
    {
     "name": "stdout",
     "output_type": "stream",
     "text": [
      "Checking for duplicates in tot_gb_df:\n",
      "     month_abbr      plan  user_id  gb_used\n",
      "2           Jan  ultimate     1196      9.0\n",
      "3           Jan  ultimate     1214      2.0\n",
      "5           Feb      surf     1138     17.0\n",
      "6           Feb      surf     1261      8.0\n",
      "7           Feb      surf     1362     11.0\n",
      "...         ...       ...      ...      ...\n",
      "1754        Dec  ultimate     1477     28.0\n",
      "1755        Dec  ultimate     1478     23.0\n",
      "1756        Dec  ultimate     1482      1.0\n",
      "1757        Dec  ultimate     1487     14.0\n",
      "1758        Dec  ultimate     1497     12.0\n",
      "\n",
      "[1735 rows x 4 columns]\n"
     ]
    }
   ],
   "source": [
    "# Check for duplicates before pivoting\n",
    "print(\"Checking for duplicates in tot_gb_df:\")\n",
    "duplicate_gb_check = tot_gb_df.duplicated(subset=['month_abbr', 'plan'])\n",
    "print(tot_gb_df[duplicate_gb_check])"
   ]
  },
  {
   "cell_type": "code",
   "execution_count": 760,
   "id": "29cc3ef8-abe3-47f0-bcb7-91e50267faa2",
   "metadata": {},
   "outputs": [
    {
     "name": "stdout",
     "output_type": "stream",
     "text": [
      "Summary DataFrame without User IDs:\n",
      "   month_abbr      plan  gb_used\n",
      "0         Jan      surf      8.0\n",
      "1         Jan  ultimate     22.0\n",
      "2         Feb      surf     49.0\n",
      "3         Feb  ultimate     89.0\n",
      "4         Mar      surf    205.0\n",
      "5         Mar  ultimate    171.0\n",
      "6         Apr      surf    430.0\n",
      "7         Apr  ultimate    234.0\n",
      "8         May      surf    815.0\n",
      "9         May  ultimate    366.0\n",
      "10        Jun      surf   1122.0\n",
      "11        Jun  ultimate    590.0\n",
      "12        Jul      surf   1534.0\n",
      "13        Jul  ultimate    796.0\n",
      "14        Aug      surf   2097.0\n",
      "15        Aug  ultimate   1058.0\n",
      "16        Sep      surf   2497.0\n",
      "17        Sep  ultimate   1205.0\n",
      "18        Oct      surf   3233.0\n",
      "19        Oct  ultimate   1582.0\n",
      "20        Nov      surf   3666.0\n",
      "21        Nov  ultimate   1819.0\n",
      "22        Dec      surf   4537.0\n",
      "23        Dec  ultimate   2349.0\n"
     ]
    }
   ],
   "source": [
    "# create a summary DataFrame that removes duplicates\n",
    "summary_gb_df = tot_gb_df.groupby(['month_abbr', 'plan'], observed=True)['gb_used'].sum().reset_index()\n",
    "print(\"Summary DataFrame without User IDs:\")\n",
    "print(summary_gb_df)"
   ]
  },
  {
   "cell_type": "code",
   "execution_count": 761,
   "id": "19b74bc4-b661-4550-a062-adea5f099247",
   "metadata": {},
   "outputs": [
    {
     "name": "stdout",
     "output_type": "stream",
     "text": [
      "Pivoted DataFrame:\n",
      "plan          surf  ultimate\n",
      "month_abbr                  \n",
      "Jan            8.0      22.0\n",
      "Feb           49.0      89.0\n",
      "Mar          205.0     171.0\n",
      "Apr          430.0     234.0\n",
      "May          815.0     366.0\n",
      "Jun         1122.0     590.0\n",
      "Jul         1534.0     796.0\n",
      "Aug         2097.0    1058.0\n",
      "Sep         2497.0    1205.0\n",
      "Oct         3233.0    1582.0\n",
      "Nov         3666.0    1819.0\n",
      "Dec         4537.0    2349.0\n"
     ]
    }
   ],
   "source": [
    "# Pivot the dataframe for easier plotting\n",
    "pivot_gb_df = summary_gb_df.pivot(index='month_abbr', columns='plan', values='gb_used')\n",
    "print(\"Pivoted DataFrame:\")\n",
    "print(pivot_gb_df)"
   ]
  },
  {
   "cell_type": "code",
   "execution_count": 762,
   "id": "3373a088-1067-459e-acf6-9643e8c3cb56",
   "metadata": {},
   "outputs": [
    {
     "data": {
      "image/png": "[encoded data removed]",
      "text/plain": [
       "<Figure size 1200x600 with 1 Axes>"
      ]
     },
     "metadata": {},
     "output_type": "display_data"
    }
   ],
   "source": [
    "# Line Chart\n",
    "\n",
    "# Define a custom color cycle. Purple and teal.\n",
    "custom_cycler = cycler(color=['#9467bd', '#17becf']) \n",
    "\n",
    "fig, ax = plt.subplots(figsize=(12, 6))\n",
    "\n",
    "# Apply the custom color cycle to the axes\n",
    "ax.set_prop_cycle(custom_cycler)\n",
    "\n",
    "# Plot the data\n",
    "pivot_gb_df.plot(ax=ax, kind='line', marker='o')\n",
    "\n",
    "# Set title and labels with font size\n",
    "ax.set_title('Trend of GB Used, Per Month, by Plan', size=24)\n",
    "ax.set_xlabel('Month', size=16)\n",
    "ax.set_ylabel('Total GB Used', size=16)\n",
    "\n",
    "# Set x-ticks to include all months\n",
    "ax.set_xticks(range(len(month_order)))\n",
    "ax.set_xticklabels(month_order, rotation=45)\n",
    "\n",
    "# Add legend in upper left\n",
    "ax.legend(title='Plan', \n",
    "          bbox_to_anchor=(0.08, .9), \n",
    "          loc='upper left', \n",
    "          fontsize=12,\n",
    "          title_fontsize=16)\n",
    "\n",
    "# Adjust layout for better readability\n",
    "plt.tight_layout()\n",
    "plt.show()"
   ]
  },
  {
   "cell_type": "code",
   "execution_count": 763,
   "id": "155ff0a7-3cbf-4753-ac6e-be996d10c571",
   "metadata": {},
   "outputs": [
    {
     "data": {
      "text/html": [
       "<div style='color: hotpink;'><b>Yes, the customers' GB usage is different, for the two plans.</b></div>"
      ],
      "text/plain": [
       "<IPython.core.display.HTML object>"
      ]
     },
     "metadata": {},
     "output_type": "display_data"
    }
   ],
   "source": [
    "show_html_output(f\"Yes, the customers' GB usage is different, for the two plans.\")"
   ]
  },
  {
   "cell_type": "code",
   "execution_count": 764,
   "id": "f6e86f6e-c9f9-4373-b0cd-0adf73775dcb",
   "metadata": {},
   "outputs": [
    {
     "data": {
      "text/html": [
       "<div style='color: hotpink;'><b>The usage of GB, per plan, are almost exactly the same for the first 2 months of the year. At the beginning of March, through the end of the year, customers on the Surf plan use a lot more GB's than the customers on the Ultimate plan. At the end of the year, in December, the GB usage, for Surf plan customers, is about double that of the Ultimate plan customers, for December.</b></div>"
      ],
      "text/plain": [
       "<IPython.core.display.HTML object>"
      ]
     },
     "metadata": {},
     "output_type": "display_data"
    }
   ],
   "source": [
    "show_html_output(f\"The usage of GB, per plan, are almost exactly the same for the first 2 months of the year. At the beginning of March, through the end of the year, customers on the Surf plan use a lot more GB's than the customers on the Ultimate plan. At the end of the year, in December, the GB usage, for Surf plan customers, is about double that of the Ultimate plan customers, for December.\")"
   ]
  },
  {
   "cell_type": "markdown",
   "id": "d37391c4-13cb-428f-b538-6c43e34d5ed1",
   "metadata": {},
   "source": [
    "<div class=\"alert alert-info\"><font color='hotpink'>\n",
    "<b>Internet</b>\n",
    "<br>\n",
    "<br>\n",
    "<b>To compare the amount of internet traffic consumed by users per plan: </b>\n",
    "<br>\n",
    "- &nbsp;&nbsp;&nbsp;&nbsp;I created a dataframe with these columns ...'gb_used' ,  'month', 'plan', and 'user_id', so that I could get the sum usage, of GB's, for each user.\n",
    "<br>\n",
    "- &nbsp;&nbsp;&nbsp;&nbsp;I used .sum to get the total of GB.\n",
    "<br>\n",
    "- &nbsp;&nbsp;&nbsp;&nbsp;I used the .pivot method, to pivot the table, from 'month', 'plan', 'gb_used', to 'month', 'surf', 'ultimate'. (the gb_used column was dropped) The surf and ultimate columns hold the GB's per month.\n",
    "<br>\n",
    "<br>\n",
    "<b>To create a line chart:</b>\n",
    "<br>\n",
    "- &nbsp;&nbsp;&nbsp;&nbsp;I used 'ax', on the line chart, so that I would have access to more customized aspects of the graph.\n",
    "<br>\n",
    "- &nbsp;&nbsp;&nbsp;&nbsp;I imported cycler, up above, at the top of the project. I created custom colors, using cycler and ax.set_prop_cycle.\n",
    "<br>  \n",
    "- &nbsp;&nbsp;&nbsp;&nbsp;I used figsize to make the graph bigger.\n",
    "<br>\n",
    "- &nbsp;&nbsp;&nbsp;&nbsp;I used the 'marker' parameter to make little dots for where my data is.\n",
    "<br>\n",
    "- &nbsp;&nbsp;&nbsp;&nbsp;I used the 'kind' parameter to choose the 'line' type of graph. \n",
    "<br>\n",
    "- &nbsp;&nbsp;&nbsp;&nbsp;I used set_xticks to change the x axis labels to be the range of Jan-Dec, using a variable that was created earlier in the project.\n",
    "<br>\n",
    "- &nbsp;&nbsp;&nbsp;&nbsp;I used the 'rotation' parameter, from set_xticklabels to rotate the x labels, so that the months would be easier to read.\n",
    "<br>\n",
    "- &nbsp;&nbsp;&nbsp;&nbsp;I created a legend, using 'loc' parameter to put the legend in the upper left corner. And then used bbox_to_anchor to nudge the legend over to the right a bit.\n",
    "</font color></div>"
   ]
  },
  {
   "cell_type": "markdown",
   "id": "60c33bcc-bc04-4c79-9a12-d3cc5d0628a5",
   "metadata": {},
   "source": [
    "### <span style=\"color: hotpink;\">Revenue</span>"
   ]
  },
  {
   "cell_type": "code",
   "execution_count": 767,
   "id": "482f7877-7ef5-4bf6-b792-a6b182a208c4",
   "metadata": {},
   "outputs": [
    {
     "data": {
      "text/html": [
       "<div>\n",
       "<style scoped>\n",
       "    .dataframe tbody tr th:only-of-type {\n",
       "        vertical-align: middle;\n",
       "    }\n",
       "\n",
       "    .dataframe tbody tr th {\n",
       "        vertical-align: top;\n",
       "    }\n",
       "\n",
       "    .dataframe thead th {\n",
       "        text-align: right;\n",
       "    }\n",
       "</style>\n",
       "<table border=\"1\" class=\"dataframe\">\n",
       "  <thead>\n",
       "    <tr style=\"text-align: right;\">\n",
       "      <th></th>\n",
       "      <th>user_id</th>\n",
       "      <th>month</th>\n",
       "      <th>call_count</th>\n",
       "      <th>duration</th>\n",
       "      <th>Total_messages</th>\n",
       "      <th>gb_used</th>\n",
       "      <th>plan</th>\n",
       "      <th>is_ny_nj</th>\n",
       "      <th>msg_included</th>\n",
       "      <th>gb_included</th>\n",
       "      <th>min_included</th>\n",
       "      <th>monthly_fee</th>\n",
       "      <th>fee_per_gb</th>\n",
       "      <th>fee_per_msg</th>\n",
       "      <th>fee_per_min</th>\n",
       "      <th>total_revenue</th>\n",
       "      <th>month_abbr</th>\n",
       "    </tr>\n",
       "  </thead>\n",
       "  <tbody>\n",
       "    <tr>\n",
       "      <th>11</th>\n",
       "      <td>1004</td>\n",
       "      <td>6</td>\n",
       "      <td>44</td>\n",
       "      <td>275</td>\n",
       "      <td>18</td>\n",
       "      <td>21.0</td>\n",
       "      <td>surf</td>\n",
       "      <td>False</td>\n",
       "      <td>50</td>\n",
       "      <td>15</td>\n",
       "      <td>500</td>\n",
       "      <td>20</td>\n",
       "      <td>10</td>\n",
       "      <td>0.03</td>\n",
       "      <td>0.03</td>\n",
       "      <td>80.0</td>\n",
       "      <td>Jun</td>\n",
       "    </tr>\n",
       "    <tr>\n",
       "      <th>255</th>\n",
       "      <td>1077</td>\n",
       "      <td>4</td>\n",
       "      <td>95</td>\n",
       "      <td>746</td>\n",
       "      <td>57</td>\n",
       "      <td>17.0</td>\n",
       "      <td>ultimate</td>\n",
       "      <td>False</td>\n",
       "      <td>1000</td>\n",
       "      <td>30</td>\n",
       "      <td>3000</td>\n",
       "      <td>70</td>\n",
       "      <td>7</td>\n",
       "      <td>0.01</td>\n",
       "      <td>0.01</td>\n",
       "      <td>70.0</td>\n",
       "      <td>Apr</td>\n",
       "    </tr>\n",
       "    <tr>\n",
       "      <th>1128</th>\n",
       "      <td>1313</td>\n",
       "      <td>12</td>\n",
       "      <td>93</td>\n",
       "      <td>640</td>\n",
       "      <td>44</td>\n",
       "      <td>13.0</td>\n",
       "      <td>surf</td>\n",
       "      <td>False</td>\n",
       "      <td>50</td>\n",
       "      <td>15</td>\n",
       "      <td>500</td>\n",
       "      <td>20</td>\n",
       "      <td>10</td>\n",
       "      <td>0.03</td>\n",
       "      <td>0.03</td>\n",
       "      <td>24.2</td>\n",
       "      <td>Dec</td>\n",
       "    </tr>\n",
       "    <tr>\n",
       "      <th>1265</th>\n",
       "      <td>1347</td>\n",
       "      <td>11</td>\n",
       "      <td>62</td>\n",
       "      <td>425</td>\n",
       "      <td>71</td>\n",
       "      <td>24.0</td>\n",
       "      <td>ultimate</td>\n",
       "      <td>False</td>\n",
       "      <td>1000</td>\n",
       "      <td>30</td>\n",
       "      <td>3000</td>\n",
       "      <td>70</td>\n",
       "      <td>7</td>\n",
       "      <td>0.01</td>\n",
       "      <td>0.01</td>\n",
       "      <td>70.0</td>\n",
       "      <td>Nov</td>\n",
       "    </tr>\n",
       "    <tr>\n",
       "      <th>1540</th>\n",
       "      <td>1432</td>\n",
       "      <td>11</td>\n",
       "      <td>102</td>\n",
       "      <td>718</td>\n",
       "      <td>13</td>\n",
       "      <td>19.0</td>\n",
       "      <td>ultimate</td>\n",
       "      <td>False</td>\n",
       "      <td>1000</td>\n",
       "      <td>30</td>\n",
       "      <td>3000</td>\n",
       "      <td>70</td>\n",
       "      <td>7</td>\n",
       "      <td>0.01</td>\n",
       "      <td>0.01</td>\n",
       "      <td>70.0</td>\n",
       "      <td>Nov</td>\n",
       "    </tr>\n",
       "  </tbody>\n",
       "</table>\n",
       "</div>"
      ],
      "text/plain": [
       "     user_id  month  call_count  duration  Total_messages  gb_used      plan  \\\n",
       "11      1004      6          44       275              18     21.0      surf   \n",
       "255     1077      4          95       746              57     17.0  ultimate   \n",
       "1128    1313     12          93       640              44     13.0      surf   \n",
       "1265    1347     11          62       425              71     24.0  ultimate   \n",
       "1540    1432     11         102       718              13     19.0  ultimate   \n",
       "\n",
       "      is_ny_nj  msg_included  gb_included  min_included  monthly_fee  \\\n",
       "11       False            50           15           500           20   \n",
       "255      False          1000           30          3000           70   \n",
       "1128     False            50           15           500           20   \n",
       "1265     False          1000           30          3000           70   \n",
       "1540     False          1000           30          3000           70   \n",
       "\n",
       "      fee_per_gb  fee_per_msg  fee_per_min  total_revenue month_abbr  \n",
       "11            10         0.03         0.03           80.0        Jun  \n",
       "255            7         0.01         0.01           70.0        Apr  \n",
       "1128          10         0.03         0.03           24.2        Dec  \n",
       "1265           7         0.01         0.01           70.0        Nov  \n",
       "1540           7         0.01         0.01           70.0        Nov  "
      ]
     },
     "metadata": {},
     "output_type": "display_data"
    },
    {
     "data": {
      "text/plain": [
       "Index(['user_id', 'month', 'call_count', 'duration', 'Total_messages',\n",
       "       'gb_used', 'plan', 'is_ny_nj', 'msg_included', 'gb_included',\n",
       "       'min_included', 'monthly_fee', 'fee_per_gb', 'fee_per_msg',\n",
       "       'fee_per_min', 'total_revenue', 'month_abbr'],\n",
       "      dtype='object')"
      ]
     },
     "execution_count": 767,
     "metadata": {},
     "output_type": "execute_result"
    }
   ],
   "source": [
    "display(merged_revenue.sample(5))\n",
    "merged_revenue.columns"
   ]
  },
  {
   "cell_type": "code",
   "execution_count": 768,
   "id": "70dc6cec-be44-4f71-930c-a8e204e225b0",
   "metadata": {},
   "outputs": [
    {
     "data": {
      "text/html": [
       "<div style='color: hotpink;'><b>Total revenue, Surf vs Ultimate plans:</b></div>"
      ],
      "text/plain": [
       "<IPython.core.display.HTML object>"
      ]
     },
     "metadata": {},
     "output_type": "display_data"
    }
   ],
   "source": [
    "show_html_output(\"Total revenue, Surf vs Ultimate plans:\")"
   ]
  },
  {
   "cell_type": "code",
   "execution_count": 769,
   "id": "4a844db3-fcd0-4f34-846c-cfe596fdf189",
   "metadata": {},
   "outputs": [],
   "source": [
    "# Create new columns for Surf and Ultimate plan revenues\n",
    "merged_revenue['surf_total_revenue'] = merged_revenue.apply(\n",
    "    lambda row: row['total_revenue'] if row['plan'] == 'surf' else 0, axis=1)\n",
    "merged_revenue['ultimate_total_revenue'] = merged_revenue.apply(\n",
    "    lambda row: row['total_revenue'] if row['plan'] == 'ultimate' else 0, axis=1)"
   ]
  },
  {
   "cell_type": "code",
   "execution_count": 770,
   "id": "ced6fc3e-4d2f-4109-be2f-0cb06a9cc2ac",
   "metadata": {},
   "outputs": [
    {
     "data": {
      "text/html": [
       "<div>\n",
       "<style scoped>\n",
       "    .dataframe tbody tr th:only-of-type {\n",
       "        vertical-align: middle;\n",
       "    }\n",
       "\n",
       "    .dataframe tbody tr th {\n",
       "        vertical-align: top;\n",
       "    }\n",
       "\n",
       "    .dataframe thead th {\n",
       "        text-align: right;\n",
       "    }\n",
       "</style>\n",
       "<table border=\"1\" class=\"dataframe\">\n",
       "  <thead>\n",
       "    <tr style=\"text-align: right;\">\n",
       "      <th></th>\n",
       "      <th>user_id</th>\n",
       "      <th>month</th>\n",
       "      <th>call_count</th>\n",
       "      <th>duration</th>\n",
       "      <th>Total_messages</th>\n",
       "      <th>gb_used</th>\n",
       "      <th>plan</th>\n",
       "      <th>is_ny_nj</th>\n",
       "      <th>msg_included</th>\n",
       "      <th>gb_included</th>\n",
       "      <th>min_included</th>\n",
       "      <th>monthly_fee</th>\n",
       "      <th>fee_per_gb</th>\n",
       "      <th>fee_per_msg</th>\n",
       "      <th>fee_per_min</th>\n",
       "      <th>total_revenue</th>\n",
       "      <th>month_abbr</th>\n",
       "      <th>surf_total_revenue</th>\n",
       "      <th>ultimate_total_revenue</th>\n",
       "    </tr>\n",
       "  </thead>\n",
       "  <tbody>\n",
       "    <tr>\n",
       "      <th>1157</th>\n",
       "      <td>1324</td>\n",
       "      <td>6</td>\n",
       "      <td>138</td>\n",
       "      <td>1033</td>\n",
       "      <td>124</td>\n",
       "      <td>21.0</td>\n",
       "      <td>surf</td>\n",
       "      <td>False</td>\n",
       "      <td>50</td>\n",
       "      <td>15</td>\n",
       "      <td>500</td>\n",
       "      <td>20</td>\n",
       "      <td>10</td>\n",
       "      <td>0.03</td>\n",
       "      <td>0.03</td>\n",
       "      <td>98.21</td>\n",
       "      <td>Jun</td>\n",
       "      <td>98.21</td>\n",
       "      <td>0.0</td>\n",
       "    </tr>\n",
       "    <tr>\n",
       "      <th>16</th>\n",
       "      <td>1004</td>\n",
       "      <td>11</td>\n",
       "      <td>54</td>\n",
       "      <td>476</td>\n",
       "      <td>25</td>\n",
       "      <td>22.0</td>\n",
       "      <td>surf</td>\n",
       "      <td>False</td>\n",
       "      <td>50</td>\n",
       "      <td>15</td>\n",
       "      <td>500</td>\n",
       "      <td>20</td>\n",
       "      <td>10</td>\n",
       "      <td>0.03</td>\n",
       "      <td>0.03</td>\n",
       "      <td>90.00</td>\n",
       "      <td>Nov</td>\n",
       "      <td>90.00</td>\n",
       "      <td>0.0</td>\n",
       "    </tr>\n",
       "    <tr>\n",
       "      <th>1283</th>\n",
       "      <td>1354</td>\n",
       "      <td>12</td>\n",
       "      <td>89</td>\n",
       "      <td>544</td>\n",
       "      <td>44</td>\n",
       "      <td>19.0</td>\n",
       "      <td>ultimate</td>\n",
       "      <td>True</td>\n",
       "      <td>1000</td>\n",
       "      <td>30</td>\n",
       "      <td>3000</td>\n",
       "      <td>70</td>\n",
       "      <td>7</td>\n",
       "      <td>0.01</td>\n",
       "      <td>0.01</td>\n",
       "      <td>70.00</td>\n",
       "      <td>Dec</td>\n",
       "      <td>0.00</td>\n",
       "      <td>70.0</td>\n",
       "    </tr>\n",
       "    <tr>\n",
       "      <th>212</th>\n",
       "      <td>1064</td>\n",
       "      <td>12</td>\n",
       "      <td>62</td>\n",
       "      <td>438</td>\n",
       "      <td>26</td>\n",
       "      <td>19.0</td>\n",
       "      <td>surf</td>\n",
       "      <td>True</td>\n",
       "      <td>50</td>\n",
       "      <td>15</td>\n",
       "      <td>500</td>\n",
       "      <td>20</td>\n",
       "      <td>10</td>\n",
       "      <td>0.03</td>\n",
       "      <td>0.03</td>\n",
       "      <td>60.00</td>\n",
       "      <td>Dec</td>\n",
       "      <td>60.00</td>\n",
       "      <td>0.0</td>\n",
       "    </tr>\n",
       "    <tr>\n",
       "      <th>759</th>\n",
       "      <td>1209</td>\n",
       "      <td>12</td>\n",
       "      <td>111</td>\n",
       "      <td>682</td>\n",
       "      <td>26</td>\n",
       "      <td>23.0</td>\n",
       "      <td>surf</td>\n",
       "      <td>False</td>\n",
       "      <td>50</td>\n",
       "      <td>15</td>\n",
       "      <td>500</td>\n",
       "      <td>20</td>\n",
       "      <td>10</td>\n",
       "      <td>0.03</td>\n",
       "      <td>0.03</td>\n",
       "      <td>105.46</td>\n",
       "      <td>Dec</td>\n",
       "      <td>105.46</td>\n",
       "      <td>0.0</td>\n",
       "    </tr>\n",
       "    <tr>\n",
       "      <th>293</th>\n",
       "      <td>1084</td>\n",
       "      <td>10</td>\n",
       "      <td>29</td>\n",
       "      <td>233</td>\n",
       "      <td>36</td>\n",
       "      <td>8.0</td>\n",
       "      <td>surf</td>\n",
       "      <td>False</td>\n",
       "      <td>50</td>\n",
       "      <td>15</td>\n",
       "      <td>500</td>\n",
       "      <td>20</td>\n",
       "      <td>10</td>\n",
       "      <td>0.03</td>\n",
       "      <td>0.03</td>\n",
       "      <td>20.00</td>\n",
       "      <td>Oct</td>\n",
       "      <td>20.00</td>\n",
       "      <td>0.0</td>\n",
       "    </tr>\n",
       "    <tr>\n",
       "      <th>299</th>\n",
       "      <td>1088</td>\n",
       "      <td>5</td>\n",
       "      <td>3</td>\n",
       "      <td>22</td>\n",
       "      <td>8</td>\n",
       "      <td>3.0</td>\n",
       "      <td>ultimate</td>\n",
       "      <td>False</td>\n",
       "      <td>1000</td>\n",
       "      <td>30</td>\n",
       "      <td>3000</td>\n",
       "      <td>70</td>\n",
       "      <td>7</td>\n",
       "      <td>0.01</td>\n",
       "      <td>0.01</td>\n",
       "      <td>70.00</td>\n",
       "      <td>May</td>\n",
       "      <td>0.00</td>\n",
       "      <td>70.0</td>\n",
       "    </tr>\n",
       "    <tr>\n",
       "      <th>281</th>\n",
       "      <td>1082</td>\n",
       "      <td>4</td>\n",
       "      <td>32</td>\n",
       "      <td>190</td>\n",
       "      <td>15</td>\n",
       "      <td>7.0</td>\n",
       "      <td>surf</td>\n",
       "      <td>False</td>\n",
       "      <td>50</td>\n",
       "      <td>15</td>\n",
       "      <td>500</td>\n",
       "      <td>20</td>\n",
       "      <td>10</td>\n",
       "      <td>0.03</td>\n",
       "      <td>0.03</td>\n",
       "      <td>20.00</td>\n",
       "      <td>Apr</td>\n",
       "      <td>20.00</td>\n",
       "      <td>0.0</td>\n",
       "    </tr>\n",
       "    <tr>\n",
       "      <th>315</th>\n",
       "      <td>1091</td>\n",
       "      <td>10</td>\n",
       "      <td>42</td>\n",
       "      <td>311</td>\n",
       "      <td>35</td>\n",
       "      <td>4.0</td>\n",
       "      <td>ultimate</td>\n",
       "      <td>False</td>\n",
       "      <td>1000</td>\n",
       "      <td>30</td>\n",
       "      <td>3000</td>\n",
       "      <td>70</td>\n",
       "      <td>7</td>\n",
       "      <td>0.01</td>\n",
       "      <td>0.01</td>\n",
       "      <td>70.00</td>\n",
       "      <td>Oct</td>\n",
       "      <td>0.00</td>\n",
       "      <td>70.0</td>\n",
       "    </tr>\n",
       "    <tr>\n",
       "      <th>1073</th>\n",
       "      <td>1295</td>\n",
       "      <td>9</td>\n",
       "      <td>79</td>\n",
       "      <td>618</td>\n",
       "      <td>23</td>\n",
       "      <td>18.0</td>\n",
       "      <td>surf</td>\n",
       "      <td>False</td>\n",
       "      <td>50</td>\n",
       "      <td>15</td>\n",
       "      <td>500</td>\n",
       "      <td>20</td>\n",
       "      <td>10</td>\n",
       "      <td>0.03</td>\n",
       "      <td>0.03</td>\n",
       "      <td>53.54</td>\n",
       "      <td>Sep</td>\n",
       "      <td>53.54</td>\n",
       "      <td>0.0</td>\n",
       "    </tr>\n",
       "  </tbody>\n",
       "</table>\n",
       "</div>"
      ],
      "text/plain": [
       "     user_id  month  call_count  duration  Total_messages  gb_used      plan  \\\n",
       "1157    1324      6         138      1033             124     21.0      surf   \n",
       "16      1004     11          54       476              25     22.0      surf   \n",
       "1283    1354     12          89       544              44     19.0  ultimate   \n",
       "212     1064     12          62       438              26     19.0      surf   \n",
       "759     1209     12         111       682              26     23.0      surf   \n",
       "293     1084     10          29       233              36      8.0      surf   \n",
       "299     1088      5           3        22               8      3.0  ultimate   \n",
       "281     1082      4          32       190              15      7.0      surf   \n",
       "315     1091     10          42       311              35      4.0  ultimate   \n",
       "1073    1295      9          79       618              23     18.0      surf   \n",
       "\n",
       "      is_ny_nj  msg_included  gb_included  min_included  monthly_fee  \\\n",
       "1157     False            50           15           500           20   \n",
       "16       False            50           15           500           20   \n",
       "1283      True          1000           30          3000           70   \n",
       "212       True            50           15           500           20   \n",
       "759      False            50           15           500           20   \n",
       "293      False            50           15           500           20   \n",
       "299      False          1000           30          3000           70   \n",
       "281      False            50           15           500           20   \n",
       "315      False          1000           30          3000           70   \n",
       "1073     False            50           15           500           20   \n",
       "\n",
       "      fee_per_gb  fee_per_msg  fee_per_min  total_revenue month_abbr  \\\n",
       "1157          10         0.03         0.03          98.21        Jun   \n",
       "16            10         0.03         0.03          90.00        Nov   \n",
       "1283           7         0.01         0.01          70.00        Dec   \n",
       "212           10         0.03         0.03          60.00        Dec   \n",
       "759           10         0.03         0.03         105.46        Dec   \n",
       "293           10         0.03         0.03          20.00        Oct   \n",
       "299            7         0.01         0.01          70.00        May   \n",
       "281           10         0.03         0.03          20.00        Apr   \n",
       "315            7         0.01         0.01          70.00        Oct   \n",
       "1073          10         0.03         0.03          53.54        Sep   \n",
       "\n",
       "      surf_total_revenue  ultimate_total_revenue  \n",
       "1157               98.21                     0.0  \n",
       "16                 90.00                     0.0  \n",
       "1283                0.00                    70.0  \n",
       "212                60.00                     0.0  \n",
       "759               105.46                     0.0  \n",
       "293                20.00                     0.0  \n",
       "299                 0.00                    70.0  \n",
       "281                20.00                     0.0  \n",
       "315                 0.00                    70.0  \n",
       "1073               53.54                     0.0  "
      ]
     },
     "metadata": {},
     "output_type": "display_data"
    }
   ],
   "source": [
    "display(merged_revenue.sample(n=10))"
   ]
  },
  {
   "cell_type": "code",
   "execution_count": 771,
   "id": "948674c9-5052-4fe9-a11b-72068f456a66",
   "metadata": {},
   "outputs": [
    {
     "data": {
      "text/html": [
       "<div style='color: hotpink;'><b>Plotting the revenue for the two plans:</b></div>"
      ],
      "text/plain": [
       "<IPython.core.display.HTML object>"
      ]
     },
     "metadata": {},
     "output_type": "display_data"
    }
   ],
   "source": [
    "show_html_output(\"Plotting the revenue for the two plans:\")"
   ]
  },
  {
   "cell_type": "code",
   "execution_count": 772,
   "id": "bd8fd1c4-1b9f-40f5-8c2f-f3d1b1c8474b",
   "metadata": {},
   "outputs": [
    {
     "data": {
      "image/png": "[encoded data removed]",
      "text/plain": [
       "<Figure size 1200x600 with 1 Axes>"
      ]
     },
     "metadata": {},
     "output_type": "display_data"
    }
   ],
   "source": [
    "# Boxplot, with both plans\n",
    "plt.figure(figsize=(12, 6))\n",
    "\n",
    "sns.boxplot(data=merged_revenue, x='plan', y='total_revenue')\n",
    "\n",
    "plt.title('Boxplot of Total Revenue for Surf and Ultimate Plans', size =24)\n",
    "plt.xlabel('Plan', size=16)\n",
    "plt.ylabel('Total Revenue (USD)', size=16)\n",
    "\n",
    "plt.show()\n",
    "\n"
   ]
  },
  {
   "cell_type": "code",
   "execution_count": 773,
   "id": "879578ee-f99e-46f0-86b7-2b329d089a9c",
   "metadata": {},
   "outputs": [
    {
     "data": {
      "text/html": [
       "<div style='color: hotpink;'><b>The Ultimate plan has a slightly higher median revenue.  The distribution of revenue, for the Ultimate plan is smaller than that of the Surf plan. The Surf plan brings in more revenue, because the distribution is bigger, and also there are a more outliers.</b></div>"
      ],
      "text/plain": [
       "<IPython.core.display.HTML object>"
      ]
     },
     "metadata": {},
     "output_type": "display_data"
    }
   ],
   "source": [
    "show_html_output(\"The Ultimate plan has a slightly higher median revenue.  The distribution of revenue, for the Ultimate plan is smaller than that of the Surf plan. The Surf plan brings in more revenue, because the distribution is bigger, and also there are a more outliers.\")"
   ]
  },
  {
   "cell_type": "markdown",
   "id": "79a9b977-7503-4b51-b868-c25fe328cad7",
   "metadata": {},
   "source": [
    "### Extra minutes $"
   ]
  },
  {
   "cell_type": "code",
   "execution_count": 775,
   "id": "f487f785-2e22-4883-bdc8-3b101df47c35",
   "metadata": {},
   "outputs": [
    {
     "data": {
      "text/html": [
       "<div style='color: hotpink;'><b>Total revenue, for extra minutes, by plan, by month</b></div>"
      ],
      "text/plain": [
       "<IPython.core.display.HTML object>"
      ]
     },
     "metadata": {},
     "output_type": "display_data"
    }
   ],
   "source": [
    "show_html_output(f\"Total revenue, for extra minutes, by plan, by month\")"
   ]
  },
  {
   "cell_type": "code",
   "execution_count": 776,
   "id": "a9690a8b-89df-4556-a06a-f0503aefbfd6",
   "metadata": {},
   "outputs": [],
   "source": [
    "# Surf plan - min_included is equal to 500\n",
    "# Ultimate plan - min_included is equal to 3000\n",
    "# Define the extraMIN function to calculate extra minute revenue\n",
    "def extraMIN(row):\n",
    "    # Use min_included directly from the DataFrame column\n",
    "    min_included = row['min_included']\n",
    "    # Calculate the extra minute revenue if duration exceeds included minutes\n",
    "    if row['duration'] > min_included:\n",
    "        extra_min_revenue = (row['duration'] - min_included) * row['fee_per_min']\n",
    "        return extra_min_revenue\n",
    "    return 0"
   ]
  },
  {
   "cell_type": "code",
   "execution_count": 777,
   "id": "3c029752-429e-4420-8d6a-5f8f8c923910",
   "metadata": {},
   "outputs": [],
   "source": [
    "# Define the function to aggregate extra minute revenue per month\n",
    "def calculate_extra_min_revenue_per_month(df):\n",
    "    \n",
    "    # Apply the extraMIN function row-wise to create a new column 'rev_extra_min'\n",
    "    df['rev_extra_min'] = df.apply(extraMIN, axis=1)\n",
    "    \n",
    "    # Separate NY-NJ and non-NY-NJ users and aggregate extra minute revenue per month\n",
    "    min_ny_nj_revenue = df[df['is_ny_nj']].groupby('month_abbr')['rev_extra_min'].sum().reset_index()\n",
    "    min_non_ny_nj_revenue = df[~df['is_ny_nj']].groupby('month_abbr')['rev_extra_min'].sum().reset_index()\n",
    "\n",
    "    \n",
    "    \n",
    "    return min_ny_nj_revenue, min_non_ny_nj_revenue"
   ]
  },
  {
   "cell_type": "code",
   "execution_count": 778,
   "id": "35a36268-e83d-4ba4-b779-3f3daccae373",
   "metadata": {},
   "outputs": [
    {
     "name": "stdout",
     "output_type": "stream",
     "text": [
      "Extra minute revenue per month for NY-NJ users:\n",
      "   month_abbr  rev_extra_min\n",
      "0         Jan           0.00\n",
      "1         Feb           0.00\n",
      "2         Mar           6.84\n",
      "3         Apr           5.67\n",
      "4         May          14.64\n",
      "5         Jun          10.86\n",
      "6         Jul          25.98\n",
      "7         Aug          35.19\n",
      "8         Sep          41.07\n",
      "9         Oct         100.14\n",
      "10        Nov          78.69\n",
      "11        Dec         138.03\n",
      "\n",
      "\n",
      "Extra minute revenue per month for non-NY-NJ users:\n",
      "   month_abbr  rev_extra_min\n",
      "0         Jan           0.00\n",
      "1         Feb           9.33\n",
      "2         Mar           9.42\n",
      "3         Apr          42.42\n",
      "4         May         101.16\n",
      "5         Jun         102.81\n",
      "6         Jul         180.12\n",
      "7         Aug         179.94\n",
      "8         Sep         184.38\n",
      "9         Oct         247.35\n",
      "10        Nov         337.71\n",
      "11        Dec         545.31\n",
      "\n",
      "\n",
      "Annual total extra minute revenue for NY-NJ users: $ 457.11\n",
      "Annual total extra minute revenue for non-NY-NJ users: $ 1939.95\n"
     ]
    }
   ],
   "source": [
    "# Call the function to get the extra minute revenue per month for NY-NJ and non-NY-NJ users\n",
    "ny_nj_extra_min_revenue, non_ny_nj_extra_min_revenue = calculate_extra_min_revenue_per_month(merged_revenue)\n",
    "\n",
    "# Calculate the annual total for NY-NJ and non-NY-NJ users for extra minutes.\n",
    "min_ny_nj_annual_total = ny_nj_extra_min_revenue['rev_extra_min'].sum()\n",
    "min_non_ny_nj_annual_total = non_ny_nj_extra_min_revenue['rev_extra_min'].sum()\n",
    "\n",
    "print(\"Extra minute revenue per month for NY-NJ users:\")\n",
    "print(ny_nj_extra_min_revenue)\n",
    "print()\n",
    "\n",
    "print(\"\\nExtra minute revenue per month for non-NY-NJ users:\")\n",
    "print(non_ny_nj_extra_min_revenue)\n",
    "print()\n",
    "\n",
    "print(\"\\nAnnual total extra minute revenue for NY-NJ users: $\", min_ny_nj_annual_total.round(2))\n",
    "print(\"Annual total extra minute revenue for non-NY-NJ users: $\", min_non_ny_nj_annual_total.round(2))"
   ]
  },
  {
   "cell_type": "code",
   "execution_count": 779,
   "id": "4eb46691-c9d0-4b9c-b63e-2538f50b38be",
   "metadata": {},
   "outputs": [
    {
     "name": "stdout",
     "output_type": "stream",
     "text": [
      "23.56\n"
     ]
    }
   ],
   "source": [
    "perc_min_NYNJ = round((457.11 / 1939.95 ) * 100, 2)\n",
    "print(perc_min_NYNJ)"
   ]
  },
  {
   "cell_type": "code",
   "execution_count": 780,
   "id": "04bd8e62-93c1-4296-a322-c204f50a958b",
   "metadata": {},
   "outputs": [
    {
     "data": {
      "text/html": [
       "<div style='color: hotpink;'><b>The annual revenue generated, for going over limits for minutes, for NY-NJ customers is smaller than that of non NY-NJ customers. However, the NY-NJ customers make up 23.56% of the total revenue for overage of minutes.</b></div>"
      ],
      "text/plain": [
       "<IPython.core.display.HTML object>"
      ]
     },
     "metadata": {},
     "output_type": "display_data"
    }
   ],
   "source": [
    "show_html_output(f\"The annual revenue generated, for going over limits for minutes, for NY-NJ customers is smaller than that of non NY-NJ customers. However, the NY-NJ customers make up {perc_min_NYNJ:.2f}% of the total revenue for overage of minutes.\")"
   ]
  },
  {
   "cell_type": "markdown",
   "id": "61c2a2f9-540b-4ad7-9663-df854423f549",
   "metadata": {},
   "source": [
    "### Extra messages $"
   ]
  },
  {
   "cell_type": "code",
   "execution_count": 782,
   "id": "794244a6-7f02-4e1e-a66f-1a366870b86b",
   "metadata": {},
   "outputs": [
    {
     "data": {
      "text/html": [
       "<div style='color: hotpink;'><b>Total revenue, for extra messages, by plan, by month:</b></div>"
      ],
      "text/plain": [
       "<IPython.core.display.HTML object>"
      ]
     },
     "metadata": {},
     "output_type": "display_data"
    }
   ],
   "source": [
    "show_html_output(f\"Total revenue, for extra messages, by plan, by month:\")"
   ]
  },
  {
   "cell_type": "code",
   "execution_count": 783,
   "id": "bbc637da-82b4-42f9-aeff-94a5be98a78e",
   "metadata": {},
   "outputs": [],
   "source": [
    "# Surf plan - msg_included is equal to 50\n",
    "# Ultimate plan - msg_included is equal to 1000\n",
    "# Define the extraMSG function to calculate extra messages revenue\n",
    "def extraMSG(row):\n",
    "    # Use msg_included directly from the merged_revenue dataFrame column\n",
    "    msg_included = row['msg_included']\n",
    "    \n",
    "    # Calculate the extra messages revenue if messages exceeds included messages\n",
    "    if row['Total_messages'] > msg_included:\n",
    "        extra_msg_revenue = (row['Total_messages'] - msg_included) * row['fee_per_msg']\n",
    "        return extra_msg_revenue\n",
    "    return 0"
   ]
  },
  {
   "cell_type": "code",
   "execution_count": 784,
   "id": "ecf51a4a-f247-4d6e-ae05-953a71d51c8f",
   "metadata": {},
   "outputs": [],
   "source": [
    "# Define the function to aggregate extra messages revenue per month\n",
    "def calculate_extra_msg_revenue_per_month(df):\n",
    "    \n",
    "    # Apply the extraMSG function row-wise to create a new column 'rev_extra_msg'\n",
    "    df['rev_extra_msg'] = df.apply(extraMSG, axis=1)\n",
    "    \n",
    "    # Separate NY-NJ and non-NY-NJ users and aggregate extra messages revenue per month\n",
    "    msg_ny_nj_revenue = df[df['is_ny_nj']].groupby('month_abbr')['rev_extra_msg'].sum().reset_index()\n",
    "    msg_non_ny_nj_revenue = df[~df['is_ny_nj']].groupby('month_abbr')['rev_extra_msg'].sum().reset_index()\n",
    "\n",
    "    \n",
    "    \n",
    "    return msg_ny_nj_revenue, msg_non_ny_nj_revenue"
   ]
  },
  {
   "cell_type": "code",
   "execution_count": 785,
   "id": "c32f579c-24c7-4d75-b7e2-d58bee3c4532",
   "metadata": {},
   "outputs": [
    {
     "name": "stdout",
     "output_type": "stream",
     "text": [
      "Extra messages revenue per month for NY-NJ users:\n",
      "   month_abbr  rev_extra_msg\n",
      "0         Jan           0.00\n",
      "1         Feb           0.00\n",
      "2         Mar           0.00\n",
      "3         Apr           0.00\n",
      "4         May           0.00\n",
      "5         Jun           0.00\n",
      "6         Jul           0.15\n",
      "7         Aug           5.13\n",
      "8         Sep           8.91\n",
      "9         Oct          14.73\n",
      "10        Nov          12.24\n",
      "11        Dec          20.10\n",
      "\n",
      "\n",
      "Extra messages revenue per month for non-NY-NJ users:\n",
      "   month_abbr  rev_extra_msg\n",
      "0         Jan           0.00\n",
      "1         Feb           0.24\n",
      "2         Mar           0.39\n",
      "3         Apr           2.61\n",
      "4         May           9.63\n",
      "5         Jun          12.00\n",
      "6         Jul          14.52\n",
      "7         Aug          21.33\n",
      "8         Sep          23.58\n",
      "9         Oct          39.45\n",
      "10        Nov          42.78\n",
      "11        Dec          75.84\n",
      "\n",
      "\n",
      "Annual total extra messages revenue for NY-NJ users: $ 61.26\n",
      "Annual total extra messages revenue for non-NY-NJ users: $ 242.37\n"
     ]
    }
   ],
   "source": [
    "# Call the function to get the extra messages revenue per month for NY-NJ and non-NY-NJ users\n",
    "ny_nj_extra_msg_revenue, non_ny_nj_extra_msg_revenue = calculate_extra_msg_revenue_per_month(merged_revenue)\n",
    "\n",
    "# Calculate the annual total for NY-NJ and non-NY-NJ users\n",
    "msg_ny_nj_annual_total = ny_nj_extra_msg_revenue['rev_extra_msg'].sum()\n",
    "msg_non_ny_nj_annual_total = non_ny_nj_extra_msg_revenue['rev_extra_msg'].sum()\n",
    "\n",
    "print(\"Extra messages revenue per month for NY-NJ users:\")\n",
    "print(ny_nj_extra_msg_revenue)\n",
    "print()\n",
    "\n",
    "print(\"\\nExtra messages revenue per month for non-NY-NJ users:\")\n",
    "print(non_ny_nj_extra_msg_revenue)\n",
    "print()\n",
    "\n",
    "print(\"\\nAnnual total extra messages revenue for NY-NJ users: $\", msg_ny_nj_annual_total.round(2))\n",
    "print(\"Annual total extra messages revenue for non-NY-NJ users: $\", msg_non_ny_nj_annual_total.round(2))"
   ]
  },
  {
   "cell_type": "code",
   "execution_count": 786,
   "id": "69fa58e9-41f8-4898-bfe3-aebac69966c6",
   "metadata": {},
   "outputs": [
    {
     "name": "stdout",
     "output_type": "stream",
     "text": [
      "25.28\n"
     ]
    }
   ],
   "source": [
    "perc_msg_NYNJ = round((61.26 / 242.37 ) * 100, 2)\n",
    "print(perc_msg_NYNJ)"
   ]
  },
  {
   "cell_type": "code",
   "execution_count": 787,
   "id": "73888a7e-39a0-40f2-b150-4d90874a4022",
   "metadata": {},
   "outputs": [
    {
     "data": {
      "text/html": [
       "<div style='color: hotpink;'><b>The annual revenue generated, for going over limits for messages, for NY-NJ customers is smaller than that of non NY-NJ customers. However, the NY-NJ customers make up 25.28% of the total revenue for overage of messages.</b></div>"
      ],
      "text/plain": [
       "<IPython.core.display.HTML object>"
      ]
     },
     "metadata": {},
     "output_type": "display_data"
    }
   ],
   "source": [
    "show_html_output(f\"The annual revenue generated, for going over limits for messages, for NY-NJ customers is smaller than that of non NY-NJ customers. However, the NY-NJ customers make up {perc_msg_NYNJ:.2f}% of the total revenue for overage of messages.\")"
   ]
  },
  {
   "cell_type": "markdown",
   "id": "3d4b8ba8-159a-4ba5-b899-807bb4169a2e",
   "metadata": {},
   "source": [
    "### Extra GB $"
   ]
  },
  {
   "cell_type": "code",
   "execution_count": 789,
   "id": "ffe2f2cc-fa21-41e5-bf0b-59175b3ba126",
   "metadata": {},
   "outputs": [
    {
     "data": {
      "text/html": [
       "<div style='color: hotpink;'><b>Total revenue, for extra GB, by plan, by month:</b></div>"
      ],
      "text/plain": [
       "<IPython.core.display.HTML object>"
      ]
     },
     "metadata": {},
     "output_type": "display_data"
    }
   ],
   "source": [
    "show_html_output(f\"Total revenue, for extra GB, by plan, by month:\")"
   ]
  },
  {
   "cell_type": "code",
   "execution_count": 790,
   "id": "79070f20-3b8a-4025-b1f8-71dd4639b636",
   "metadata": {},
   "outputs": [],
   "source": [
    "# Surf plan - gb_included is equal to 15\n",
    "# Ultimate plan - gb_included is equal to 30\n",
    "# Define the extraGB function to calculate extra gb revenue\n",
    "def extraGB(row):\n",
    "    # Use gb_included directly from the merged_revenue DataFrame column\n",
    "    gb_included = row['gb_included']\n",
    "    \n",
    "    # Calculate the extra GB revenue if duration exceeds included GB\n",
    "    if row['gb_used'] > gb_included:\n",
    "        extra_gb_revenue = (row['gb_used'] - gb_included) * row['fee_per_gb']\n",
    "        return extra_gb_revenue\n",
    "    return 0"
   ]
  },
  {
   "cell_type": "code",
   "execution_count": 791,
   "id": "1313056a-4458-4dff-81b4-45ebe90180f8",
   "metadata": {},
   "outputs": [],
   "source": [
    "# Define the function to aggregate extra GB revenue per month\n",
    "def calculate_extra_GB_revenue_per_month(df):\n",
    "    \n",
    "    # Apply the extraGB function row-wise to create a new column 'rev_extra_GB'\n",
    "    df['rev_extra_gb'] = df.apply(extraGB, axis=1)\n",
    "    \n",
    "    # Separate NY-NJ and non-NY-NJ users and aggregate extra GB revenue per month\n",
    "    gb_ny_nj_revenue = df[df['is_ny_nj']].groupby('month_abbr')['rev_extra_gb'].sum().reset_index()\n",
    "    gb_non_ny_nj_revenue = df[~df['is_ny_nj']].groupby('month_abbr')['rev_extra_gb'].sum().reset_index()\n",
    "\n",
    "    \n",
    "    \n",
    "    return gb_ny_nj_revenue, gb_non_ny_nj_revenue"
   ]
  },
  {
   "cell_type": "code",
   "execution_count": 792,
   "id": "f23940f1-77c9-4054-9ef2-fde427cfd6af",
   "metadata": {},
   "outputs": [
    {
     "name": "stdout",
     "output_type": "stream",
     "text": [
      "Extra GB revenue per month for NY-NJ users:\n",
      "   month_abbr  rev_extra_gb\n",
      "0         Jan           0.0\n",
      "1         Feb           0.0\n",
      "2         Mar         129.0\n",
      "3         Apr         256.0\n",
      "4         May         331.0\n",
      "5         Jun         366.0\n",
      "6         Jul         796.0\n",
      "7         Aug        1403.0\n",
      "8         Sep        1437.0\n",
      "9         Oct        2346.0\n",
      "10        Nov        2236.0\n",
      "11        Dec        2127.0\n",
      "\n",
      "\n",
      "Extra GB revenue per month for non-NY-NJ users:\n",
      "   month_abbr  rev_extra_gb\n",
      "0         Jan           0.0\n",
      "1         Feb          20.0\n",
      "2         Mar         251.0\n",
      "3         Apr         520.0\n",
      "4         May        1347.0\n",
      "5         Jun        1978.0\n",
      "6         Jul        3140.0\n",
      "7         Aug        4192.0\n",
      "8         Sep        4295.0\n",
      "9         Oct        6181.0\n",
      "10        Nov        6346.0\n",
      "11        Dec       10236.0\n",
      "\n",
      "\n",
      "Annual total extra GB revenue for NY-NJ users: $ 11427.0\n",
      "Annual total extra GB revenue for non-NY-NJ users: $ 38506.0\n"
     ]
    }
   ],
   "source": [
    "# Call the function to get the extra GB revenue per month for NY-NJ and non-NY-NJ users\n",
    "ny_nj_extra_gb_revenue, non_ny_nj_extra_gb_revenue = calculate_extra_GB_revenue_per_month(merged_revenue)\n",
    "\n",
    "# Calculate the annual total for NY-NJ and non-NY-NJ users\n",
    "gb_ny_nj_annual_total = ny_nj_extra_gb_revenue['rev_extra_gb'].sum()\n",
    "gb_non_ny_nj_annual_total = non_ny_nj_extra_gb_revenue['rev_extra_gb'].sum()\n",
    "\n",
    "print(\"Extra GB revenue per month for NY-NJ users:\")\n",
    "print(ny_nj_extra_gb_revenue)\n",
    "print()\n",
    "\n",
    "print(\"\\nExtra GB revenue per month for non-NY-NJ users:\")\n",
    "print(non_ny_nj_extra_gb_revenue)\n",
    "print()\n",
    "\n",
    "print(\"\\nAnnual total extra GB revenue for NY-NJ users: $\", gb_ny_nj_annual_total.round(2))\n",
    "print(\"Annual total extra GB revenue for non-NY-NJ users: $\", gb_non_ny_nj_annual_total.round(2))"
   ]
  },
  {
   "cell_type": "code",
   "execution_count": 793,
   "id": "efb1bd27-f4dd-4e31-8b52-6fe0e843678d",
   "metadata": {},
   "outputs": [
    {
     "name": "stdout",
     "output_type": "stream",
     "text": [
      "29.68\n"
     ]
    }
   ],
   "source": [
    "perc_gb_NYNJ = round((11427.0 / 38506.0 ) * 100, 2)\n",
    "print(perc_gb_NYNJ)"
   ]
  },
  {
   "cell_type": "code",
   "execution_count": 794,
   "id": "210046a1-7416-4f89-a52d-682a51348743",
   "metadata": {},
   "outputs": [
    {
     "data": {
      "text/html": [
       "<div style='color: hotpink;'><b>The annual revenue generated, for going over limits for GB, for NY-NJ customers is smaller than that of non NY-NJ customers. However, the NY-NJ customers make up 29.68% of the total revenue for overage of GB.</b></div>"
      ],
      "text/plain": [
       "<IPython.core.display.HTML object>"
      ]
     },
     "metadata": {},
     "output_type": "display_data"
    }
   ],
   "source": [
    "show_html_output(f\"The annual revenue generated, for going over limits for GB, for NY-NJ customers is smaller than that of non NY-NJ customers. However, the NY-NJ customers make up {perc_gb_NYNJ:.2f}% of the total revenue for overage of GB.\")"
   ]
  },
  {
   "cell_type": "code",
   "execution_count": 795,
   "id": "6658ccc6-829d-4ced-8f33-e5428c8eee6b",
   "metadata": {},
   "outputs": [],
   "source": [
    "# Data for plotting\n",
    "categories_extras = ['GB Revenue', 'Message Revenue', 'Minutes Revenue']\n",
    "ny_nj_totals = [gb_ny_nj_annual_total, msg_ny_nj_annual_total, min_ny_nj_annual_total]\n",
    "non_ny_nj_totals = [gb_non_ny_nj_annual_total, msg_non_ny_nj_annual_total, min_non_ny_nj_annual_total]"
   ]
  },
  {
   "cell_type": "code",
   "execution_count": 796,
   "id": "1b089e95-6efb-4596-ab13-f874df03f437",
   "metadata": {},
   "outputs": [
    {
     "data": {
      "image/png": "[encoded data removed]",
      "text/plain": [
       "<Figure size 1000x800 with 1 Axes>"
      ]
     },
     "metadata": {},
     "output_type": "display_data"
    }
   ],
   "source": [
    "# Define the positions for the bars\n",
    "x = np.arange(len(categories_extras))\n",
    "width = 0.35\n",
    "\n",
    "# Create the plot\n",
    "fig, ax = plt.subplots(figsize=(10, 8))\n",
    "\n",
    "# Plot bars\n",
    "bars1 = ax.bar(x - width/2, ny_nj_totals, width, label='NY-NJ', color='b')\n",
    "bars2 = ax.bar(x + width/2, non_ny_nj_totals, width, label='Non NY-NJ', color='r')\n",
    "\n",
    "# Add labels, title, and legend\n",
    "ax.set_xlabel('Category', size=14)\n",
    "ax.set_ylabel('Total Revenue', size=14)\n",
    "ax.set_title('Annual Total Extra Revenue, per Category, for NY-NJ and Non NY-NJ Users', size=16)\n",
    "\n",
    "ax.set_xticks(x)\n",
    "ax.set_xticklabels(categories_extras)\n",
    "\n",
    "ax.legend(fontsize=12, frameon=True, framealpha=1, edgecolor='black', bbox_to_anchor=(0.9, 0.94), loc='upper right')\n",
    "\n",
    "# Show the plot\n",
    "plt.tight_layout()\n",
    "plt.show()"
   ]
  },
  {
   "cell_type": "code",
   "execution_count": 797,
   "id": "dccf01fa-835d-49d6-b165-b0001655f910",
   "metadata": {},
   "outputs": [
    {
     "data": {
      "text/html": [
       "<div>\n",
       "<style scoped>\n",
       "    .dataframe tbody tr th:only-of-type {\n",
       "        vertical-align: middle;\n",
       "    }\n",
       "\n",
       "    .dataframe tbody tr th {\n",
       "        vertical-align: top;\n",
       "    }\n",
       "\n",
       "    .dataframe thead th {\n",
       "        text-align: right;\n",
       "    }\n",
       "</style>\n",
       "<table border=\"1\" class=\"dataframe\">\n",
       "  <thead>\n",
       "    <tr style=\"text-align: right;\">\n",
       "      <th></th>\n",
       "      <th>user_id</th>\n",
       "      <th>month</th>\n",
       "      <th>call_count</th>\n",
       "      <th>duration</th>\n",
       "      <th>Total_messages</th>\n",
       "      <th>gb_used</th>\n",
       "      <th>plan</th>\n",
       "      <th>is_ny_nj</th>\n",
       "      <th>msg_included</th>\n",
       "      <th>gb_included</th>\n",
       "      <th>...</th>\n",
       "      <th>fee_per_gb</th>\n",
       "      <th>fee_per_msg</th>\n",
       "      <th>fee_per_min</th>\n",
       "      <th>total_revenue</th>\n",
       "      <th>month_abbr</th>\n",
       "      <th>surf_total_revenue</th>\n",
       "      <th>ultimate_total_revenue</th>\n",
       "      <th>rev_extra_min</th>\n",
       "      <th>rev_extra_msg</th>\n",
       "      <th>rev_extra_gb</th>\n",
       "    </tr>\n",
       "  </thead>\n",
       "  <tbody>\n",
       "    <tr>\n",
       "      <th>0</th>\n",
       "      <td>1000</td>\n",
       "      <td>12</td>\n",
       "      <td>16</td>\n",
       "      <td>124</td>\n",
       "      <td>11</td>\n",
       "      <td>2.0</td>\n",
       "      <td>ultimate</td>\n",
       "      <td>False</td>\n",
       "      <td>1000</td>\n",
       "      <td>30</td>\n",
       "      <td>...</td>\n",
       "      <td>7</td>\n",
       "      <td>0.01</td>\n",
       "      <td>0.01</td>\n",
       "      <td>70.0</td>\n",
       "      <td>Dec</td>\n",
       "      <td>0.0</td>\n",
       "      <td>70.0</td>\n",
       "      <td>0.0</td>\n",
       "      <td>0.0</td>\n",
       "      <td>0.0</td>\n",
       "    </tr>\n",
       "    <tr>\n",
       "      <th>1</th>\n",
       "      <td>1001</td>\n",
       "      <td>8</td>\n",
       "      <td>27</td>\n",
       "      <td>182</td>\n",
       "      <td>30</td>\n",
       "      <td>7.0</td>\n",
       "      <td>surf</td>\n",
       "      <td>False</td>\n",
       "      <td>50</td>\n",
       "      <td>15</td>\n",
       "      <td>...</td>\n",
       "      <td>10</td>\n",
       "      <td>0.03</td>\n",
       "      <td>0.03</td>\n",
       "      <td>20.0</td>\n",
       "      <td>Aug</td>\n",
       "      <td>20.0</td>\n",
       "      <td>0.0</td>\n",
       "      <td>0.0</td>\n",
       "      <td>0.0</td>\n",
       "      <td>0.0</td>\n",
       "    </tr>\n",
       "    <tr>\n",
       "      <th>2</th>\n",
       "      <td>1001</td>\n",
       "      <td>9</td>\n",
       "      <td>49</td>\n",
       "      <td>315</td>\n",
       "      <td>44</td>\n",
       "      <td>14.0</td>\n",
       "      <td>surf</td>\n",
       "      <td>False</td>\n",
       "      <td>50</td>\n",
       "      <td>15</td>\n",
       "      <td>...</td>\n",
       "      <td>10</td>\n",
       "      <td>0.03</td>\n",
       "      <td>0.03</td>\n",
       "      <td>20.0</td>\n",
       "      <td>Sep</td>\n",
       "      <td>20.0</td>\n",
       "      <td>0.0</td>\n",
       "      <td>0.0</td>\n",
       "      <td>0.0</td>\n",
       "      <td>0.0</td>\n",
       "    </tr>\n",
       "  </tbody>\n",
       "</table>\n",
       "<p>3 rows × 22 columns</p>\n",
       "</div>"
      ],
      "text/plain": [
       "  user_id  month  call_count  duration  Total_messages  gb_used      plan  \\\n",
       "0    1000     12          16       124              11      2.0  ultimate   \n",
       "1    1001      8          27       182              30      7.0      surf   \n",
       "2    1001      9          49       315              44     14.0      surf   \n",
       "\n",
       "   is_ny_nj  msg_included  gb_included  ...  fee_per_gb  fee_per_msg  \\\n",
       "0     False          1000           30  ...           7         0.01   \n",
       "1     False            50           15  ...          10         0.03   \n",
       "2     False            50           15  ...          10         0.03   \n",
       "\n",
       "   fee_per_min  total_revenue  month_abbr  surf_total_revenue  \\\n",
       "0         0.01           70.0         Dec                 0.0   \n",
       "1         0.03           20.0         Aug                20.0   \n",
       "2         0.03           20.0         Sep                20.0   \n",
       "\n",
       "  ultimate_total_revenue  rev_extra_min  rev_extra_msg  rev_extra_gb  \n",
       "0                   70.0            0.0            0.0           0.0  \n",
       "1                    0.0            0.0            0.0           0.0  \n",
       "2                    0.0            0.0            0.0           0.0  \n",
       "\n",
       "[3 rows x 22 columns]"
      ]
     },
     "metadata": {},
     "output_type": "display_data"
    },
    {
     "data": {
      "text/plain": [
       "Index(['user_id', 'month', 'call_count', 'duration', 'Total_messages',\n",
       "       'gb_used', 'plan', 'is_ny_nj', 'msg_included', 'gb_included',\n",
       "       'min_included', 'monthly_fee', 'fee_per_gb', 'fee_per_msg',\n",
       "       'fee_per_min', 'total_revenue', 'month_abbr', 'surf_total_revenue',\n",
       "       'ultimate_total_revenue', 'rev_extra_min', 'rev_extra_msg',\n",
       "       'rev_extra_gb'],\n",
       "      dtype='object')"
      ]
     },
     "execution_count": 797,
     "metadata": {},
     "output_type": "execute_result"
    }
   ],
   "source": [
    "#There are 3 new columns on the far right.\n",
    "display(merged_revenue.head(3))\n",
    "merged_revenue.columns"
   ]
  },
  {
   "cell_type": "markdown",
   "id": "3f795325-d250-49dc-84d1-3839891d37f7",
   "metadata": {},
   "source": [
    "<div class=\"alert alert-info\"><font color='hotpink'>\n",
    "<b>Revenue</b>\n",
    "<br>\n",
    "<br>\n",
    "<b>Total revenue, for extra minutes, by plan, by month: </b>\n",
    "<br>\n",
    "- &nbsp;&nbsp;&nbsp;&nbsp;I created a extraMIN function to calculate the additional revenue generated from users going over their limit, according to their plan, for minutes.\n",
    "<br>\n",
    "- &nbsp;&nbsp;&nbsp;&nbsp;The extraMIN function takes one parameter, a row of a dataframe.\n",
    "<br>\n",
    "- &nbsp;&nbsp;&nbsp;&nbsp;In this function, I created a min_included variable to hold the amount of minutes that are included in the plan.\n",
    "<br>\n",
    "- &nbsp;&nbsp;&nbsp;&nbsp;I then check to see if the actual minutes used, are greater than the minutes included, in their plan.\n",
    "<br>\n",
    "- &nbsp;&nbsp;&nbsp;&nbsp;If user has gone over their included minutes, I minus  minutes allowed, from their total minutes, then multiply that number by their plan's fee per extra minute.\n",
    "<br>\n",
    "- &nbsp;&nbsp;&nbsp;&nbsp;I created a calculate_extra_min_revenue_per_month function that aggregates the total revenue generated, per month.\n",
    "<br>\n",
    "- &nbsp;&nbsp;&nbsp;&nbsp;This function also separates out the NY-NJ users vs the non NY-NJ users.\n",
    "<br>\n",
    "- &nbsp;&nbsp;&nbsp;&nbsp;This function calls the extraMIN function.\n",
    "<br>\n",
    "- &nbsp;&nbsp;&nbsp;&nbsp;The extraMIN function returns the revenue generated, back to this function. \n",
    "<br>\n",
    "- &nbsp;&nbsp;&nbsp;&nbsp;That number is added to a new column, called rev_extra_min, in the merged_revenue dataframe. \n",
    "<br>\n",
    "- &nbsp;&nbsp;&nbsp;&nbsp;This function then checks to see if is_ny_nj column, from the merged dataframe, is 'True'. \n",
    "<br>\n",
    "- &nbsp;&nbsp;&nbsp;&nbsp;If it is, it groups this filtered data, by month, sums the revenue generated by extra minutes. \n",
    "<br>\n",
    "- &nbsp;&nbsp;&nbsp;&nbsp;This data is added put in a dataframe called min_ny_nj_revenue, and the dataframe index is reset.\n",
    "<br>\n",
    "- &nbsp;&nbsp;&nbsp;&nbsp;If the is_ny_nj column is 'False', this would mean that the user is not from the NY-NJ area.\n",
    "<br>\n",
    "- &nbsp;&nbsp;&nbsp;&nbsp;The revenue generated by extra minutes is then summed, the rows are grouped by months, the index is reset.\n",
    "<br>\n",
    "- &nbsp;&nbsp;&nbsp;&nbsp;The rows are added to this min_non_ny_nj_revenue dataframe.  \n",
    "<br>\n",
    "- &nbsp;&nbsp;&nbsp;&nbsp;I used the ~ symbol, which means 'if it is True, then make it False', and vice versa.\n",
    "<br>\n",
    "- &nbsp;&nbsp;&nbsp;&nbsp;I calculate the annual revenue from extra minutes total for NY-NJ and non-NY-NJ users, and print that out.\n",
    "<br>\n",
    "<br>\n",
    "<b>Total revenue, for extra messages, by plan, by month:</b>\n",
    "<br>\n",
    "- &nbsp;&nbsp;&nbsp;&nbsp;I do the same thing, as finding revenue for extra minutes, doing a copy-n-paste of that code, except I changed all instances of min, to msg.\n",
    "<br>\n",
    "<br>\n",
    "<b>Total revenue, for extra GB, by plan, by month:</b>\n",
    "<br> \n",
    "- &nbsp;&nbsp;&nbsp;&nbsp;I do the same thing, as finding revenue for extra messages, doing a copy-n-paste of that code, except I changed all instances of msg, to gb.\n",
    "<br>\n",
    "<br>\n",
    "<b>To create the double bar plot:</b>\n",
    "<br> \n",
    "- &nbsp;&nbsp;&nbsp;&nbsp;One bar is representing the NY-NJ users, and the other bar representing the non NY-NJ users.\n",
    "<br>\n",
    "- &nbsp;&nbsp;&nbsp;&nbsp;I created a list to hold the 3 categories of revenue generated from data overages.\n",
    "<br>\n",
    "- &nbsp;&nbsp;&nbsp;&nbsp;I used the arange method to grab the length of the list, and create bars on the graph with a distance of 35% away from each other.\n",
    "<br>\n",
    "- &nbsp;&nbsp;&nbsp;&nbsp;I used ax.bar to plot the bars, and use minus, and plus, to shift one bar to the left, and one bar to the right, so that they don't overlap vertically.\n",
    "<br>\n",
    "- &nbsp;&nbsp;&nbsp;&nbsp;xticks is set to x, which is 3.\n",
    "<br>\n",
    "- &nbsp;&nbsp;&nbsp;&nbsp;Using legend, and used loc, I positioned the legend in the upper right corner. I used bbox_to_anchor=(0.9, 0.94) to nudge the legend over to the left.\n",
    "<br>\n",
    "- &nbsp;&nbsp;&nbsp;&nbsp;I used tight_layout to make sure that there was padding around the graph, so it will look good visually.\n"
   ]
  },
  {
   "cell_type": "code",
   "execution_count": 799,
   "id": "d1eee35f-44b1-4c62-b878-faeb7dba66d3",
   "metadata": {},
   "outputs": [
    {
     "data": {
      "text/html": [
       "<div>\n",
       "<style scoped>\n",
       "    .dataframe tbody tr th:only-of-type {\n",
       "        vertical-align: middle;\n",
       "    }\n",
       "\n",
       "    .dataframe tbody tr th {\n",
       "        vertical-align: top;\n",
       "    }\n",
       "\n",
       "    .dataframe thead th {\n",
       "        text-align: right;\n",
       "    }\n",
       "</style>\n",
       "<table border=\"1\" class=\"dataframe\">\n",
       "  <thead>\n",
       "    <tr style=\"text-align: right;\">\n",
       "      <th></th>\n",
       "      <th>user_id</th>\n",
       "      <th>month_abbr</th>\n",
       "      <th>total_revenue</th>\n",
       "      <th>plan</th>\n",
       "    </tr>\n",
       "  </thead>\n",
       "  <tbody>\n",
       "    <tr>\n",
       "      <th>1377</th>\n",
       "      <td>1379</td>\n",
       "      <td>Dec</td>\n",
       "      <td>600.37</td>\n",
       "      <td>surf</td>\n",
       "    </tr>\n",
       "    <tr>\n",
       "      <th>856</th>\n",
       "      <td>1240</td>\n",
       "      <td>Aug</td>\n",
       "      <td>387.85</td>\n",
       "      <td>surf</td>\n",
       "    </tr>\n",
       "    <tr>\n",
       "      <th>858</th>\n",
       "      <td>1240</td>\n",
       "      <td>Oct</td>\n",
       "      <td>320.82</td>\n",
       "      <td>surf</td>\n",
       "    </tr>\n",
       "    <tr>\n",
       "      <th>860</th>\n",
       "      <td>1240</td>\n",
       "      <td>Dec</td>\n",
       "      <td>308.57</td>\n",
       "      <td>surf</td>\n",
       "    </tr>\n",
       "    <tr>\n",
       "      <th>1014</th>\n",
       "      <td>1272</td>\n",
       "      <td>Dec</td>\n",
       "      <td>294.14</td>\n",
       "      <td>surf</td>\n",
       "    </tr>\n",
       "    <tr>\n",
       "      <th>997</th>\n",
       "      <td>1267</td>\n",
       "      <td>Dec</td>\n",
       "      <td>282.55</td>\n",
       "      <td>surf</td>\n",
       "    </tr>\n",
       "    <tr>\n",
       "      <th>1602</th>\n",
       "      <td>1447</td>\n",
       "      <td>Nov</td>\n",
       "      <td>280.54</td>\n",
       "      <td>surf</td>\n",
       "    </tr>\n",
       "    <tr>\n",
       "      <th>1066</th>\n",
       "      <td>1293</td>\n",
       "      <td>Oct</td>\n",
       "      <td>273.51</td>\n",
       "      <td>surf</td>\n",
       "    </tr>\n",
       "    <tr>\n",
       "      <th>1002</th>\n",
       "      <td>1268</td>\n",
       "      <td>Jul</td>\n",
       "      <td>260.63</td>\n",
       "      <td>surf</td>\n",
       "    </tr>\n",
       "    <tr>\n",
       "      <th>734</th>\n",
       "      <td>1201</td>\n",
       "      <td>Nov</td>\n",
       "      <td>260.00</td>\n",
       "      <td>surf</td>\n",
       "    </tr>\n",
       "    <tr>\n",
       "      <th>1178</th>\n",
       "      <td>1328</td>\n",
       "      <td>Jul</td>\n",
       "      <td>255.51</td>\n",
       "      <td>surf</td>\n",
       "    </tr>\n",
       "    <tr>\n",
       "      <th>23</th>\n",
       "      <td>1007</td>\n",
       "      <td>Oct</td>\n",
       "      <td>254.62</td>\n",
       "      <td>surf</td>\n",
       "    </tr>\n",
       "    <tr>\n",
       "      <th>1603</th>\n",
       "      <td>1447</td>\n",
       "      <td>Dec</td>\n",
       "      <td>253.39</td>\n",
       "      <td>surf</td>\n",
       "    </tr>\n",
       "    <tr>\n",
       "      <th>1363</th>\n",
       "      <td>1374</td>\n",
       "      <td>Aug</td>\n",
       "      <td>250.63</td>\n",
       "      <td>surf</td>\n",
       "    </tr>\n",
       "    <tr>\n",
       "      <th>1001</th>\n",
       "      <td>1268</td>\n",
       "      <td>Jun</td>\n",
       "      <td>250.00</td>\n",
       "      <td>surf</td>\n",
       "    </tr>\n",
       "  </tbody>\n",
       "</table>\n",
       "</div>"
      ],
      "text/plain": [
       "     user_id month_abbr  total_revenue  plan\n",
       "1377    1379        Dec         600.37  surf\n",
       "856     1240        Aug         387.85  surf\n",
       "858     1240        Oct         320.82  surf\n",
       "860     1240        Dec         308.57  surf\n",
       "1014    1272        Dec         294.14  surf\n",
       "997     1267        Dec         282.55  surf\n",
       "1602    1447        Nov         280.54  surf\n",
       "1066    1293        Oct         273.51  surf\n",
       "1002    1268        Jul         260.63  surf\n",
       "734     1201        Nov         260.00  surf\n",
       "1178    1328        Jul         255.51  surf\n",
       "23      1007        Oct         254.62  surf\n",
       "1603    1447        Dec         253.39  surf\n",
       "1363    1374        Aug         250.63  surf\n",
       "1001    1268        Jun         250.00  surf"
      ]
     },
     "metadata": {},
     "output_type": "display_data"
    }
   ],
   "source": [
    "# Select only these columns user_id, month, total_revenue\n",
    "filtered_revenue_by_plan = merged_revenue[['user_id', 'month_abbr', 'total_revenue', 'plan']]\n",
    "\n",
    "# Sort by 'total_revenue' and 'user_id'\n",
    "sorted_revenue = filtered_revenue_by_plan.sort_values(by=['total_revenue', 'plan'],ascending=False)\n",
    "\n",
    "# Display the result\n",
    "display(sorted_revenue.head(15))\n",
    "#print(sorted_revenue.sample(5))"
   ]
  },
  {
   "cell_type": "code",
   "execution_count": 800,
   "id": "43a1c693-0834-472e-aa49-ae50304a864a",
   "metadata": {},
   "outputs": [
    {
     "data": {
      "text/plain": [
       "count    1759.000000\n",
       "mean       66.380722\n",
       "std        46.144077\n",
       "min        20.000000\n",
       "25%        30.000000\n",
       "50%        70.000000\n",
       "75%        70.000000\n",
       "max       600.370000\n",
       "Name: total_revenue, dtype: float64"
      ]
     },
     "execution_count": 800,
     "metadata": {},
     "output_type": "execute_result"
    }
   ],
   "source": [
    "merged_revenue['total_revenue'].describe()"
   ]
  },
  {
   "cell_type": "markdown",
   "id": "0e6d8af9-2497-4f4e-9fc8-58c7cb8ed856",
   "metadata": {},
   "source": [
    " <h2 style=\"color: red;\">Test hypothesis on revenue for Surf vs Ultimate:</h2>"
   ]
  },
  {
   "cell_type": "code",
   "execution_count": 802,
   "id": "340e50e2-09e1-4212-b8de-3dccc1250a42",
   "metadata": {},
   "outputs": [],
   "source": [
    "# Separate the revenue data by plan\n",
    "surf_revenue = merged_revenue[merged_revenue['plan'] == 'surf']['total_revenue']\n",
    "ultimate_revenue = merged_revenue[merged_revenue['plan'] == 'ultimate']['total_revenue']"
   ]
  },
  {
   "cell_type": "code",
   "execution_count": 803,
   "id": "2ec4a7a8-9e57-45c9-bfa6-9d1ef8fa0db3",
   "metadata": {},
   "outputs": [
    {
     "data": {
      "text/html": [
       "<div style='color: hotpink;'><b>Null Hypothesis (H₀):  'The average revenue, from users of the Surf and Ultimate calling plans. is the same.'</b></div>"
      ],
      "text/plain": [
       "<IPython.core.display.HTML object>"
      ]
     },
     "metadata": {},
     "output_type": "display_data"
    }
   ],
   "source": [
    "show_html_output(\"Null Hypothesis (H₀):  'The average revenue, from users of the Surf and Ultimate calling plans. is the same.'\")"
   ]
  },
  {
   "cell_type": "code",
   "execution_count": 804,
   "id": "067791d8-71cf-4222-8205-ae6a69e1637f",
   "metadata": {},
   "outputs": [
    {
     "data": {
      "text/html": [
       "<div style='color: hotpink;'><b>Alternative Hypothesis (H₀): 'The average revenue from users of the Ultimate and Surf calling plans is different.'</b></div>"
      ],
      "text/plain": [
       "<IPython.core.display.HTML object>"
      ]
     },
     "metadata": {},
     "output_type": "display_data"
    }
   ],
   "source": [
    "show_html_output(\"Alternative Hypothesis (H₀): 'The average revenue from users of the Ultimate and Surf calling plans is different.'\")"
   ]
  },
  {
   "cell_type": "code",
   "execution_count": 805,
   "id": "5a3010f7-de3b-45ef-af4a-506481ce9ed5",
   "metadata": {},
   "outputs": [],
   "source": [
    "# 0.05 is the standard alpha\n",
    "alpha = 0.05"
   ]
  },
  {
   "cell_type": "code",
   "execution_count": 806,
   "id": "07da195a-7808-4a86-8dcb-c2a37a6722f6",
   "metadata": {},
   "outputs": [],
   "source": [
    "# test the hypothesis that the means of the two independent populations are equal\n",
    "results = st.ttest_ind(surf_revenue, ultimate_revenue, equal_var=False)"
   ]
  },
  {
   "cell_type": "code",
   "execution_count": 807,
   "id": "366d8958-8865-41e8-aca3-f46ca61a19cc",
   "metadata": {},
   "outputs": [
    {
     "name": "stdout",
     "output_type": "stream",
     "text": [
      "p-value: 4.0737556022746826e-08\n"
     ]
    }
   ],
   "source": [
    "# print the p-value\n",
    "print('p-value:', results.pvalue)"
   ]
  },
  {
   "cell_type": "code",
   "execution_count": 808,
   "id": "a8c29b2b-3c9f-4e5c-ac46-9fba52b0cbe3",
   "metadata": {},
   "outputs": [
    {
     "data": {
      "text/html": [
       "<div style='color: hotpink;'><b>We reject the null hypothesis.</b></div>"
      ],
      "text/plain": [
       "<IPython.core.display.HTML object>"
      ]
     },
     "metadata": {},
     "output_type": "display_data"
    }
   ],
   "source": [
    "#Compare the pvalue to alpha\n",
    "if results.pvalue <= alpha:\n",
    "    show_html_output(\"We reject the null hypothesis.\")\n",
    "else:\n",
    "    show_html_output(\"We can't reject the null hypothesis.\")"
   ]
  },
  {
   "cell_type": "markdown",
   "id": "246587d7-b8a9-4bfa-8a99-e62a9aa617eb",
   "metadata": {},
   "source": [
    "<div class=\"alert alert-info\"><font color='hotpink'>\n",
    "<b>To Test the hypothesis on revenue for Surf vs Ultimate plans:</b>\n",
    "<br>\n",
    "<br>\n",
    "- &nbsp;&nbsp;&nbsp;&nbsp;I imported stats, import scipy.stats as st , placing that up above at the top of the project.\n",
    "<br>\n",
    "- &nbsp;&nbsp;&nbsp;&nbsp;I created two variables. One for the total revenue of the Surf plan, and one for the total revenue of the Ultimate plan.\n",
    "<br>\n",
    "- &nbsp;&nbsp;&nbsp;&nbsp;I ran st.ttest_ind, because I wanted to compare two datasets(the total revenue for the Surf plan, and the total revenue for the Ultimate plan).\n",
    "<br>\n",
    "<br>\n",
    "<br>\n",
    "<b>Null Hypothesis (H₀): \"The average revenue, from users of the Ultimate and Surf calling plans, is the same.\"</b>\n",
    "<br>\n",
    "<br>\n",
    " <br>\n",
    "<b>Alternative Hypothesis (H₀): \"The average revenue from users of the Ultimate and Surf calling plans is different.\"</b>\n",
    "<br>\n",
    "<br>\n",
    "<br>\n",
    "<b>Reject hypothesis?:</b>\n",
    "<br>\n",
    "<br>\n",
    "- &nbsp;&nbsp;&nbsp;&nbsp;Because of the e-08, at the end of the p-value, the decimal moves over, to the left, 8 places, making this p-value a tiny number.\n",
    "<br>\n",
    "<br>\n",
    "<b>Decision rule : </b>\n",
    "<br>\n",
    "- &nbsp;&nbsp;&nbsp;&nbsp;If p-value < α, reject the null hypothesis.\n",
    "<br>\n",
    "- &nbsp;&nbsp;&nbsp;&nbsp;If p-value >= α, fail to reject the null hypothesis.\n",
    "<br>\n",
    "<br>\n",
    "- &nbsp;&nbsp;&nbsp;&nbsp;Since the p-value is < a , which is .05,then we REJECT THE NULL HYPOTHESIS.  This means that the revenue generated, from the two calling plans, \n",
    "<br>\n",
    "&nbsp;&nbsp;&nbsp;&nbsp;&nbsp;&nbsp;&nbsp;is NOT the same.\n"
   ]
  },
  {
   "cell_type": "markdown",
   "id": "1c477128-4899-448a-ac86-ecbeeabf7fdc",
   "metadata": {},
   "source": [
    " <h2 style=\"color: red;\">Test hypothesis on NY-NJ vs non NY-NJ average revenue:</h2>"
   ]
  },
  {
   "cell_type": "code",
   "execution_count": 811,
   "id": "3f82df54-fee0-421e-909d-8cf3cebc7898",
   "metadata": {},
   "outputs": [
    {
     "name": "stdout",
     "output_type": "stream",
     "text": [
      "0    5.833333\n",
      "1    1.666667\n",
      "2    1.666667\n",
      "Name: avg_revenue, dtype: float64\n"
     ]
    }
   ],
   "source": [
    "#Get the average revenue\n",
    "# Calculate average revenue per user. Divide by 12 , for how many months in the year 2018.\n",
    "merged_revenue['avg_revenue'] = merged_revenue['total_revenue'] / 12\n",
    "print(merged_revenue['avg_revenue'].head(3))"
   ]
  },
  {
   "cell_type": "code",
   "execution_count": 812,
   "id": "d91c4547-6724-4778-8ce9-2b22867889c0",
   "metadata": {},
   "outputs": [
    {
     "data": {
      "text/html": [
       "<div>\n",
       "<style scoped>\n",
       "    .dataframe tbody tr th:only-of-type {\n",
       "        vertical-align: middle;\n",
       "    }\n",
       "\n",
       "    .dataframe tbody tr th {\n",
       "        vertical-align: top;\n",
       "    }\n",
       "\n",
       "    .dataframe thead th {\n",
       "        text-align: right;\n",
       "    }\n",
       "</style>\n",
       "<table border=\"1\" class=\"dataframe\">\n",
       "  <thead>\n",
       "    <tr style=\"text-align: right;\">\n",
       "      <th></th>\n",
       "      <th>user_id</th>\n",
       "      <th>month</th>\n",
       "      <th>call_count</th>\n",
       "      <th>duration</th>\n",
       "      <th>Total_messages</th>\n",
       "      <th>gb_used</th>\n",
       "      <th>plan</th>\n",
       "      <th>is_ny_nj</th>\n",
       "      <th>msg_included</th>\n",
       "      <th>gb_included</th>\n",
       "      <th>...</th>\n",
       "      <th>total_revenue</th>\n",
       "      <th>month_abbr</th>\n",
       "      <th>surf_total_revenue</th>\n",
       "      <th>ultimate_total_revenue</th>\n",
       "      <th>rev_extra_min</th>\n",
       "      <th>rev_extra_msg</th>\n",
       "      <th>rev_extra_gb</th>\n",
       "      <th>avg_revenue</th>\n",
       "      <th>ny_nj_avg_rev</th>\n",
       "      <th>non_ny_nj_avg_rev</th>\n",
       "    </tr>\n",
       "  </thead>\n",
       "  <tbody>\n",
       "    <tr>\n",
       "      <th>936</th>\n",
       "      <td>1256</td>\n",
       "      <td>10</td>\n",
       "      <td>80</td>\n",
       "      <td>531</td>\n",
       "      <td>20</td>\n",
       "      <td>11.0</td>\n",
       "      <td>surf</td>\n",
       "      <td>False</td>\n",
       "      <td>50</td>\n",
       "      <td>15</td>\n",
       "      <td>...</td>\n",
       "      <td>20.93</td>\n",
       "      <td>Oct</td>\n",
       "      <td>20.93</td>\n",
       "      <td>0.0</td>\n",
       "      <td>0.93</td>\n",
       "      <td>0.00</td>\n",
       "      <td>0.0</td>\n",
       "      <td>1.744167</td>\n",
       "      <td>NaN</td>\n",
       "      <td>1.744167</td>\n",
       "    </tr>\n",
       "    <tr>\n",
       "      <th>1643</th>\n",
       "      <td>1460</td>\n",
       "      <td>10</td>\n",
       "      <td>53</td>\n",
       "      <td>410</td>\n",
       "      <td>40</td>\n",
       "      <td>30.0</td>\n",
       "      <td>ultimate</td>\n",
       "      <td>False</td>\n",
       "      <td>1000</td>\n",
       "      <td>30</td>\n",
       "      <td>...</td>\n",
       "      <td>70.00</td>\n",
       "      <td>Oct</td>\n",
       "      <td>0.00</td>\n",
       "      <td>70.0</td>\n",
       "      <td>0.00</td>\n",
       "      <td>0.00</td>\n",
       "      <td>0.0</td>\n",
       "      <td>5.833333</td>\n",
       "      <td>NaN</td>\n",
       "      <td>5.833333</td>\n",
       "    </tr>\n",
       "    <tr>\n",
       "      <th>460</th>\n",
       "      <td>1130</td>\n",
       "      <td>12</td>\n",
       "      <td>71</td>\n",
       "      <td>461</td>\n",
       "      <td>104</td>\n",
       "      <td>18.0</td>\n",
       "      <td>surf</td>\n",
       "      <td>True</td>\n",
       "      <td>50</td>\n",
       "      <td>15</td>\n",
       "      <td>...</td>\n",
       "      <td>51.62</td>\n",
       "      <td>Dec</td>\n",
       "      <td>51.62</td>\n",
       "      <td>0.0</td>\n",
       "      <td>0.00</td>\n",
       "      <td>1.62</td>\n",
       "      <td>30.0</td>\n",
       "      <td>4.301667</td>\n",
       "      <td>4.301667</td>\n",
       "      <td>NaN</td>\n",
       "    </tr>\n",
       "    <tr>\n",
       "      <th>1511</th>\n",
       "      <td>1419</td>\n",
       "      <td>12</td>\n",
       "      <td>117</td>\n",
       "      <td>835</td>\n",
       "      <td>144</td>\n",
       "      <td>20.0</td>\n",
       "      <td>surf</td>\n",
       "      <td>False</td>\n",
       "      <td>50</td>\n",
       "      <td>15</td>\n",
       "      <td>...</td>\n",
       "      <td>82.87</td>\n",
       "      <td>Dec</td>\n",
       "      <td>82.87</td>\n",
       "      <td>0.0</td>\n",
       "      <td>10.05</td>\n",
       "      <td>2.82</td>\n",
       "      <td>50.0</td>\n",
       "      <td>6.905833</td>\n",
       "      <td>NaN</td>\n",
       "      <td>6.905833</td>\n",
       "    </tr>\n",
       "    <tr>\n",
       "      <th>1508</th>\n",
       "      <td>1417</td>\n",
       "      <td>11</td>\n",
       "      <td>100</td>\n",
       "      <td>788</td>\n",
       "      <td>5</td>\n",
       "      <td>22.0</td>\n",
       "      <td>ultimate</td>\n",
       "      <td>False</td>\n",
       "      <td>1000</td>\n",
       "      <td>30</td>\n",
       "      <td>...</td>\n",
       "      <td>70.00</td>\n",
       "      <td>Nov</td>\n",
       "      <td>0.00</td>\n",
       "      <td>70.0</td>\n",
       "      <td>0.00</td>\n",
       "      <td>0.00</td>\n",
       "      <td>0.0</td>\n",
       "      <td>5.833333</td>\n",
       "      <td>NaN</td>\n",
       "      <td>5.833333</td>\n",
       "    </tr>\n",
       "    <tr>\n",
       "      <th>1129</th>\n",
       "      <td>1314</td>\n",
       "      <td>11</td>\n",
       "      <td>63</td>\n",
       "      <td>432</td>\n",
       "      <td>19</td>\n",
       "      <td>17.0</td>\n",
       "      <td>ultimate</td>\n",
       "      <td>False</td>\n",
       "      <td>1000</td>\n",
       "      <td>30</td>\n",
       "      <td>...</td>\n",
       "      <td>70.00</td>\n",
       "      <td>Nov</td>\n",
       "      <td>0.00</td>\n",
       "      <td>70.0</td>\n",
       "      <td>0.00</td>\n",
       "      <td>0.00</td>\n",
       "      <td>0.0</td>\n",
       "      <td>5.833333</td>\n",
       "      <td>NaN</td>\n",
       "      <td>5.833333</td>\n",
       "    </tr>\n",
       "    <tr>\n",
       "      <th>1546</th>\n",
       "      <td>1434</td>\n",
       "      <td>3</td>\n",
       "      <td>52</td>\n",
       "      <td>350</td>\n",
       "      <td>45</td>\n",
       "      <td>17.0</td>\n",
       "      <td>surf</td>\n",
       "      <td>True</td>\n",
       "      <td>50</td>\n",
       "      <td>15</td>\n",
       "      <td>...</td>\n",
       "      <td>40.00</td>\n",
       "      <td>Mar</td>\n",
       "      <td>40.00</td>\n",
       "      <td>0.0</td>\n",
       "      <td>0.00</td>\n",
       "      <td>0.00</td>\n",
       "      <td>20.0</td>\n",
       "      <td>3.333333</td>\n",
       "      <td>3.333333</td>\n",
       "      <td>NaN</td>\n",
       "    </tr>\n",
       "    <tr>\n",
       "      <th>1162</th>\n",
       "      <td>1324</td>\n",
       "      <td>11</td>\n",
       "      <td>171</td>\n",
       "      <td>1304</td>\n",
       "      <td>116</td>\n",
       "      <td>19.0</td>\n",
       "      <td>surf</td>\n",
       "      <td>False</td>\n",
       "      <td>50</td>\n",
       "      <td>15</td>\n",
       "      <td>...</td>\n",
       "      <td>86.10</td>\n",
       "      <td>Nov</td>\n",
       "      <td>86.10</td>\n",
       "      <td>0.0</td>\n",
       "      <td>24.12</td>\n",
       "      <td>1.98</td>\n",
       "      <td>40.0</td>\n",
       "      <td>7.175000</td>\n",
       "      <td>NaN</td>\n",
       "      <td>7.175000</td>\n",
       "    </tr>\n",
       "    <tr>\n",
       "      <th>531</th>\n",
       "      <td>1146</td>\n",
       "      <td>11</td>\n",
       "      <td>61</td>\n",
       "      <td>448</td>\n",
       "      <td>86</td>\n",
       "      <td>20.0</td>\n",
       "      <td>surf</td>\n",
       "      <td>True</td>\n",
       "      <td>50</td>\n",
       "      <td>15</td>\n",
       "      <td>...</td>\n",
       "      <td>71.08</td>\n",
       "      <td>Nov</td>\n",
       "      <td>71.08</td>\n",
       "      <td>0.0</td>\n",
       "      <td>0.00</td>\n",
       "      <td>1.08</td>\n",
       "      <td>50.0</td>\n",
       "      <td>5.923333</td>\n",
       "      <td>5.923333</td>\n",
       "      <td>NaN</td>\n",
       "    </tr>\n",
       "    <tr>\n",
       "      <th>228</th>\n",
       "      <td>1067</td>\n",
       "      <td>10</td>\n",
       "      <td>56</td>\n",
       "      <td>470</td>\n",
       "      <td>29</td>\n",
       "      <td>21.0</td>\n",
       "      <td>surf</td>\n",
       "      <td>False</td>\n",
       "      <td>50</td>\n",
       "      <td>15</td>\n",
       "      <td>...</td>\n",
       "      <td>80.00</td>\n",
       "      <td>Oct</td>\n",
       "      <td>80.00</td>\n",
       "      <td>0.0</td>\n",
       "      <td>0.00</td>\n",
       "      <td>0.00</td>\n",
       "      <td>60.0</td>\n",
       "      <td>6.666667</td>\n",
       "      <td>NaN</td>\n",
       "      <td>6.666667</td>\n",
       "    </tr>\n",
       "  </tbody>\n",
       "</table>\n",
       "<p>10 rows × 25 columns</p>\n",
       "</div>"
      ],
      "text/plain": [
       "     user_id  month  call_count  duration  Total_messages  gb_used      plan  \\\n",
       "936     1256     10          80       531              20     11.0      surf   \n",
       "1643    1460     10          53       410              40     30.0  ultimate   \n",
       "460     1130     12          71       461             104     18.0      surf   \n",
       "1511    1419     12         117       835             144     20.0      surf   \n",
       "1508    1417     11         100       788               5     22.0  ultimate   \n",
       "1129    1314     11          63       432              19     17.0  ultimate   \n",
       "1546    1434      3          52       350              45     17.0      surf   \n",
       "1162    1324     11         171      1304             116     19.0      surf   \n",
       "531     1146     11          61       448              86     20.0      surf   \n",
       "228     1067     10          56       470              29     21.0      surf   \n",
       "\n",
       "      is_ny_nj  msg_included  gb_included  ...  total_revenue  month_abbr  \\\n",
       "936      False            50           15  ...          20.93         Oct   \n",
       "1643     False          1000           30  ...          70.00         Oct   \n",
       "460       True            50           15  ...          51.62         Dec   \n",
       "1511     False            50           15  ...          82.87         Dec   \n",
       "1508     False          1000           30  ...          70.00         Nov   \n",
       "1129     False          1000           30  ...          70.00         Nov   \n",
       "1546      True            50           15  ...          40.00         Mar   \n",
       "1162     False            50           15  ...          86.10         Nov   \n",
       "531       True            50           15  ...          71.08         Nov   \n",
       "228      False            50           15  ...          80.00         Oct   \n",
       "\n",
       "      surf_total_revenue  ultimate_total_revenue  rev_extra_min  \\\n",
       "936                20.93                     0.0           0.93   \n",
       "1643                0.00                    70.0           0.00   \n",
       "460                51.62                     0.0           0.00   \n",
       "1511               82.87                     0.0          10.05   \n",
       "1508                0.00                    70.0           0.00   \n",
       "1129                0.00                    70.0           0.00   \n",
       "1546               40.00                     0.0           0.00   \n",
       "1162               86.10                     0.0          24.12   \n",
       "531                71.08                     0.0           0.00   \n",
       "228                80.00                     0.0           0.00   \n",
       "\n",
       "      rev_extra_msg rev_extra_gb  avg_revenue  ny_nj_avg_rev  \\\n",
       "936            0.00          0.0     1.744167            NaN   \n",
       "1643           0.00          0.0     5.833333            NaN   \n",
       "460            1.62         30.0     4.301667       4.301667   \n",
       "1511           2.82         50.0     6.905833            NaN   \n",
       "1508           0.00          0.0     5.833333            NaN   \n",
       "1129           0.00          0.0     5.833333            NaN   \n",
       "1546           0.00         20.0     3.333333       3.333333   \n",
       "1162           1.98         40.0     7.175000            NaN   \n",
       "531            1.08         50.0     5.923333       5.923333   \n",
       "228            0.00         60.0     6.666667            NaN   \n",
       "\n",
       "      non_ny_nj_avg_rev  \n",
       "936            1.744167  \n",
       "1643           5.833333  \n",
       "460                 NaN  \n",
       "1511           6.905833  \n",
       "1508           5.833333  \n",
       "1129           5.833333  \n",
       "1546                NaN  \n",
       "1162           7.175000  \n",
       "531                 NaN  \n",
       "228            6.666667  \n",
       "\n",
       "[10 rows x 25 columns]"
      ]
     },
     "metadata": {},
     "output_type": "display_data"
    },
    {
     "data": {
      "text/plain": [
       "Index(['user_id', 'month', 'call_count', 'duration', 'Total_messages',\n",
       "       'gb_used', 'plan', 'is_ny_nj', 'msg_included', 'gb_included',\n",
       "       'min_included', 'monthly_fee', 'fee_per_gb', 'fee_per_msg',\n",
       "       'fee_per_min', 'total_revenue', 'month_abbr', 'surf_total_revenue',\n",
       "       'ultimate_total_revenue', 'rev_extra_min', 'rev_extra_msg',\n",
       "       'rev_extra_gb', 'avg_revenue', 'ny_nj_avg_rev', 'non_ny_nj_avg_rev'],\n",
       "      dtype='object')"
      ]
     },
     "execution_count": 812,
     "metadata": {},
     "output_type": "execute_result"
    }
   ],
   "source": [
    "# Separate the revenue data by NY-NJ vs non NY-NJ\n",
    "\n",
    "# Create the new column 'ny_nj_avg_rev' containing average revenue for NY-NJ users\n",
    "merged_revenue['ny_nj_avg_rev'] = np.where(merged_revenue['is_ny_nj'], merged_revenue['avg_revenue'], np.nan)\n",
    "\n",
    "# Create the new column 'non_ny_nj_avg_rev' containing average revenue for non-NY-NJ users\n",
    "merged_revenue['non_ny_nj_avg_rev'] = np.where(~merged_revenue['is_ny_nj'], merged_revenue['avg_revenue'], np.nan)\n",
    "\n",
    "display(merged_revenue.sample(10))\n",
    "merged_revenue.columns"
   ]
  },
  {
   "cell_type": "code",
   "execution_count": 813,
   "id": "8dde789c-2ee9-4237-8ed7-27b857210bbe",
   "metadata": {},
   "outputs": [],
   "source": [
    "# Extract the data needed for the t-test, creating a Series.\n",
    "ny_nj_avg_rev = merged_revenue['ny_nj_avg_rev'].dropna()\n",
    "non_ny_nj_avg_rev = merged_revenue['non_ny_nj_avg_rev'].dropna()"
   ]
  },
  {
   "cell_type": "code",
   "execution_count": 814,
   "id": "1a47cbf9-bd4a-4c46-aff5-7e9c9cac034b",
   "metadata": {},
   "outputs": [
    {
     "data": {
      "text/html": [
       "<div style='color: hotpink;'><b>Null Hypothesis (H₀):  'The average revenue, from NY-NJ users and non NY-NJ users is the same.'</b></div>"
      ],
      "text/plain": [
       "<IPython.core.display.HTML object>"
      ]
     },
     "metadata": {},
     "output_type": "display_data"
    }
   ],
   "source": [
    "show_html_output(\"Null Hypothesis (H₀):  'The average revenue, from NY-NJ users and non NY-NJ users is the same.'\")"
   ]
  },
  {
   "cell_type": "code",
   "execution_count": 815,
   "id": "bf40d80c-7b68-402d-b4f2-aa788d76b862",
   "metadata": {},
   "outputs": [
    {
     "data": {
      "text/html": [
       "<div style='color: hotpink;'><b>Alternative Hypothesis (H₀): 'The average revenue, from NY-NJ users and  plans is different.'</b></div>"
      ],
      "text/plain": [
       "<IPython.core.display.HTML object>"
      ]
     },
     "metadata": {},
     "output_type": "display_data"
    }
   ],
   "source": [
    "show_html_output(\"Alternative Hypothesis (H₀): 'The average revenue, from NY-NJ users and  plans is different.'\")"
   ]
  },
  {
   "cell_type": "code",
   "execution_count": 816,
   "id": "cb364f5f-0ffd-4ba7-b3f2-847070b48276",
   "metadata": {},
   "outputs": [],
   "source": [
    "# The standard alpha\n",
    "alpha = 0.05"
   ]
  },
  {
   "cell_type": "code",
   "execution_count": 817,
   "id": "865a4c01-9ea2-4a85-a8e0-398d31e33de1",
   "metadata": {},
   "outputs": [
    {
     "name": "stdout",
     "output_type": "stream",
     "text": [
      "p-value: 0.4513436190973552\n"
     ]
    }
   ],
   "source": [
    "# test the hypothesis that the means of the two independent populations are equal\n",
    "# Test the hypothesis that the means of the two independent populations are equal\n",
    "results2 = st.ttest_ind(ny_nj_avg_rev, non_ny_nj_avg_rev, equal_var=False)\n",
    "\n",
    "# print the p-value\n",
    "print('p-value:', results2.pvalue)"
   ]
  },
  {
   "cell_type": "code",
   "execution_count": 818,
   "id": "d763ed16-cb68-4b0b-8bc6-3ccd82098a07",
   "metadata": {},
   "outputs": [
    {
     "data": {
      "text/html": [
       "<div style='color: hotpink;'><b>We reject the null hypothesis.</b></div>"
      ],
      "text/plain": [
       "<IPython.core.display.HTML object>"
      ]
     },
     "metadata": {},
     "output_type": "display_data"
    }
   ],
   "source": [
    "#Compare the pvalue to alpha\n",
    "if results.pvalue <= alpha:\n",
    "    show_html_output(\"We reject the null hypothesis.\")\n",
    "else:\n",
    "    show_html_output(\"We can't reject the null hypothesis.\")"
   ]
  },
  {
   "cell_type": "markdown",
   "id": "d96d1a2d-c378-41a6-a5c5-277354b69c3e",
   "metadata": {},
   "source": [
    "<div class=\"alert alert-info\"><font color='hotpink'>\n",
    "<b>To Test the hypothesis on NY-NJ vs non NY-NJ average revenue:</b>\n",
    "<br>\n",
    "<br>\n",
    "- &nbsp;&nbsp;&nbsp;&nbsp; I created a new column, 'avg_revenue', in the merged dataframe that was the average revenue, per user, by taking the total_revenue, then dividing by 12.\n",
    "<br>\n",
    "- &nbsp;&nbsp;&nbsp;&nbsp;I used where, to create two new columns in the merged_revenue dataframe. One for the average revenue of the NY-NJ users, and one for the average revenue of the non NY-NJ users. np.where checked to see if the boolean column, is_ny_nj , was True or False.\n",
    "<br>\n",
    "- &nbsp;&nbsp;&nbsp;&nbsp;I then used dropna to drop rows with Nan, because those Nan rows, and created a Series for each of those two datasets. \n",
    "<br>                                                                                     \n",
    "- &nbsp;&nbsp;&nbsp;&nbsp;I ran st.ttest_ind, because I wanted to compare two datasets(the total revenue for the NY-NJ users, and the total revenue for the non NY-NJ users).\n",
    "<br>\n",
    "<br>\n",
    "<br>\n",
    "<b>Null Hypothesis (H₀): \"The average revenue, of users from the NY-NJ area, is the same as that from users NOT the from the  NY-NJ area.\"</b>\n",
    "<br>\n",
    "<br>\n",
    " <br>\n",
    "<b>Alternative Hypothesis (H₀): \"The average revenue, of users from the NY-NJ area, is different than that of users NOT from the NY-NJ.\"</b>\n",
    "<br>\n",
    "<br>\n",
    "<br>\n",
    "<b>Reject hypothesis?:</b>\n",
    "<br>\n",
    "<br>\n",
    "<b>Decision rule : </b>\n",
    "<br>\n",
    "- &nbsp;&nbsp;&nbsp;&nbsp;If p-value < α, reject the null hypothesis.\n",
    "<br>\n",
    "<br>\n",
    "- &nbsp;&nbsp;&nbsp;&nbsp;If p-value >= α, fail to reject the null hypothesis.\n",
    "<br>\n",
    "<br>\n",
    "- &nbsp;&nbsp;&nbsp;&nbsp;Since the p-value is < a , which is .05,then we REJECT THE NULL HYPOTHESIS.  This means that the revenue generated, from the NY-NJ users and the \n",
    "&nbsp;&nbsp;&nbsp;&nbsp;&nbsp;&nbsp;NON NY-NJ users, is NOT the same.\n",
    "</font color></div>\n"
   ]
  },
  {
   "cell_type": "code",
   "execution_count": 820,
   "id": "b57622bd-7039-426d-8dca-3d296ba9d891",
   "metadata": {},
   "outputs": [
    {
     "data": {
      "text/html": [
       "<div>\n",
       "<style scoped>\n",
       "    .dataframe tbody tr th:only-of-type {\n",
       "        vertical-align: middle;\n",
       "    }\n",
       "\n",
       "    .dataframe tbody tr th {\n",
       "        vertical-align: top;\n",
       "    }\n",
       "\n",
       "    .dataframe thead th {\n",
       "        text-align: right;\n",
       "    }\n",
       "</style>\n",
       "<table border=\"1\" class=\"dataframe\">\n",
       "  <thead>\n",
       "    <tr style=\"text-align: right;\">\n",
       "      <th></th>\n",
       "      <th>user_id</th>\n",
       "      <th>month</th>\n",
       "      <th>call_count</th>\n",
       "      <th>duration</th>\n",
       "      <th>Total_messages</th>\n",
       "      <th>gb_used</th>\n",
       "      <th>plan</th>\n",
       "      <th>is_ny_nj</th>\n",
       "      <th>msg_included</th>\n",
       "      <th>gb_included</th>\n",
       "      <th>...</th>\n",
       "      <th>month_abbr</th>\n",
       "      <th>surf_total_revenue</th>\n",
       "      <th>ultimate_total_revenue</th>\n",
       "      <th>rev_extra_min</th>\n",
       "      <th>rev_extra_msg</th>\n",
       "      <th>rev_extra_gb</th>\n",
       "      <th>avg_revenue</th>\n",
       "      <th>ny_nj_avg_rev</th>\n",
       "      <th>non_ny_nj_avg_rev</th>\n",
       "      <th>location</th>\n",
       "    </tr>\n",
       "  </thead>\n",
       "  <tbody>\n",
       "    <tr>\n",
       "      <th>502</th>\n",
       "      <td>1141</td>\n",
       "      <td>6</td>\n",
       "      <td>18</td>\n",
       "      <td>136</td>\n",
       "      <td>3</td>\n",
       "      <td>2.0</td>\n",
       "      <td>surf</td>\n",
       "      <td>True</td>\n",
       "      <td>50</td>\n",
       "      <td>15</td>\n",
       "      <td>...</td>\n",
       "      <td>Jun</td>\n",
       "      <td>20.00</td>\n",
       "      <td>0.0</td>\n",
       "      <td>0.00</td>\n",
       "      <td>0.00</td>\n",
       "      <td>0.0</td>\n",
       "      <td>1.666667</td>\n",
       "      <td>1.666667</td>\n",
       "      <td>NaN</td>\n",
       "      <td>NY-NJ</td>\n",
       "    </tr>\n",
       "    <tr>\n",
       "      <th>75</th>\n",
       "      <td>1029</td>\n",
       "      <td>8</td>\n",
       "      <td>7</td>\n",
       "      <td>43</td>\n",
       "      <td>2</td>\n",
       "      <td>1.0</td>\n",
       "      <td>surf</td>\n",
       "      <td>False</td>\n",
       "      <td>50</td>\n",
       "      <td>15</td>\n",
       "      <td>...</td>\n",
       "      <td>Aug</td>\n",
       "      <td>20.00</td>\n",
       "      <td>0.0</td>\n",
       "      <td>0.00</td>\n",
       "      <td>0.00</td>\n",
       "      <td>0.0</td>\n",
       "      <td>1.666667</td>\n",
       "      <td>NaN</td>\n",
       "      <td>1.666667</td>\n",
       "      <td>Non-NY-NJ</td>\n",
       "    </tr>\n",
       "    <tr>\n",
       "      <th>403</th>\n",
       "      <td>1116</td>\n",
       "      <td>8</td>\n",
       "      <td>49</td>\n",
       "      <td>366</td>\n",
       "      <td>19</td>\n",
       "      <td>16.0</td>\n",
       "      <td>surf</td>\n",
       "      <td>False</td>\n",
       "      <td>50</td>\n",
       "      <td>15</td>\n",
       "      <td>...</td>\n",
       "      <td>Aug</td>\n",
       "      <td>30.00</td>\n",
       "      <td>0.0</td>\n",
       "      <td>0.00</td>\n",
       "      <td>0.00</td>\n",
       "      <td>10.0</td>\n",
       "      <td>2.500000</td>\n",
       "      <td>NaN</td>\n",
       "      <td>2.500000</td>\n",
       "      <td>Non-NY-NJ</td>\n",
       "    </tr>\n",
       "    <tr>\n",
       "      <th>205</th>\n",
       "      <td>1062</td>\n",
       "      <td>12</td>\n",
       "      <td>39</td>\n",
       "      <td>260</td>\n",
       "      <td>9</td>\n",
       "      <td>15.0</td>\n",
       "      <td>ultimate</td>\n",
       "      <td>False</td>\n",
       "      <td>1000</td>\n",
       "      <td>30</td>\n",
       "      <td>...</td>\n",
       "      <td>Dec</td>\n",
       "      <td>0.00</td>\n",
       "      <td>70.0</td>\n",
       "      <td>0.00</td>\n",
       "      <td>0.00</td>\n",
       "      <td>0.0</td>\n",
       "      <td>5.833333</td>\n",
       "      <td>NaN</td>\n",
       "      <td>5.833333</td>\n",
       "      <td>Non-NY-NJ</td>\n",
       "    </tr>\n",
       "    <tr>\n",
       "      <th>1019</th>\n",
       "      <td>1276</td>\n",
       "      <td>9</td>\n",
       "      <td>22</td>\n",
       "      <td>161</td>\n",
       "      <td>10</td>\n",
       "      <td>10.0</td>\n",
       "      <td>surf</td>\n",
       "      <td>False</td>\n",
       "      <td>50</td>\n",
       "      <td>15</td>\n",
       "      <td>...</td>\n",
       "      <td>Sep</td>\n",
       "      <td>20.00</td>\n",
       "      <td>0.0</td>\n",
       "      <td>0.00</td>\n",
       "      <td>0.00</td>\n",
       "      <td>0.0</td>\n",
       "      <td>1.666667</td>\n",
       "      <td>NaN</td>\n",
       "      <td>1.666667</td>\n",
       "      <td>Non-NY-NJ</td>\n",
       "    </tr>\n",
       "    <tr>\n",
       "      <th>876</th>\n",
       "      <td>1245</td>\n",
       "      <td>10</td>\n",
       "      <td>40</td>\n",
       "      <td>340</td>\n",
       "      <td>10</td>\n",
       "      <td>10.0</td>\n",
       "      <td>surf</td>\n",
       "      <td>True</td>\n",
       "      <td>50</td>\n",
       "      <td>15</td>\n",
       "      <td>...</td>\n",
       "      <td>Oct</td>\n",
       "      <td>20.00</td>\n",
       "      <td>0.0</td>\n",
       "      <td>0.00</td>\n",
       "      <td>0.00</td>\n",
       "      <td>0.0</td>\n",
       "      <td>1.666667</td>\n",
       "      <td>1.666667</td>\n",
       "      <td>NaN</td>\n",
       "      <td>NY-NJ</td>\n",
       "    </tr>\n",
       "    <tr>\n",
       "      <th>1716</th>\n",
       "      <td>1480</td>\n",
       "      <td>12</td>\n",
       "      <td>70</td>\n",
       "      <td>541</td>\n",
       "      <td>51</td>\n",
       "      <td>9.0</td>\n",
       "      <td>surf</td>\n",
       "      <td>False</td>\n",
       "      <td>50</td>\n",
       "      <td>15</td>\n",
       "      <td>...</td>\n",
       "      <td>Dec</td>\n",
       "      <td>21.26</td>\n",
       "      <td>0.0</td>\n",
       "      <td>1.23</td>\n",
       "      <td>0.03</td>\n",
       "      <td>0.0</td>\n",
       "      <td>1.771667</td>\n",
       "      <td>NaN</td>\n",
       "      <td>1.771667</td>\n",
       "      <td>Non-NY-NJ</td>\n",
       "    </tr>\n",
       "    <tr>\n",
       "      <th>929</th>\n",
       "      <td>1254</td>\n",
       "      <td>12</td>\n",
       "      <td>59</td>\n",
       "      <td>437</td>\n",
       "      <td>110</td>\n",
       "      <td>17.0</td>\n",
       "      <td>surf</td>\n",
       "      <td>False</td>\n",
       "      <td>50</td>\n",
       "      <td>15</td>\n",
       "      <td>...</td>\n",
       "      <td>Dec</td>\n",
       "      <td>41.80</td>\n",
       "      <td>0.0</td>\n",
       "      <td>0.00</td>\n",
       "      <td>1.80</td>\n",
       "      <td>20.0</td>\n",
       "      <td>3.483333</td>\n",
       "      <td>NaN</td>\n",
       "      <td>3.483333</td>\n",
       "      <td>Non-NY-NJ</td>\n",
       "    </tr>\n",
       "  </tbody>\n",
       "</table>\n",
       "<p>8 rows × 26 columns</p>\n",
       "</div>"
      ],
      "text/plain": [
       "     user_id  month  call_count  duration  Total_messages  gb_used      plan  \\\n",
       "502     1141      6          18       136               3      2.0      surf   \n",
       "75      1029      8           7        43               2      1.0      surf   \n",
       "403     1116      8          49       366              19     16.0      surf   \n",
       "205     1062     12          39       260               9     15.0  ultimate   \n",
       "1019    1276      9          22       161              10     10.0      surf   \n",
       "876     1245     10          40       340              10     10.0      surf   \n",
       "1716    1480     12          70       541              51      9.0      surf   \n",
       "929     1254     12          59       437             110     17.0      surf   \n",
       "\n",
       "      is_ny_nj  msg_included  gb_included  ...  month_abbr  \\\n",
       "502       True            50           15  ...         Jun   \n",
       "75       False            50           15  ...         Aug   \n",
       "403      False            50           15  ...         Aug   \n",
       "205      False          1000           30  ...         Dec   \n",
       "1019     False            50           15  ...         Sep   \n",
       "876       True            50           15  ...         Oct   \n",
       "1716     False            50           15  ...         Dec   \n",
       "929      False            50           15  ...         Dec   \n",
       "\n",
       "      surf_total_revenue  ultimate_total_revenue  rev_extra_min  \\\n",
       "502                20.00                     0.0           0.00   \n",
       "75                 20.00                     0.0           0.00   \n",
       "403                30.00                     0.0           0.00   \n",
       "205                 0.00                    70.0           0.00   \n",
       "1019               20.00                     0.0           0.00   \n",
       "876                20.00                     0.0           0.00   \n",
       "1716               21.26                     0.0           1.23   \n",
       "929                41.80                     0.0           0.00   \n",
       "\n",
       "      rev_extra_msg  rev_extra_gb avg_revenue  ny_nj_avg_rev  \\\n",
       "502            0.00           0.0    1.666667       1.666667   \n",
       "75             0.00           0.0    1.666667            NaN   \n",
       "403            0.00          10.0    2.500000            NaN   \n",
       "205            0.00           0.0    5.833333            NaN   \n",
       "1019           0.00           0.0    1.666667            NaN   \n",
       "876            0.00           0.0    1.666667       1.666667   \n",
       "1716           0.03           0.0    1.771667            NaN   \n",
       "929            1.80          20.0    3.483333            NaN   \n",
       "\n",
       "      non_ny_nj_avg_rev   location  \n",
       "502                 NaN      NY-NJ  \n",
       "75             1.666667  Non-NY-NJ  \n",
       "403            2.500000  Non-NY-NJ  \n",
       "205            5.833333  Non-NY-NJ  \n",
       "1019           1.666667  Non-NY-NJ  \n",
       "876                 NaN      NY-NJ  \n",
       "1716           1.771667  Non-NY-NJ  \n",
       "929            3.483333  Non-NY-NJ  \n",
       "\n",
       "[8 rows x 26 columns]"
      ]
     },
     "execution_count": 820,
     "metadata": {},
     "output_type": "execute_result"
    }
   ],
   "source": [
    "# Create a categorical column for geographic location\n",
    "merged_revenue['location'] = merged_revenue['is_ny_nj'].apply(\n",
    "    lambda x: 'NY-NJ' if x else 'Non-NY-NJ')\n",
    "merged_revenue.sample(n=8)"
   ]
  },
  {
   "cell_type": "code",
   "execution_count": 821,
   "id": "92439073-42a8-45c4-9dee-c1963ce5bf58",
   "metadata": {},
   "outputs": [
    {
     "data": {
      "text/html": [
       "<div style='color: hotpink;'><b>Total revenue based on geographic location:</b></div>"
      ],
      "text/plain": [
       "<IPython.core.display.HTML object>"
      ]
     },
     "metadata": {},
     "output_type": "display_data"
    }
   ],
   "source": [
    "show_html_output(\"Total revenue based on geographic location:\")"
   ]
  },
  {
   "cell_type": "code",
   "execution_count": 822,
   "id": "784e45cd-f2b6-445a-8877-3029965e9da5",
   "metadata": {},
   "outputs": [
    {
     "data": {
      "image/png": "[encoded data removed]",
      "text/plain": [
       "<Figure size 1200x600 with 1 Axes>"
      ]
     },
     "metadata": {},
     "output_type": "display_data"
    }
   ],
   "source": [
    "# Plotting the data\n",
    "plt.figure(figsize=(12, 6))\n",
    "\n",
    "# Define the order of categories for the x-axis\n",
    "order = ['NY-NJ', 'Non-NY-NJ']\n",
    "\n",
    "# Boxplot, with total revenue for NY-NJ users vs non-NY-NJ users\n",
    "sns.boxplot(data=merged_revenue, x='location', y='total_revenue', order=order)\n",
    "\n",
    "plt.title('Boxplot of Total Revenue for NY-NJ users vs Non-NY-NJ users', size=18)\n",
    "plt.xlabel('Geographic Location', size=16)\n",
    "plt.ylabel('Total Revenue (USD)', size=16)\n",
    "\n",
    "plt.show()"
   ]
  },
  {
   "cell_type": "markdown",
   "id": "833aeb61-0758-4c91-bca8-7007863d0264",
   "metadata": {},
   "source": [
    "<h2 style=\"color: red;\">Conclusion</h2>"
   ]
  },
  {
   "cell_type": "markdown",
   "id": "11301e4f-7604-4be6-b86b-9ad820bbbc0f",
   "metadata": {},
   "source": [
    "<div class=\"alert alert-info\"><font color='hotpink'>\n",
    "<b>Surf or Ultimate?</b>\n",
    "<br>\n",
    "<br>\n",
    "<b>The hypothesis testing proved that the revenue, between the two plans, is NOT the same.</b>\n",
    "<br>\n",
    "<br>\n",
    "- &nbsp;&nbsp;&nbsp;&nbsp;The Surf plan brings in more revenue. This is surprising, because the base price of the Surf plan is less than 1/3 the price of the base price of the Ultimate plan. Regarding the overage fees, for when a user goes over their limit for calls, messages, and internet GB's, the fees for the extra GB's, is by far, the biggest revenue generator.\n",
    "<br>\n",
    "<br>\n",
    "<b>Minutes</b>\n",
    "<br>\n",
    "- &nbsp;&nbsp;&nbsp;&nbsp;For usage of minutes, aside from February, the users of the Surf plan used more minutes, than users of the Ultimate plan, each month. January starts out with low minute usage, for each plan, then each month, for each plan, the minutes go up. So, January has the lowest minutes usage, and December has the highest usage, for each plan. By December, the minutes used, by the users of the Surf plan, are more than double that of the usage by the Ultimate plan.\n",
    "<br>\n",
    "<br>\n",
    "<b>Messages</b>\n",
    "- &nbsp;&nbsp;&nbsp;&nbsp;The users of the Surf plan send more text messages, than the users of the Ultimate plan, for the month of January. After that, the users of the Ultimate plan send more messages than surf, for the remainder of the year. Each plan progressively sends out more and more text messages, as the months go on, with January having the lowest number of text messages, and December having the highest amount of text messages sent.\n",
    "<br>\n",
    "<br>\n",
    "<b>GB's</b>\n",
    "- &nbsp;&nbsp;&nbsp;&nbsp;The volume of internet GB's used, per month, between the two plans, stays about the same, for the first two months of the year, then, in March, the users of both plans start using a lot more GB's. This trend continues, going upward, each month, and by December, the users of the Surf plan are using twice as much GB's as the users of the Ultimate plan. For both plans, the lowest usage of GB's in January, and highest is December.\n",
    "<br>\n",
    "<br>\n",
    "<b>The hypothesis testing also proved that the revenue, between users of the New York - New Jersey area, is NOT the same as rest of the users' geographic locations. The New York - New Jersey area brings in more revenue than all the other locations combined.</b>\n",
    "<br>\n",
    "<br>\n",
    "<b>So which plan is better?</b>\n",
    "<br>\n",
    "<br>\n",
    "- &nbsp;&nbsp;&nbsp;&nbsp;The answer depends on who you ask. For a user, it would be better to go with the Ultimate plan, and pay the extra $50 per month, rather than accrue all of the overage charges. For the Megaline company, the Surf is better, because this plan brings in more revenue, so that is the better plan, from their perspective. \n",
    "</div></font color>\n",
    "\n",
    "\n",
    "\n",
    "\n",
    "\n",
    "\n",
    "\n",
    "\n",
    "\n",
    "\n",
    "\n",
    "\n",
    "\n",
    "\n",
    "\n",
    "\n"
   ]
  }
 ],
 "metadata": {
  "kernelspec": {
   "display_name": "Python 3 (ipykernel)",
   "language": "python",
   "name": "python3"
  },
  "language_info": {
   "codemirror_mode": {
    "name": "ipython",
    "version": 3
   },
   "file_extension": ".py",
   "mimetype": "text/x-python",
   "name": "python",
   "nbconvert_exporter": "python",
   "pygments_lexer": "ipython3",
   "version": "3.11.7"
  }
 },
 "nbformat": 4,
 "nbformat_minor": 5
}
